{
 "cells": [
  {
   "cell_type": "markdown",
   "metadata": {},
   "source": [
    "# WeatherPy\n",
    "----\n",
    "\n",
    "Data Analysis:"
   ]
  },
  {
   "cell_type": "code",
   "execution_count": 1,
   "metadata": {
    "scrolled": true
   },
   "outputs": [],
   "source": [
    "\n",
    "# Dependencies and Setup\n",
    "import matplotlib.pyplot as plt\n",
    "import pandas as pd\n",
    "import numpy as np\n",
    "import requests\n",
    "import time\n",
    "from scipy.stats import linregress\n",
    "\n",
    "# Import API key\n",
    "from api_keys import weather_api_key\n",
    "\n",
    "# Incorporated citipy to determine city based on latitude and longitude\n",
    "from citipy import citipy\n",
    "\n",
    "# Output File (CSV)\n",
    "output_data_file = \"output_data/cities.csv\"\n",
    "\n",
    "# Range of latitudes and longitudes\n",
    "lat_range = (-90, 90)\n",
    "lng_range = (-180, 180)"
   ]
  },
  {
   "cell_type": "markdown",
   "metadata": {},
   "source": [
    "## Generate Cities List"
   ]
  },
  {
   "cell_type": "code",
   "execution_count": 2,
   "metadata": {},
   "outputs": [
    {
     "data": {
      "text/plain": [
       "605"
      ]
     },
     "execution_count": 2,
     "metadata": {},
     "output_type": "execute_result"
    }
   ],
   "source": [
    "# List for holding lat_lngs and cities\n",
    "lat_lngs = []\n",
    "cities = []\n",
    "\n",
    "# Create a set of random lat and lng combinations\n",
    "lats = np.random.uniform(lat_range[0], lat_range[1], size=1500)\n",
    "lngs = np.random.uniform(lng_range[0], lng_range[1], size=1500)\n",
    "lat_lngs = zip(lats, lngs)\n",
    "\n",
    "# Identify nearest city for each lat, lng combination\n",
    "for lat_lng in lat_lngs:\n",
    "    city = citipy.nearest_city(lat_lng[0], lat_lng[1]).city_name\n",
    "    \n",
    "    # If the city is unique, then add it to a our cities list\n",
    "    if city not in cities:\n",
    "        cities.append(city)\n",
    "\n",
    "# Print the city count to confirm sufficient count\n",
    "len(cities)\n",
    "#mini_cities = cities[:50]\n",
    "#mini_cities"
   ]
  },
  {
   "cell_type": "markdown",
   "metadata": {},
   "source": [
    "### Perform API Calls\n",
    "* Perform a weather check on each city using a series of successive API calls.\n",
    "* Include a print log of each city as it'sbeing processed (with the city number and city name).\n"
   ]
  },
  {
   "cell_type": "code",
   "execution_count": 4,
   "metadata": {
    "scrolled": true
   },
   "outputs": [
    {
     "name": "stdout",
     "output_type": "stream",
     "text": [
      "Beginning Data Retrieval\n",
      "\n",
      "Processing Record 0 | vaini\n",
      "Processing Record 1 | barrow\n",
      "Processing Record 2 | rikitea\n",
      "Processing Record 3 | san patricio\n",
      "Processing Record 4 | palmerston\n",
      "Processing Record 5 | jamestown\n",
      "Processing Record 6 | bredasdorp\n",
      "Processing Record 7 | nikolskoye\n",
      "Processing Record 8 | okhotsk\n",
      "Processing Record 9 | rantepao\n",
      "Processing Record 10 | hobart\n",
      "Processing Record 11 | kodino\n",
      "Processing Record 12 | amderma\n",
      "City not found!\n",
      "Processing Record 13 | new norfolk\n",
      "Processing Record 14 | kasempa\n",
      "Processing Record 15 | bandarbeyla\n",
      "Processing Record 16 | dipkarpaz\n",
      "City not found!\n",
      "Processing Record 17 | kyra\n",
      "Processing Record 18 | punta arenas\n",
      "Processing Record 19 | cherskiy\n",
      "Processing Record 20 | bengkulu\n",
      "Processing Record 21 | belushya guba\n",
      "City not found!\n",
      "Processing Record 22 | maloshuyka\n",
      "City not found!\n",
      "Processing Record 23 | butaritari\n",
      "Processing Record 24 | ponta do sol\n",
      "Processing Record 25 | codrington\n",
      "Processing Record 26 | yermakovskoye\n",
      "Processing Record 27 | mys shmidta\n",
      "City not found!\n",
      "Processing Record 28 | alofi\n",
      "Processing Record 29 | tashtagol\n",
      "Processing Record 30 | toftir\n",
      "City not found!\n",
      "Processing Record 31 | tyup\n",
      "Processing Record 32 | grindavik\n",
      "Processing Record 33 | los dos caminos\n",
      "Processing Record 34 | warqla\n",
      "City not found!\n",
      "Processing Record 35 | chokurdakh\n",
      "Processing Record 36 | bluff\n",
      "Processing Record 37 | lima\n",
      "Processing Record 38 | east retford\n",
      "Processing Record 39 | kaduqli\n",
      "Processing Record 40 | ribeira grande\n",
      "Processing Record 41 | alyangula\n",
      "Processing Record 42 | eyrarbakki\n",
      "Processing Record 43 | east london\n",
      "Processing Record 44 | atuona\n",
      "Processing Record 45 | vaitupu\n",
      "City not found!\n",
      "Processing Record 46 | kodiak\n",
      "Processing Record 47 | mahebourg\n",
      "Processing Record 48 | greenville\n",
      "Processing Record 49 | kaspi\n",
      "Processing Record 50 | albany\n",
      "Processing Record 51 | asau\n",
      "Processing Record 52 | barentsburg\n",
      "City not found!\n",
      "Processing Record 53 | sistranda\n",
      "Processing Record 54 | vila velha\n",
      "Processing Record 55 | sankt johann im pongau\n",
      "Processing Record 56 | macapa\n",
      "Processing Record 57 | navalmoral de la mata\n",
      "Processing Record 58 | kalia\n",
      "Processing Record 59 | pishin\n",
      "Processing Record 60 | monster\n",
      "Processing Record 61 | ilulissat\n",
      "Processing Record 62 | puerto leguizamo\n",
      "Processing Record 63 | coahuayana\n",
      "Processing Record 64 | juneau\n",
      "Processing Record 65 | bolungarvik\n",
      "City not found!\n",
      "Processing Record 66 | frederico westphalen\n",
      "Processing Record 67 | ushuaia\n",
      "Processing Record 68 | cockburn town\n",
      "Processing Record 69 | longyearbyen\n",
      "Processing Record 70 | kavieng\n",
      "Processing Record 71 | illoqqortoormiut\n",
      "City not found!\n",
      "Processing Record 72 | grand forks\n",
      "Processing Record 73 | victoria\n",
      "Processing Record 74 | kichera\n",
      "Processing Record 75 | zhuhai\n",
      "Processing Record 76 | pemangkat\n",
      "Processing Record 77 | qaanaaq\n",
      "Processing Record 78 | hermitage\n",
      "Processing Record 79 | puerto ayora\n",
      "Processing Record 80 | hermanus\n",
      "Processing Record 81 | ugoofaaru\n",
      "Processing Record 82 | tasiilaq\n",
      "Processing Record 83 | hithadhoo\n",
      "Processing Record 84 | yellowknife\n",
      "Processing Record 85 | mar del plata\n",
      "Processing Record 86 | faya\n",
      "Processing Record 87 | dicabisagan\n",
      "Processing Record 88 | esperance\n",
      "Processing Record 89 | olafsvik\n",
      "Processing Record 90 | dzilam gonzalez\n",
      "Processing Record 91 | mataura\n",
      "Processing Record 92 | saint-philippe\n",
      "Processing Record 93 | upernavik\n",
      "Processing Record 94 | umzimvubu\n",
      "City not found!\n",
      "Processing Record 95 | bur gabo\n",
      "City not found!\n",
      "Processing Record 96 | rumphi\n",
      "Processing Record 97 | maniitsoq\n",
      "Processing Record 98 | budogoshch\n",
      "Processing Record 99 | hofn\n",
      "Processing Record 100 | kawalu\n",
      "Processing Record 101 | ponta delgada\n",
      "Processing Record 102 | taolanaro\n",
      "City not found!\n",
      "Processing Record 103 | cape town\n",
      "Processing Record 104 | salta\n",
      "Processing Record 105 | avarua\n",
      "Processing Record 106 | nova olimpia\n",
      "Processing Record 107 | khatanga\n",
      "Processing Record 108 | lebu\n",
      "Processing Record 109 | marzuq\n",
      "Processing Record 110 | busselton\n",
      "Processing Record 111 | lichtenburg\n",
      "Processing Record 112 | deputatskiy\n",
      "Processing Record 113 | carnarvon\n",
      "Processing Record 114 | leh\n",
      "Processing Record 115 | lagoa\n",
      "Processing Record 116 | colares\n",
      "Processing Record 117 | bethel\n",
      "Processing Record 118 | torbay\n",
      "Processing Record 119 | yancheng\n",
      "Processing Record 120 | port alfred\n",
      "Processing Record 121 | hilo\n",
      "Processing Record 122 | narsaq\n",
      "Processing Record 123 | tuatapere\n",
      "Processing Record 124 | castro\n",
      "Processing Record 125 | arraial do cabo\n",
      "Processing Record 126 | luderitz\n",
      "Processing Record 127 | murgab\n",
      "Processing Record 128 | shelburne\n",
      "Processing Record 129 | aquiraz\n",
      "Processing Record 130 | severo-kurilsk\n",
      "Processing Record 131 | kaitangata\n",
      "Processing Record 132 | nokha\n",
      "Processing Record 133 | port-gentil\n",
      "Processing Record 134 | myanaung\n",
      "Processing Record 135 | punta alta\n",
      "Processing Record 136 | hailey\n",
      "Processing Record 137 | rezekne\n",
      "Processing Record 138 | carutapera\n",
      "Processing Record 139 | kapaa\n",
      "Processing Record 140 | chuy\n",
      "Processing Record 141 | takoradi\n",
      "Processing Record 142 | douentza\n",
      "Processing Record 143 | gat\n",
      "Processing Record 144 | brae\n",
      "Processing Record 145 | yumen\n",
      "Processing Record 146 | constitucion\n",
      "Processing Record 147 | fortuna\n",
      "Processing Record 148 | tiksi\n",
      "Processing Record 149 | tuktoyaktuk\n",
      "Processing Record 150 | chickasha\n",
      "Processing Record 151 | saldanha\n",
      "Processing Record 152 | skjeberg\n",
      "Processing Record 153 | ostrovnoy\n",
      "Processing Record 154 | nyurba\n",
      "Processing Record 155 | pangnirtung\n",
      "Processing Record 156 | lavrentiya\n",
      "Processing Record 157 | vardo\n",
      "Processing Record 158 | beringovskiy\n",
      "Processing Record 159 | shimoda\n",
      "Processing Record 160 | hueytamalco\n",
      "Processing Record 161 | nizhneyansk\n",
      "City not found!\n",
      "Processing Record 162 | smithers\n",
      "Processing Record 163 | hibbing\n",
      "Processing Record 164 | tolstoy-yurt\n",
      "Processing Record 165 | urumqi\n",
      "Processing Record 166 | tuy hoa\n",
      "Processing Record 167 | paamiut\n",
      "Processing Record 168 | norman wells\n",
      "Processing Record 169 | noumea\n",
      "Processing Record 170 | puerto colombia\n",
      "Processing Record 171 | isangel\n",
      "Processing Record 172 | maceio\n",
      "Processing Record 173 | biltine\n",
      "Processing Record 174 | chunskiy\n",
      "Processing Record 175 | cabo san lucas\n",
      "Processing Record 176 | elizabeth city\n",
      "Processing Record 177 | phan rang\n",
      "City not found!\n",
      "Processing Record 178 | itarema\n",
      "Processing Record 179 | thompson\n",
      "Processing Record 180 | dzhusaly\n",
      "City not found!\n",
      "Processing Record 181 | batagay-alyta\n",
      "Processing Record 182 | korla\n",
      "Processing Record 183 | dikson\n",
      "Processing Record 184 | mareeba\n",
      "Processing Record 185 | point pleasant\n",
      "Processing Record 186 | yei\n",
      "Processing Record 187 | mendi\n",
      "Processing Record 188 | irbit\n",
      "Processing Record 189 | georgetown\n",
      "Processing Record 190 | ulladulla\n",
      "Processing Record 191 | awbari\n",
      "Processing Record 192 | mouzakion\n",
      "City not found!\n",
      "Processing Record 193 | lethem\n",
      "Processing Record 194 | husavik\n",
      "Processing Record 195 | hovd\n",
      "Processing Record 196 | bathsheba\n",
      "Processing Record 197 | marcona\n",
      "City not found!\n",
      "Processing Record 198 | waw\n",
      "Processing Record 199 | nim ka thana\n",
      "City not found!\n",
      "Processing Record 200 | acarau\n",
      "Processing Record 201 | kuva\n",
      "City not found!\n",
      "Processing Record 202 | pisco\n",
      "Processing Record 203 | tumannyy\n",
      "City not found!\n",
      "Processing Record 204 | kalakamati\n",
      "Processing Record 205 | sangar\n",
      "Processing Record 206 | ambon\n",
      "Processing Record 207 | agirish\n",
      "Processing Record 208 | la ronge\n",
      "Processing Record 209 | ketchikan\n",
      "Processing Record 210 | klaksvik\n",
      "Processing Record 211 | boyolangu\n",
      "Processing Record 212 | pingzhuang\n",
      "Processing Record 213 | avera\n",
      "Processing Record 214 | qujing\n",
      "Processing Record 215 | nabul\n",
      "City not found!\n",
      "Processing Record 216 | san quintin\n",
      "Processing Record 217 | japura\n",
      "Processing Record 218 | panzhihua\n",
      "Processing Record 219 | bukachacha\n",
      "Processing Record 220 | sao felix do xingu\n",
      "Processing Record 221 | salyan\n",
      "Processing Record 222 | vera cruz\n",
      "Processing Record 223 | martin\n",
      "Processing Record 224 | bud\n",
      "Processing Record 225 | grand river south east\n",
      "City not found!\n",
      "Processing Record 226 | adeje\n",
      "Processing Record 227 | quelimane\n",
      "Processing Record 228 | atka\n",
      "City not found!\n",
      "Processing Record 229 | aranos\n",
      "Processing Record 230 | bhakkar\n",
      "Processing Record 231 | cowra\n",
      "Processing Record 232 | carlyle\n",
      "Processing Record 233 | sao filipe\n",
      "Processing Record 234 | pevek\n",
      "Processing Record 235 | trincomalee\n"
     ]
    },
    {
     "name": "stdout",
     "output_type": "stream",
     "text": [
      "Processing Record 236 | nelson bay\n",
      "Processing Record 237 | biratnagar\n",
      "Processing Record 238 | balaipungut\n",
      "Processing Record 239 | rundu\n",
      "Processing Record 240 | rincon\n",
      "Processing Record 241 | hambantota\n",
      "Processing Record 242 | chara\n",
      "Processing Record 243 | chapais\n",
      "Processing Record 244 | sitka\n",
      "Processing Record 245 | buariki\n",
      "City not found!\n",
      "Processing Record 246 | jati\n",
      "Processing Record 247 | salisbury\n",
      "Processing Record 248 | nedjo\n",
      "Processing Record 249 | araouane\n",
      "Processing Record 250 | port elizabeth\n",
      "Processing Record 251 | kutum\n",
      "Processing Record 252 | winton\n",
      "Processing Record 253 | beipiao\n",
      "Processing Record 254 | livingston\n",
      "Processing Record 255 | ambilobe\n",
      "Processing Record 256 | ixtapa\n",
      "Processing Record 257 | cidreira\n",
      "Processing Record 258 | sukumo\n",
      "Processing Record 259 | aklavik\n",
      "Processing Record 260 | madison heights\n",
      "Processing Record 261 | strezhevoy\n",
      "Processing Record 262 | ystad\n",
      "Processing Record 263 | monkey bay\n",
      "Processing Record 264 | dunmore east\n",
      "Processing Record 265 | mehriz\n",
      "Processing Record 266 | sorvag\n",
      "City not found!\n",
      "Processing Record 267 | komsomolskiy\n",
      "Processing Record 268 | isiro\n",
      "Processing Record 269 | saskylakh\n",
      "Processing Record 270 | north bend\n",
      "Processing Record 271 | karauli\n",
      "Processing Record 272 | clyde river\n",
      "Processing Record 273 | praya\n",
      "Processing Record 274 | port hardy\n",
      "Processing Record 275 | faanui\n",
      "Processing Record 276 | perth\n",
      "Processing Record 277 | gazanjyk\n",
      "Processing Record 278 | leningradskiy\n",
      "Processing Record 279 | teya\n",
      "Processing Record 280 | roma\n",
      "Processing Record 281 | rio grande\n",
      "Processing Record 282 | senmonorom\n",
      "City not found!\n",
      "Processing Record 283 | college\n",
      "Processing Record 284 | padang\n",
      "Processing Record 285 | xining\n",
      "Processing Record 286 | xinyu\n",
      "Processing Record 287 | port macquarie\n",
      "Processing Record 288 | lashio\n",
      "Processing Record 289 | apple valley\n",
      "Processing Record 290 | talawdi\n",
      "City not found!\n",
      "Processing Record 291 | charters towers\n",
      "Processing Record 292 | souillac\n",
      "Processing Record 293 | virginia beach\n",
      "Processing Record 294 | shache\n",
      "Processing Record 295 | qunduz\n",
      "Processing Record 296 | allanmyo\n",
      "City not found!\n",
      "Processing Record 297 | egvekinot\n",
      "Processing Record 298 | margate\n",
      "Processing Record 299 | deep river\n",
      "Processing Record 300 | talara\n",
      "Processing Record 301 | alta floresta\n",
      "Processing Record 302 | richards bay\n",
      "Processing Record 303 | acajutla\n",
      "Processing Record 304 | tabiauea\n",
      "City not found!\n",
      "Processing Record 305 | finschhafen\n",
      "Processing Record 306 | baie-comeau\n",
      "Processing Record 307 | cayenne\n",
      "Processing Record 308 | kathu\n",
      "Processing Record 309 | valparaiso\n",
      "Processing Record 310 | kasongo-lunda\n",
      "Processing Record 311 | am timan\n",
      "Processing Record 312 | geraldton\n",
      "Processing Record 313 | matsusaka\n",
      "Processing Record 314 | bay roberts\n",
      "Processing Record 315 | kamenka\n",
      "Processing Record 316 | camacari\n",
      "Processing Record 317 | miyako\n",
      "Processing Record 318 | kudahuvadhoo\n",
      "Processing Record 319 | marovoay\n",
      "Processing Record 320 | raga\n",
      "Processing Record 321 | touros\n",
      "Processing Record 322 | comodoro rivadavia\n",
      "Processing Record 323 | tessalit\n",
      "Processing Record 324 | barinas\n",
      "Processing Record 325 | killybegs\n",
      "Processing Record 326 | yarkovo\n",
      "Processing Record 327 | maloyaroslavets\n",
      "Processing Record 328 | kruisfontein\n",
      "Processing Record 329 | sumenep\n",
      "Processing Record 330 | esna\n",
      "Processing Record 331 | trinidad\n",
      "Processing Record 332 | san ramon\n",
      "Processing Record 333 | kalengwa\n",
      "Processing Record 334 | manggar\n",
      "Processing Record 335 | tiznit\n",
      "Processing Record 336 | tsaratanana\n",
      "Processing Record 337 | saint george\n",
      "Processing Record 338 | plettenberg bay\n",
      "Processing Record 339 | almenara\n",
      "Processing Record 340 | santa isabel do rio negro\n",
      "Processing Record 341 | byron bay\n",
      "Processing Record 342 | sibolga\n",
      "Processing Record 343 | usinsk\n",
      "Processing Record 344 | khandyga\n",
      "Processing Record 345 | progreso\n",
      "Processing Record 346 | anar darreh\n",
      "City not found!\n",
      "Processing Record 347 | bairiki\n",
      "Processing Record 348 | coquimbo\n",
      "Processing Record 349 | basco\n",
      "Processing Record 350 | jumla\n",
      "Processing Record 351 | madimba\n",
      "Processing Record 352 | boa vista\n",
      "Processing Record 353 | fereydun kenar\n",
      "Processing Record 354 | berlevag\n",
      "Processing Record 355 | te anau\n",
      "Processing Record 356 | naryan-mar\n",
      "Processing Record 357 | airai\n",
      "Processing Record 358 | humen\n",
      "Processing Record 359 | salalah\n",
      "Processing Record 360 | lata\n",
      "Processing Record 361 | sao gabriel da cachoeira\n",
      "Processing Record 362 | kidal\n",
      "Processing Record 363 | saint anthony\n",
      "Processing Record 364 | jinchengjiang\n",
      "City not found!\n",
      "Processing Record 365 | flinders\n",
      "Processing Record 366 | hamilton\n",
      "Processing Record 367 | zolotkovo\n",
      "Processing Record 368 | adrar\n",
      "Processing Record 369 | turayf\n",
      "Processing Record 370 | fort nelson\n",
      "Processing Record 371 | messina\n",
      "Processing Record 372 | marang\n",
      "Processing Record 373 | saint-pierre\n",
      "Processing Record 374 | namibe\n",
      "Processing Record 375 | ahuimanu\n",
      "Processing Record 376 | mirnyy\n",
      "Processing Record 377 | nanortalik\n",
      "Processing Record 378 | bure\n",
      "Processing Record 379 | togur\n",
      "Processing Record 380 | nalut\n",
      "Processing Record 381 | mecca\n",
      "Processing Record 382 | polson\n",
      "Processing Record 383 | attawapiskat\n",
      "City not found!\n",
      "Processing Record 384 | tarnogskiy gorodok\n",
      "Processing Record 385 | buala\n",
      "Processing Record 386 | hasaki\n",
      "Processing Record 387 | ivdel\n",
      "Processing Record 388 | baruun-urt\n",
      "Processing Record 389 | ardistan\n",
      "City not found!\n",
      "Processing Record 390 | katangli\n",
      "Processing Record 391 | udachnyy\n",
      "Processing Record 392 | sao jose de ribamar\n",
      "Processing Record 393 | kaeo\n",
      "Processing Record 394 | cacador\n",
      "Processing Record 395 | saleaula\n",
      "City not found!\n",
      "Processing Record 396 | pontal do parana\n",
      "Processing Record 397 | gambela\n",
      "Processing Record 398 | joetsu\n",
      "Processing Record 399 | pizhanka\n",
      "Processing Record 400 | hetauda\n",
      "Processing Record 401 | lorengau\n",
      "Processing Record 402 | sheffield\n",
      "Processing Record 403 | vaasa\n",
      "Processing Record 404 | sargatskoye\n",
      "Processing Record 405 | camana\n",
      "Processing Record 406 | provideniya\n",
      "Processing Record 407 | north myrtle beach\n",
      "Processing Record 408 | aqtobe\n",
      "Processing Record 409 | aksarka\n",
      "Processing Record 410 | dauphin\n",
      "Processing Record 411 | sao joao da barra\n",
      "Processing Record 412 | wilmington\n",
      "Processing Record 413 | salinas\n",
      "Processing Record 414 | coxquihui\n",
      "Processing Record 415 | taoudenni\n",
      "Processing Record 416 | thinadhoo\n",
      "Processing Record 417 | zhigansk\n",
      "Processing Record 418 | samarai\n",
      "Processing Record 419 | hun\n",
      "Processing Record 420 | kindu\n",
      "Processing Record 421 | kamaishi\n",
      "Processing Record 422 | hervey bay\n",
      "Processing Record 423 | oppdal\n",
      "Processing Record 424 | aykhal\n",
      "Processing Record 425 | dingle\n",
      "Processing Record 426 | auki\n",
      "Processing Record 427 | jurado\n",
      "Processing Record 428 | nefteyugansk\n",
      "Processing Record 429 | tsihombe\n",
      "City not found!\n",
      "Processing Record 430 | melfi\n",
      "Processing Record 431 | polewali\n",
      "Processing Record 432 | riyadh\n",
      "Processing Record 433 | shenkursk\n",
      "Processing Record 434 | high level\n",
      "Processing Record 435 | jiaocheng\n",
      "Processing Record 436 | katsuura\n",
      "Processing Record 437 | muroto\n",
      "Processing Record 438 | buqayq\n",
      "City not found!\n",
      "Processing Record 439 | sentyabrskiy\n",
      "City not found!\n",
      "Processing Record 440 | ararangua\n",
      "Processing Record 441 | tarauaca\n",
      "Processing Record 442 | makat\n",
      "Processing Record 443 | roswell\n",
      "Processing Record 444 | broome\n",
      "Processing Record 445 | port hedland\n",
      "Processing Record 446 | razdolinsk\n",
      "Processing Record 447 | wyndham\n",
      "Processing Record 448 | caravelas\n",
      "Processing Record 449 | utiroa\n",
      "City not found!\n",
      "Processing Record 450 | westport\n",
      "Processing Record 451 | shenjiamen\n",
      "Processing Record 452 | srandakan\n",
      "Processing Record 453 | mandalgovi\n",
      "Processing Record 454 | dax\n",
      "Processing Record 455 | sanmenxia\n",
      "Processing Record 456 | manamadurai\n",
      "Processing Record 457 | muros\n",
      "Processing Record 458 | solton\n",
      "Processing Record 459 | edd\n",
      "Processing Record 460 | louisbourg\n",
      "City not found!\n",
      "Processing Record 461 | shingu\n",
      "Processing Record 462 | nome\n",
      "Processing Record 463 | mehamn\n",
      "Processing Record 464 | samusu\n",
      "City not found!\n",
      "Processing Record 465 | ahipara\n",
      "Processing Record 466 | kirakira\n",
      "Processing Record 467 | kintinku\n",
      "Processing Record 468 | kungurtug\n",
      "Processing Record 469 | sarangani\n",
      "Processing Record 470 | sola\n",
      "Processing Record 471 | baykit\n",
      "Processing Record 472 | haines junction\n",
      "Processing Record 473 | jinchang\n"
     ]
    },
    {
     "name": "stdout",
     "output_type": "stream",
     "text": [
      "Processing Record 474 | laizhou\n",
      "Processing Record 475 | khor\n",
      "Processing Record 476 | moron\n",
      "Processing Record 477 | enid\n",
      "Processing Record 478 | taltal\n",
      "Processing Record 479 | chagda\n",
      "City not found!\n",
      "Processing Record 480 | owando\n",
      "Processing Record 481 | nabire\n",
      "Processing Record 482 | cheney\n",
      "Processing Record 483 | tutoia\n",
      "Processing Record 484 | marsabit\n",
      "Processing Record 485 | grand bend\n",
      "Processing Record 486 | jieshi\n",
      "Processing Record 487 | temerloh\n",
      "Processing Record 488 | madisonville\n",
      "Processing Record 489 | mount isa\n",
      "Processing Record 490 | kloulklubed\n",
      "Processing Record 491 | kahului\n",
      "Processing Record 492 | batsfjord\n",
      "Processing Record 493 | namatanai\n",
      "Processing Record 494 | hualmay\n",
      "Processing Record 495 | amlame\n",
      "Processing Record 496 | vanavara\n",
      "Processing Record 497 | laguna\n",
      "Processing Record 498 | xichang\n",
      "Processing Record 499 | bara\n",
      "Processing Record 500 | kazalinsk\n",
      "City not found!\n",
      "Processing Record 501 | cartagena\n",
      "Processing Record 502 | trelaze\n",
      "Processing Record 503 | marawi\n",
      "Processing Record 504 | rapid valley\n",
      "Processing Record 505 | moyale\n",
      "Processing Record 506 | mugur-aksy\n",
      "Processing Record 507 | kieta\n",
      "Processing Record 508 | surenavan\n",
      "Processing Record 509 | middleton\n",
      "Processing Record 510 | den helder\n",
      "Processing Record 511 | manacapuru\n",
      "Processing Record 512 | kampot\n",
      "Processing Record 513 | innisfail\n",
      "Processing Record 514 | talnakh\n",
      "Processing Record 515 | muscat\n",
      "Processing Record 516 | voljevac\n",
      "Processing Record 517 | vestmannaeyjar\n",
      "Processing Record 518 | ambodifototra\n",
      "City not found!\n",
      "Processing Record 519 | praia\n",
      "Processing Record 520 | ulu tiram\n",
      "Processing Record 521 | kununurra\n",
      "Processing Record 522 | kabo\n",
      "Processing Record 523 | lompoc\n",
      "Processing Record 524 | baglung\n",
      "Processing Record 525 | hokitika\n",
      "Processing Record 526 | sirajganj\n",
      "Processing Record 527 | ashta\n",
      "Processing Record 528 | awjilah\n",
      "Processing Record 529 | kamenskoye\n",
      "City not found!\n",
      "Processing Record 530 | mandurah\n",
      "Processing Record 531 | bondo\n",
      "Processing Record 532 | phu ly\n",
      "Processing Record 533 | arlit\n",
      "Processing Record 534 | san luis\n",
      "Processing Record 535 | mondovi\n",
      "Processing Record 536 | moengo\n",
      "Processing Record 537 | gizo\n",
      "Processing Record 538 | manjacaze\n",
      "Processing Record 539 | maragogi\n",
      "Processing Record 540 | coihaique\n",
      "Processing Record 541 | cochrane\n",
      "Processing Record 542 | grand gaube\n",
      "Processing Record 543 | high rock\n",
      "Processing Record 544 | havre\n",
      "Processing Record 545 | guerrero negro\n",
      "Processing Record 546 | scarborough\n",
      "Processing Record 547 | tacna\n",
      "Processing Record 548 | ocos\n",
      "Processing Record 549 | samalaeulu\n",
      "City not found!\n",
      "Processing Record 550 | nandaime\n",
      "Processing Record 551 | joigny\n",
      "Processing Record 552 | caledonia\n",
      "Processing Record 553 | escarcega\n",
      "Processing Record 554 | skjervoy\n",
      "Processing Record 555 | great bend\n",
      "Processing Record 556 | nemuro\n",
      "Processing Record 557 | singapore\n",
      "Processing Record 558 | palabuhanratu\n",
      "City not found!\n",
      "Processing Record 559 | beian\n",
      "Processing Record 560 | quatre cocos\n",
      "Processing Record 561 | hami\n",
      "Processing Record 562 | meyungs\n",
      "City not found!\n",
      "Processing Record 563 | haimen\n",
      "Processing Record 564 | nola\n",
      "Processing Record 565 | standerton\n",
      "Processing Record 566 | bambous virieux\n",
      "Processing Record 567 | aleksandrov gay\n",
      "Processing Record 568 | burica\n",
      "City not found!\n",
      "Processing Record 569 | nizwa\n",
      "Processing Record 570 | balkanabat\n",
      "Processing Record 571 | mount gambier\n",
      "Processing Record 572 | tukrah\n",
      "Processing Record 573 | mayor pablo lagerenza\n",
      "Processing Record 574 | kolosovka\n",
      "Processing Record 575 | artyk\n",
      "City not found!\n",
      "Processing Record 576 | ancud\n",
      "Processing Record 577 | kalabo\n",
      "Processing Record 578 | sabaudia\n",
      "Processing Record 579 | port keats\n",
      "Processing Record 580 | robertsport\n",
      "Processing Record 581 | waipawa\n",
      "Processing Record 582 | karamea\n",
      "City not found!\n",
      "Processing Record 583 | bucerias\n",
      "Processing Record 584 | mantua\n",
      "Processing Record 585 | halifax\n",
      "Processing Record 586 | aksay\n",
      "Processing Record 587 | yarmouth\n",
      "Processing Record 588 | iqaluit\n",
      "Processing Record 589 | entre rios\n",
      "Processing Record 590 | bilibino\n",
      "Processing Record 591 | ampanihy\n",
      "Processing Record 592 | maneromango\n",
      "Processing Record 593 | morondava\n",
      "Processing Record 594 | petropavlovsk-kamchatskiy\n",
      "Processing Record 595 | sambava\n",
      "Processing Record 596 | dudinka\n",
      "Processing Record 597 | bagenalstown\n",
      "Processing Record 598 | linqiong\n",
      "Processing Record 599 | inhambane\n",
      "Processing Record 600 | waddan\n",
      "Processing Record 601 | half moon bay\n",
      "Processing Record 602 | lamar\n",
      "Processing Record 603 | sidi ali\n",
      "Processing Record 604 | tumen\n"
     ]
    }
   ],
   "source": [
    "# Save config information.\n",
    "url = \"http://api.openweathermap.org/data/2.5/weather?\"\n",
    "units = \"imperial\"\n",
    "\n",
    "# Build partial query URL\n",
    "query_url = f\"{url}appid={weather_api_key}&units={units}&q=\"\n",
    "\n",
    "# set up lists to hold reponse info\n",
    "name = []\n",
    "lat = []\n",
    "long = []\n",
    "max_temp = []\n",
    "humid = []\n",
    "clouds = []\n",
    "winds = []\n",
    "country = []\n",
    "date = []\n",
    "\n",
    "# Loop through the list of cities and perform a request for data on each\n",
    "print(\"Beginning Data Retrieval\\n\")\n",
    "\n",
    "for city in cities:\n",
    "    print(\"Processing Record \" + str(cities.index(city)) + \" | \" + city)\n",
    "    response = requests.get(query_url + city).json()\n",
    "    \n",
    "    try:\n",
    "        name.append(response['name'])\n",
    "        lat.append(response['coord']['lat'])\n",
    "        long.append(response['coord']['lon'])\n",
    "        max_temp.append(response['main']['temp_max'])\n",
    "        humid.append(response['main']['humidity'])\n",
    "        clouds.append(response['clouds']['all'])\n",
    "        winds.append(response['wind']['speed'])\n",
    "        country.append(response['sys']['country'])\n",
    "        date.append(response['dt'])\n",
    "        \n",
    "        time.sleep(1.01)\n",
    "        \n",
    "    except(KeyError):\n",
    "        print(\"City not found!\")\n",
    "        pass\n",
    "    \n",
    "    \n",
    "#response"
   ]
  },
  {
   "cell_type": "markdown",
   "metadata": {},
   "source": [
    "### Convert Raw Data to DataFrame\n",
    "* Export the city data into a .csv.\n",
    "* Display the DataFrame"
   ]
  },
  {
   "cell_type": "code",
   "execution_count": 5,
   "metadata": {},
   "outputs": [
    {
     "data": {
      "text/html": [
       "<div>\n",
       "<style scoped>\n",
       "    .dataframe tbody tr th:only-of-type {\n",
       "        vertical-align: middle;\n",
       "    }\n",
       "\n",
       "    .dataframe tbody tr th {\n",
       "        vertical-align: top;\n",
       "    }\n",
       "\n",
       "    .dataframe thead th {\n",
       "        text-align: right;\n",
       "    }\n",
       "</style>\n",
       "<table border=\"1\" class=\"dataframe\">\n",
       "  <thead>\n",
       "    <tr style=\"text-align: right;\">\n",
       "      <th></th>\n",
       "      <th>City</th>\n",
       "      <th>Lat</th>\n",
       "      <th>Lng</th>\n",
       "      <th>Max Temp</th>\n",
       "      <th>Humidity</th>\n",
       "      <th>Cloudiness</th>\n",
       "      <th>Wind Speed</th>\n",
       "      <th>Country</th>\n",
       "      <th>Date</th>\n",
       "    </tr>\n",
       "  </thead>\n",
       "  <tbody>\n",
       "    <tr>\n",
       "      <th>0</th>\n",
       "      <td>Vaini</td>\n",
       "      <td>-21.2000</td>\n",
       "      <td>-175.2000</td>\n",
       "      <td>73.40</td>\n",
       "      <td>94</td>\n",
       "      <td>75</td>\n",
       "      <td>10.36</td>\n",
       "      <td>TO</td>\n",
       "      <td>1612633821</td>\n",
       "    </tr>\n",
       "    <tr>\n",
       "      <th>1</th>\n",
       "      <td>Barrow</td>\n",
       "      <td>71.2906</td>\n",
       "      <td>-156.7887</td>\n",
       "      <td>-0.40</td>\n",
       "      <td>71</td>\n",
       "      <td>90</td>\n",
       "      <td>10.36</td>\n",
       "      <td>US</td>\n",
       "      <td>1612633789</td>\n",
       "    </tr>\n",
       "    <tr>\n",
       "      <th>2</th>\n",
       "      <td>Rikitea</td>\n",
       "      <td>-23.1203</td>\n",
       "      <td>-134.9692</td>\n",
       "      <td>77.65</td>\n",
       "      <td>74</td>\n",
       "      <td>100</td>\n",
       "      <td>12.37</td>\n",
       "      <td>PF</td>\n",
       "      <td>1612633748</td>\n",
       "    </tr>\n",
       "    <tr>\n",
       "      <th>3</th>\n",
       "      <td>San Patricio</td>\n",
       "      <td>28.0170</td>\n",
       "      <td>-97.5169</td>\n",
       "      <td>68.00</td>\n",
       "      <td>77</td>\n",
       "      <td>90</td>\n",
       "      <td>9.22</td>\n",
       "      <td>US</td>\n",
       "      <td>1612633825</td>\n",
       "    </tr>\n",
       "    <tr>\n",
       "      <th>4</th>\n",
       "      <td>Palmerston</td>\n",
       "      <td>-12.4860</td>\n",
       "      <td>130.9833</td>\n",
       "      <td>82.40</td>\n",
       "      <td>83</td>\n",
       "      <td>75</td>\n",
       "      <td>11.50</td>\n",
       "      <td>AU</td>\n",
       "      <td>1612633827</td>\n",
       "    </tr>\n",
       "  </tbody>\n",
       "</table>\n",
       "</div>"
      ],
      "text/plain": [
       "           City      Lat       Lng  Max Temp  Humidity  Cloudiness  \\\n",
       "0         Vaini -21.2000 -175.2000     73.40        94          75   \n",
       "1        Barrow  71.2906 -156.7887     -0.40        71          90   \n",
       "2       Rikitea -23.1203 -134.9692     77.65        74         100   \n",
       "3  San Patricio  28.0170  -97.5169     68.00        77          90   \n",
       "4    Palmerston -12.4860  130.9833     82.40        83          75   \n",
       "\n",
       "   Wind Speed Country        Date  \n",
       "0       10.36      TO  1612633821  \n",
       "1       10.36      US  1612633789  \n",
       "2       12.37      PF  1612633748  \n",
       "3        9.22      US  1612633825  \n",
       "4       11.50      AU  1612633827  "
      ]
     },
     "execution_count": 5,
     "metadata": {},
     "output_type": "execute_result"
    }
   ],
   "source": [
    "weather_dict = {\n",
    "    \"City\": name,\n",
    "    \"Lat\": lat,\n",
    "    \"Lng\": long,\n",
    "    \"Max Temp\": max_temp,\n",
    "    \"Humidity\": humid,\n",
    "    \"Cloudiness\": clouds,\n",
    "    \"Wind Speed\": winds,\n",
    "    \"Country\": country,\n",
    "    \"Date\": date\n",
    "}\n",
    "weather_data = pd.DataFrame(weather_dict)\n",
    "\n",
    "weather_data.to_csv(output_data_file)    \n",
    "#weather_data.iloc[1,4] = 200\n",
    "weather_data.head()"
   ]
  },
  {
   "cell_type": "code",
   "execution_count": 6,
   "metadata": {},
   "outputs": [
    {
     "data": {
      "text/html": [
       "<div>\n",
       "<style scoped>\n",
       "    .dataframe tbody tr th:only-of-type {\n",
       "        vertical-align: middle;\n",
       "    }\n",
       "\n",
       "    .dataframe tbody tr th {\n",
       "        vertical-align: top;\n",
       "    }\n",
       "\n",
       "    .dataframe thead th {\n",
       "        text-align: right;\n",
       "    }\n",
       "</style>\n",
       "<table border=\"1\" class=\"dataframe\">\n",
       "  <thead>\n",
       "    <tr style=\"text-align: right;\">\n",
       "      <th></th>\n",
       "      <th>Lat</th>\n",
       "      <th>Lng</th>\n",
       "      <th>Max Temp</th>\n",
       "      <th>Humidity</th>\n",
       "      <th>Cloudiness</th>\n",
       "      <th>Wind Speed</th>\n",
       "      <th>Date</th>\n",
       "    </tr>\n",
       "  </thead>\n",
       "  <tbody>\n",
       "    <tr>\n",
       "      <th>count</th>\n",
       "      <td>553.000000</td>\n",
       "      <td>553.000000</td>\n",
       "      <td>553.000000</td>\n",
       "      <td>553.000000</td>\n",
       "      <td>553.000000</td>\n",
       "      <td>553.000000</td>\n",
       "      <td>5.530000e+02</td>\n",
       "    </tr>\n",
       "    <tr>\n",
       "      <th>mean</th>\n",
       "      <td>20.788308</td>\n",
       "      <td>20.172336</td>\n",
       "      <td>50.356835</td>\n",
       "      <td>71.902351</td>\n",
       "      <td>53.605787</td>\n",
       "      <td>8.286962</td>\n",
       "      <td>1.612634e+09</td>\n",
       "    </tr>\n",
       "    <tr>\n",
       "      <th>std</th>\n",
       "      <td>32.906269</td>\n",
       "      <td>89.693784</td>\n",
       "      <td>32.759718</td>\n",
       "      <td>20.185675</td>\n",
       "      <td>38.474019</td>\n",
       "      <td>6.108569</td>\n",
       "      <td>2.749775e+02</td>\n",
       "    </tr>\n",
       "    <tr>\n",
       "      <th>min</th>\n",
       "      <td>-54.800000</td>\n",
       "      <td>-179.166700</td>\n",
       "      <td>-41.940000</td>\n",
       "      <td>13.000000</td>\n",
       "      <td>0.000000</td>\n",
       "      <td>0.430000</td>\n",
       "      <td>1.612634e+09</td>\n",
       "    </tr>\n",
       "    <tr>\n",
       "      <th>25%</th>\n",
       "      <td>-6.602400</td>\n",
       "      <td>-60.620600</td>\n",
       "      <td>31.440000</td>\n",
       "      <td>60.000000</td>\n",
       "      <td>18.000000</td>\n",
       "      <td>3.780000</td>\n",
       "      <td>1.612634e+09</td>\n",
       "    </tr>\n",
       "    <tr>\n",
       "      <th>50%</th>\n",
       "      <td>25.483300</td>\n",
       "      <td>25.833800</td>\n",
       "      <td>59.000000</td>\n",
       "      <td>78.000000</td>\n",
       "      <td>66.000000</td>\n",
       "      <td>6.620000</td>\n",
       "      <td>1.612634e+09</td>\n",
       "    </tr>\n",
       "    <tr>\n",
       "      <th>75%</th>\n",
       "      <td>47.666600</td>\n",
       "      <td>101.283300</td>\n",
       "      <td>77.000000</td>\n",
       "      <td>87.000000</td>\n",
       "      <td>90.000000</td>\n",
       "      <td>11.500000</td>\n",
       "      <td>1.612634e+09</td>\n",
       "    </tr>\n",
       "    <tr>\n",
       "      <th>max</th>\n",
       "      <td>78.218600</td>\n",
       "      <td>179.316700</td>\n",
       "      <td>95.230000</td>\n",
       "      <td>100.000000</td>\n",
       "      <td>100.000000</td>\n",
       "      <td>42.570000</td>\n",
       "      <td>1.612635e+09</td>\n",
       "    </tr>\n",
       "  </tbody>\n",
       "</table>\n",
       "</div>"
      ],
      "text/plain": [
       "              Lat         Lng    Max Temp    Humidity  Cloudiness  Wind Speed  \\\n",
       "count  553.000000  553.000000  553.000000  553.000000  553.000000  553.000000   \n",
       "mean    20.788308   20.172336   50.356835   71.902351   53.605787    8.286962   \n",
       "std     32.906269   89.693784   32.759718   20.185675   38.474019    6.108569   \n",
       "min    -54.800000 -179.166700  -41.940000   13.000000    0.000000    0.430000   \n",
       "25%     -6.602400  -60.620600   31.440000   60.000000   18.000000    3.780000   \n",
       "50%     25.483300   25.833800   59.000000   78.000000   66.000000    6.620000   \n",
       "75%     47.666600  101.283300   77.000000   87.000000   90.000000   11.500000   \n",
       "max     78.218600  179.316700   95.230000  100.000000  100.000000   42.570000   \n",
       "\n",
       "               Date  \n",
       "count  5.530000e+02  \n",
       "mean   1.612634e+09  \n",
       "std    2.749775e+02  \n",
       "min    1.612634e+09  \n",
       "25%    1.612634e+09  \n",
       "50%    1.612634e+09  \n",
       "75%    1.612634e+09  \n",
       "max    1.612635e+09  "
      ]
     },
     "execution_count": 6,
     "metadata": {},
     "output_type": "execute_result"
    }
   ],
   "source": [
    "weather_data.describe()"
   ]
  },
  {
   "cell_type": "markdown",
   "metadata": {},
   "source": [
    "## Inspect the data and remove the cities where the humidity > 100%.\n",
    "----\n",
    "Skip this step if there are no cities that have humidity > 100%. "
   ]
  },
  {
   "cell_type": "code",
   "execution_count": 7,
   "metadata": {},
   "outputs": [],
   "source": [
    "weather_data_clean = weather_data.loc[weather_data['Humidity'] <= 100, :]\n",
    "#weather_data_clean"
   ]
  },
  {
   "cell_type": "code",
   "execution_count": 8,
   "metadata": {},
   "outputs": [
    {
     "data": {
      "text/plain": [
       "[]"
      ]
     },
     "execution_count": 8,
     "metadata": {},
     "output_type": "execute_result"
    }
   ],
   "source": [
    "#  Get the indices of cities that have humidity over 100%.\n",
    "damp_places = weather_data.index[weather_data['Humidity'] > 100].tolist()\n",
    "damp_places"
   ]
  },
  {
   "cell_type": "code",
   "execution_count": 9,
   "metadata": {},
   "outputs": [
    {
     "data": {
      "text/html": [
       "<div>\n",
       "<style scoped>\n",
       "    .dataframe tbody tr th:only-of-type {\n",
       "        vertical-align: middle;\n",
       "    }\n",
       "\n",
       "    .dataframe tbody tr th {\n",
       "        vertical-align: top;\n",
       "    }\n",
       "\n",
       "    .dataframe thead th {\n",
       "        text-align: right;\n",
       "    }\n",
       "</style>\n",
       "<table border=\"1\" class=\"dataframe\">\n",
       "  <thead>\n",
       "    <tr style=\"text-align: right;\">\n",
       "      <th></th>\n",
       "      <th>City</th>\n",
       "      <th>Lat</th>\n",
       "      <th>Lng</th>\n",
       "      <th>Max Temp</th>\n",
       "      <th>Humidity</th>\n",
       "      <th>Cloudiness</th>\n",
       "      <th>Wind Speed</th>\n",
       "      <th>Country</th>\n",
       "      <th>Date</th>\n",
       "    </tr>\n",
       "  </thead>\n",
       "  <tbody>\n",
       "    <tr>\n",
       "      <th>0</th>\n",
       "      <td>Vaini</td>\n",
       "      <td>-21.2000</td>\n",
       "      <td>-175.2000</td>\n",
       "      <td>73.40</td>\n",
       "      <td>94</td>\n",
       "      <td>75</td>\n",
       "      <td>10.36</td>\n",
       "      <td>TO</td>\n",
       "      <td>1612633821</td>\n",
       "    </tr>\n",
       "    <tr>\n",
       "      <th>1</th>\n",
       "      <td>Barrow</td>\n",
       "      <td>71.2906</td>\n",
       "      <td>-156.7887</td>\n",
       "      <td>-0.40</td>\n",
       "      <td>71</td>\n",
       "      <td>90</td>\n",
       "      <td>10.36</td>\n",
       "      <td>US</td>\n",
       "      <td>1612633789</td>\n",
       "    </tr>\n",
       "    <tr>\n",
       "      <th>2</th>\n",
       "      <td>Rikitea</td>\n",
       "      <td>-23.1203</td>\n",
       "      <td>-134.9692</td>\n",
       "      <td>77.65</td>\n",
       "      <td>74</td>\n",
       "      <td>100</td>\n",
       "      <td>12.37</td>\n",
       "      <td>PF</td>\n",
       "      <td>1612633748</td>\n",
       "    </tr>\n",
       "    <tr>\n",
       "      <th>3</th>\n",
       "      <td>San Patricio</td>\n",
       "      <td>28.0170</td>\n",
       "      <td>-97.5169</td>\n",
       "      <td>68.00</td>\n",
       "      <td>77</td>\n",
       "      <td>90</td>\n",
       "      <td>9.22</td>\n",
       "      <td>US</td>\n",
       "      <td>1612633825</td>\n",
       "    </tr>\n",
       "    <tr>\n",
       "      <th>4</th>\n",
       "      <td>Palmerston</td>\n",
       "      <td>-12.4860</td>\n",
       "      <td>130.9833</td>\n",
       "      <td>82.40</td>\n",
       "      <td>83</td>\n",
       "      <td>75</td>\n",
       "      <td>11.50</td>\n",
       "      <td>AU</td>\n",
       "      <td>1612633827</td>\n",
       "    </tr>\n",
       "  </tbody>\n",
       "</table>\n",
       "</div>"
      ],
      "text/plain": [
       "           City      Lat       Lng  Max Temp  Humidity  Cloudiness  \\\n",
       "0         Vaini -21.2000 -175.2000     73.40        94          75   \n",
       "1        Barrow  71.2906 -156.7887     -0.40        71          90   \n",
       "2       Rikitea -23.1203 -134.9692     77.65        74         100   \n",
       "3  San Patricio  28.0170  -97.5169     68.00        77          90   \n",
       "4    Palmerston -12.4860  130.9833     82.40        83          75   \n",
       "\n",
       "   Wind Speed Country        Date  \n",
       "0       10.36      TO  1612633821  \n",
       "1       10.36      US  1612633789  \n",
       "2       12.37      PF  1612633748  \n",
       "3        9.22      US  1612633825  \n",
       "4       11.50      AU  1612633827  "
      ]
     },
     "execution_count": 9,
     "metadata": {},
     "output_type": "execute_result"
    }
   ],
   "source": [
    "# Make a new DataFrame equal to the city data to drop all humidity outliers by index.\n",
    "# Passing \"inplace=False\" will make a copy of the city_data DataFrame, which we call \"clean_city_data\".\n",
    "clean_city_data = weather_data.drop(weather_data.index[damp_places], inplace=False)\n",
    "clean_city_data.head()"
   ]
  },
  {
   "cell_type": "code",
   "execution_count": null,
   "metadata": {},
   "outputs": [],
   "source": []
  },
  {
   "cell_type": "markdown",
   "metadata": {},
   "source": [
    "## Plotting the Data\n",
    "* Use proper labeling of the plots using plot titles (including date of analysis) and axes labels.\n",
    "* Save the plotted figures as .pngs."
   ]
  },
  {
   "cell_type": "markdown",
   "metadata": {},
   "source": [
    "## Latitude vs. Temperature Plot"
   ]
  },
  {
   "cell_type": "code",
   "execution_count": 10,
   "metadata": {
    "scrolled": true
   },
   "outputs": [
    {
     "data": {
      "image/png": "[encoded data removed]",
      "text/plain": [
       "<Figure size 432x288 with 1 Axes>"
      ]
     },
     "metadata": {
      "needs_background": "light"
     },
     "output_type": "display_data"
    }
   ],
   "source": [
    "date_utc = time.gmtime(clean_city_data['Date'][0])\n",
    "\n",
    "plt.scatter(clean_city_data['Lat'],clean_city_data['Max Temp'])\n",
    "\n",
    "plt.title(\"Max Temperature vs Latitude (\" + time.strftime(\"%d %b %Y\", date_utc) +\")\")\n",
    "plt.xlabel(\"Latitude\")\n",
    "plt.ylabel(\"Temperature (F)\")\n",
    "\n",
    "plt.savefig(\"output_data/Temp_Lat\")"
   ]
  },
  {
   "cell_type": "markdown",
   "metadata": {},
   "source": [
    "## Latitude vs. Humidity Plot"
   ]
  },
  {
   "cell_type": "code",
   "execution_count": 11,
   "metadata": {},
   "outputs": [
    {
     "data": {
      "image/png": "[encoded data removed]",
      "text/plain": [
       "<Figure size 432x288 with 1 Axes>"
      ]
     },
     "metadata": {
      "needs_background": "light"
     },
     "output_type": "display_data"
    }
   ],
   "source": [
    "plt.scatter(clean_city_data['Lat'],clean_city_data['Humidity'])\n",
    "\n",
    "plt.title(\"Humidity vs Latitude (\" + time.strftime(\"%d %b %Y\", date_utc) +\")\")\n",
    "plt.xlabel(\"Latitude\")\n",
    "plt.ylabel(\"Humidity (%)\")\n",
    "\n",
    "plt.savefig(\"output_data/Hum_Lat\")"
   ]
  },
  {
   "cell_type": "markdown",
   "metadata": {},
   "source": [
    "## Latitude vs. Cloudiness Plot"
   ]
  },
  {
   "cell_type": "code",
   "execution_count": 12,
   "metadata": {},
   "outputs": [
    {
     "data": {
      "image/png": "[encoded data removed]",
      "text/plain": [
       "<Figure size 432x288 with 1 Axes>"
      ]
     },
     "metadata": {
      "needs_background": "light"
     },
     "output_type": "display_data"
    }
   ],
   "source": [
    "plt.scatter(clean_city_data['Lat'],clean_city_data['Cloudiness'])\n",
    "\n",
    "plt.title(\"Cloudiness vs Latitude (\" + time.strftime(\"%d %b %Y\", date_utc) +\")\")\n",
    "plt.xlabel(\"Latitude\")\n",
    "plt.ylabel(\"Cloudiness (%)\")\n",
    "\n",
    "plt.savefig(\"output_data/Cloud_Lat\")"
   ]
  },
  {
   "cell_type": "markdown",
   "metadata": {},
   "source": [
    "## Latitude vs. Wind Speed Plot"
   ]
  },
  {
   "cell_type": "code",
   "execution_count": 13,
   "metadata": {},
   "outputs": [
    {
     "data": {
      "image/png": "[encoded data removed]",
      "text/plain": [
       "<Figure size 432x288 with 1 Axes>"
      ]
     },
     "metadata": {
      "needs_background": "light"
     },
     "output_type": "display_data"
    }
   ],
   "source": [
    "plt.scatter(clean_city_data['Lat'],clean_city_data['Wind Speed'])\n",
    "\n",
    "plt.title(\"Wind Speed vs Latitude (\" + time.strftime(\"%d %b %Y\", date_utc) +\")\")\n",
    "plt.xlabel(\"Latitude\")\n",
    "plt.ylabel(\"Wind Speed (mph)\")\n",
    "\n",
    "plt.savefig(\"output_data/Wind_Lat\")"
   ]
  },
  {
   "cell_type": "markdown",
   "metadata": {},
   "source": [
    "## Linear Regression"
   ]
  },
  {
   "cell_type": "code",
   "execution_count": 14,
   "metadata": {},
   "outputs": [],
   "source": [
    "lats = clean_city_data['Lat']\n",
    "nth_lats = clean_city_data.loc[clean_city_data['Lat'] >= 0, :]\n",
    "n_lats = nth_lats['Lat']\n",
    "\n",
    "sth_lats = clean_city_data.loc[clean_city_data['Lat'] < 0, :]\n",
    "s_lats = sth_lats['Lat']\n",
    "\n",
    "n_max_temps = nth_lats['Max Temp']\n",
    "s_max_temps = sth_lats['Max Temp']\n",
    "import scipy.stats as st\n"
   ]
  },
  {
   "cell_type": "markdown",
   "metadata": {},
   "source": [
    "####  Northern Hemisphere - Max Temp vs. Latitude Linear Regression"
   ]
  },
  {
   "cell_type": "code",
   "execution_count": 15,
   "metadata": {},
   "outputs": [
    {
     "name": "stdout",
     "output_type": "stream",
     "text": [
      "The r-value is -0.85.\n",
      "\n",
      "The linear regression model is y = -1.41x + 94.34.\n"
     ]
    },
    {
     "data": {
      "image/png": "[encoded data removed]",
      "text/plain": [
       "<Figure size 432x288 with 1 Axes>"
      ]
     },
     "metadata": {
      "needs_background": "light"
     },
     "output_type": "display_data"
    }
   ],
   "source": [
    "# Calculate the correlation coefficient and linear regression model \n",
    "\n",
    "correlation = st.pearsonr(n_lats, n_max_temps)\n",
    "print(f\"The r-value is {round(correlation[0],2)}.\\n\")\n",
    "\n",
    "(slope, intercept, rvalue, pvalue, stderr) = linregress(n_lats, n_max_temps)\n",
    "regress_values = n_lats * slope + intercept\n",
    "line_eq = \"y = \" + str(round(slope,2)) + \"x + \" + str(round(intercept,2))\n",
    "print(f\"The linear regression model is {line_eq}.\")\n",
    "plt.scatter(n_lats, n_max_temps)\n",
    "plt.plot(n_lats,regress_values,\"r-\")\n",
    "plt.annotate(line_eq,(5,5),fontsize=15,color=\"red\")\n",
    "\n",
    "plt.title(\"Northern Hemisphere Max Temps vs Latitude \\n(\" + time.strftime(\"%d %b %Y\", date_utc) +\")\")\n",
    "plt.xlabel(\"Latitude\")\n",
    "plt.ylabel(\"Max Temps (F)\")\n",
    "\n",
    "plt.savefig(\"output_data/Temp_NLat_reg\")"
   ]
  },
  {
   "cell_type": "markdown",
   "metadata": {},
   "source": [
    "####  Southern Hemisphere - Max Temp vs. Latitude Linear Regression"
   ]
  },
  {
   "cell_type": "code",
   "execution_count": 16,
   "metadata": {},
   "outputs": [
    {
     "name": "stdout",
     "output_type": "stream",
     "text": [
      "The r-value is 0.65.\n",
      "\n",
      "The linear regression model is y = 0.48x + 85.1.\n"
     ]
    },
    {
     "data": {
      "image/png": "[encoded data removed]",
      "text/plain": [
       "<Figure size 432x288 with 1 Axes>"
      ]
     },
     "metadata": {
      "needs_background": "light"
     },
     "output_type": "display_data"
    }
   ],
   "source": [
    "correlation = st.pearsonr(s_lats, s_max_temps)\n",
    "print(f\"The r-value is {round(correlation[0],2)}.\\n\")\n",
    "\n",
    "(slope, intercept, rvalue, pvalue, stderr) = linregress(s_lats, s_max_temps)\n",
    "regress_values = s_lats * slope + intercept\n",
    "line_eq = \"y = \" + str(round(slope,2)) + \"x + \" + str(round(intercept,2))\n",
    "print(f\"The linear regression model is {line_eq}.\")\n",
    "plt.scatter(s_lats, s_max_temps)\n",
    "plt.plot(s_lats,regress_values,\"r-\")\n",
    "plt.annotate(line_eq,(-30,55),fontsize=15,color=\"red\")\n",
    "\n",
    "plt.title(\"Southern Hemisphere Max Temps vs Latitude \\n(\" + time.strftime(\"%d %b %Y\", date_utc) +\")\")\n",
    "plt.xlabel(\"Latitude\")\n",
    "plt.ylabel(\"Max Temps (F)\")\n",
    "\n",
    "plt.savefig(\"output_data/Temp_SLat_reg\")"
   ]
  },
  {
   "cell_type": "markdown",
   "metadata": {},
   "source": [
    "####  Northern Hemisphere - Humidity (%) vs. Latitude Linear Regression"
   ]
  },
  {
   "cell_type": "code",
   "execution_count": 17,
   "metadata": {},
   "outputs": [
    {
     "name": "stdout",
     "output_type": "stream",
     "text": [
      "The r-value is 0.42.\n",
      "\n",
      "The linear regression model is y = 0.45x + 52.89.\n"
     ]
    },
    {
     "data": {
      "image/png": "[encoded data removed]",
      "text/plain": [
       "<Figure size 432x288 with 1 Axes>"
      ]
     },
     "metadata": {
      "needs_background": "light"
     },
     "output_type": "display_data"
    }
   ],
   "source": [
    "n_hums = nth_lats['Humidity']\n",
    "\n",
    "correlation = st.pearsonr(n_lats, n_hums)\n",
    "print(f\"The r-value is {round(correlation[0],2)}.\\n\")\n",
    "\n",
    "(slope, intercept, rvalue, pvalue, stderr) = linregress(n_lats, n_hums)\n",
    "regress_values = n_lats * slope + intercept\n",
    "line_eq = \"y = \" + str(round(slope,2)) + \"x + \" + str(round(intercept,2))\n",
    "print(f\"The linear regression model is {line_eq}.\")\n",
    "plt.scatter(n_lats, n_hums)\n",
    "plt.plot(n_lats,regress_values,\"r-\")\n",
    "plt.annotate(line_eq,(-30,55),fontsize=15,color=\"red\")\n",
    "\n",
    "plt.title(\"Northern Hemisphere Humidity vs Latitude \\n(\" + time.strftime(\"%d %b %Y\", date_utc) +\")\")\n",
    "plt.xlabel(\"Latitude\")\n",
    "plt.ylabel(\"Humidity (%)\")\n",
    "\n",
    "plt.savefig(\"output_data/Hum_NLat_reg\")"
   ]
  },
  {
   "cell_type": "markdown",
   "metadata": {},
   "source": [
    "####  Southern Hemisphere - Humidity (%) vs. Latitude Linear Regression"
   ]
  },
  {
   "cell_type": "code",
   "execution_count": 18,
   "metadata": {},
   "outputs": [
    {
     "name": "stdout",
     "output_type": "stream",
     "text": [
      "The r-value is 0.03.\n",
      "\n",
      "The linear regression model is y = 0.04x + 76.06.\n"
     ]
    },
    {
     "data": {
      "image/png": "[encoded data removed]",
      "text/plain": [
       "<Figure size 432x288 with 1 Axes>"
      ]
     },
     "metadata": {
      "needs_background": "light"
     },
     "output_type": "display_data"
    }
   ],
   "source": [
    "s_hums = sth_lats['Humidity']\n",
    "\n",
    "correlation = st.pearsonr(s_lats, s_hums)\n",
    "print(f\"The r-value is {round(correlation[0],2)}.\\n\")\n",
    "\n",
    "(slope, intercept, rvalue, pvalue, stderr) = linregress(s_lats, s_hums)\n",
    "regress_values = s_lats * slope + intercept\n",
    "line_eq = \"y = \" + str(round(slope,2)) + \"x + \" + str(round(intercept,2))\n",
    "print(f\"The linear regression model is {line_eq}.\")\n",
    "plt.scatter(s_lats, s_hums)\n",
    "plt.plot(s_lats,regress_values,\"r-\")\n",
    "plt.annotate(line_eq,(-30,55),fontsize=15,color=\"red\")\n",
    "\n",
    "plt.title(\"Southern Hemisphere Humidity vs Latitude \\n(\" + time.strftime(\"%d %b %Y\", date_utc) +\")\")\n",
    "plt.xlabel(\"Latitude\")\n",
    "plt.ylabel(\"Humidity (%)\")\n",
    "\n",
    "plt.savefig(\"output_data/Hum_SLat_reg\")"
   ]
  },
  {
   "cell_type": "markdown",
   "metadata": {},
   "source": [
    "####  Northern Hemisphere - Cloudiness (%) vs. Latitude Linear Regression"
   ]
  },
  {
   "cell_type": "code",
   "execution_count": 22,
   "metadata": {},
   "outputs": [
    {
     "name": "stdout",
     "output_type": "stream",
     "text": [
      "The r-value is 0.28.\n",
      "\n",
      "The linear regression model is y = 0.54x + 30.83.\n"
     ]
    },
    {
     "data": {
      "image/png": "[encoded data removed]",
      "text/plain": [
       "<Figure size 432x288 with 1 Axes>"
      ]
     },
     "metadata": {
      "needs_background": "light"
     },
     "output_type": "display_data"
    }
   ],
   "source": [
    "n_clouds = nth_lats['Cloudiness']\n",
    "\n",
    "correlation = st.pearsonr(n_lats, n_clouds)\n",
    "print(f\"The r-value is {round(correlation[0],2)}.\\n\")\n",
    "\n",
    "(slope, intercept, rvalue, pvalue, stderr) = linregress(n_lats, n_clouds)\n",
    "regress_values = n_lats * slope + intercept\n",
    "line_eq = \"y = \" + str(round(slope,2)) + \"x + \" + str(round(intercept,2))\n",
    "print(f\"The linear regression model is {line_eq}.\")\n",
    "plt.scatter(n_lats, n_clouds)\n",
    "plt.plot(n_lats,regress_values,\"r-\")\n",
    "plt.annotate(line_eq,(0,0),fontsize=15,color=\"red\")\n",
    "\n",
    "plt.title(\"Northern Hemisphere Cloudiness vs Latitude \\n(\" + time.strftime(\"%d %b %Y\", date_utc) +\")\")\n",
    "plt.xlabel(\"Latitude\")\n",
    "plt.ylabel(\"Cloudiness (%)\")\n",
    "\n",
    "plt.savefig(\"output_data/Clouds_NLat_reg\")"
   ]
  },
  {
   "cell_type": "markdown",
   "metadata": {},
   "source": [
    "####  Southern Hemisphere - Cloudiness (%) vs. Latitude Linear Regression"
   ]
  },
  {
   "cell_type": "code",
   "execution_count": 25,
   "metadata": {},
   "outputs": [
    {
     "name": "stdout",
     "output_type": "stream",
     "text": [
      "The r-value is 0.32.\n",
      "\n",
      "The linear regression model is y = 0.87x + 74.49.\n"
     ]
    },
    {
     "data": {
      "image/png": "[encoded data removed]",
      "text/plain": [
       "<Figure size 432x288 with 1 Axes>"
      ]
     },
     "metadata": {
      "needs_background": "light"
     },
     "output_type": "display_data"
    }
   ],
   "source": [
    "s_clouds = sth_lats['Cloudiness']\n",
    "\n",
    "correlation = st.pearsonr(s_lats, s_clouds)\n",
    "print(f\"The r-value is {round(correlation[0],2)}.\\n\")\n",
    "\n",
    "(slope, intercept, rvalue, pvalue, stderr) = linregress(s_lats, s_clouds)\n",
    "regress_values = s_lats * slope + intercept\n",
    "line_eq = \"y = \" + str(round(slope,2)) + \"x + \" + str(round(intercept,2))\n",
    "print(f\"The linear regression model is {line_eq}.\")\n",
    "plt.scatter(s_lats, s_clouds)\n",
    "plt.plot(s_lats,regress_values,\"r-\")\n",
    "plt.annotate(line_eq,(-55,50),fontsize=15,color=\"red\")\n",
    "\n",
    "plt.title(\"Southern Hemisphere Cloudiness vs Latitude \\n(\" + time.strftime(\"%d %b %Y\", date_utc) +\")\")\n",
    "plt.xlabel(\"Latitude\")\n",
    "plt.ylabel(\"Cloudiness (%)\")\n",
    "\n",
    "plt.savefig(\"output_data/Clouds_SLat_reg\")"
   ]
  },
  {
   "cell_type": "markdown",
   "metadata": {},
   "source": [
    "####  Northern Hemisphere - Wind Speed (mph) vs. Latitude Linear Regression"
   ]
  },
  {
   "cell_type": "code",
   "execution_count": 28,
   "metadata": {},
   "outputs": [
    {
     "name": "stdout",
     "output_type": "stream",
     "text": [
      "The r-value is 0.13.\n",
      "\n",
      "The linear regression model is y = 0.04x + 6.9.\n"
     ]
    },
    {
     "data": {
      "image/png": "[encoded data removed]",
      "text/plain": [
       "<Figure size 432x288 with 1 Axes>"
      ]
     },
     "metadata": {
      "needs_background": "light"
     },
     "output_type": "display_data"
    }
   ],
   "source": [
    "n_winds = nth_lats['Wind Speed']\n",
    "\n",
    "correlation = st.pearsonr(n_lats, n_winds)\n",
    "print(f\"The r-value is {round(correlation[0],2)}.\\n\")\n",
    "\n",
    "(slope, intercept, rvalue, pvalue, stderr) = linregress(n_lats, n_winds)\n",
    "regress_values = n_lats * slope + intercept\n",
    "line_eq = \"y = \" + str(round(slope,2)) + \"x + \" + str(round(intercept,2))\n",
    "print(f\"The linear regression model is {line_eq}.\")\n",
    "plt.scatter(n_lats, n_winds)\n",
    "plt.plot(n_lats,regress_values,\"r-\")\n",
    "plt.annotate(line_eq,(0,35),fontsize=15,color=\"red\")\n",
    "\n",
    "plt.title(\"Northern Hemisphere Wind Speeds vs Latitude \\n(\" + time.strftime(\"%d %b %Y\", date_utc) +\")\")\n",
    "plt.xlabel(\"Latitude\")\n",
    "plt.ylabel(\"Wind Speed (mph)\")\n",
    "\n",
    "plt.savefig(\"output_data/Winds_NLat_reg\")"
   ]
  },
  {
   "cell_type": "markdown",
   "metadata": {},
   "source": [
    "####  Southern Hemisphere - Wind Speed (mph) vs. Latitude Linear Regression"
   ]
  },
  {
   "cell_type": "code",
   "execution_count": 30,
   "metadata": {},
   "outputs": [
    {
     "name": "stdout",
     "output_type": "stream",
     "text": [
      "The r-value is -0.01.\n",
      "\n",
      "The linear regression model is y = -0.0x + 7.62.\n"
     ]
    },
    {
     "data": {
      "image/png": "[encoded data removed]",
      "text/plain": [
       "<Figure size 432x288 with 1 Axes>"
      ]
     },
     "metadata": {
      "needs_background": "light"
     },
     "output_type": "display_data"
    }
   ],
   "source": [
    "s_winds = sth_lats['Wind Speed']\n",
    "\n",
    "correlation = st.pearsonr(s_lats, s_winds)\n",
    "print(f\"The r-value is {round(correlation[0],2)}.\\n\")\n",
    "\n",
    "(slope, intercept, rvalue, pvalue, stderr) = linregress(s_lats, s_winds)\n",
    "regress_values = s_lats * slope + intercept\n",
    "line_eq = \"y = \" + str(round(slope,2)) + \"x + \" + str(round(intercept,2))\n",
    "print(f\"The linear regression model is {line_eq}.\")\n",
    "plt.scatter(s_lats, s_winds)\n",
    "plt.plot(s_lats,regress_values,\"r-\")\n",
    "plt.annotate(line_eq,(-50,25),fontsize=15,color=\"red\")\n",
    "\n",
    "plt.title(\"Southern Hemisphere Wind Speeds vs Latitude \\n(\" + time.strftime(\"%d %b %Y\", date_utc) +\")\")\n",
    "plt.xlabel(\"Latitude\")\n",
    "plt.ylabel(\"Wind Speed (mph)\")\n",
    "\n",
    "plt.savefig(\"output_data/Winds_SLat_reg\")"
   ]
  },
  {
   "cell_type": "code",
   "execution_count": null,
   "metadata": {},
   "outputs": [],
   "source": []
  }
 ],
 "metadata": {
  "anaconda-cloud": {},
  "kernel_info": {
   "name": "python3"
  },
  "kernelspec": {
   "display_name": "Python 3",
   "language": "python",
   "name": "python3"
  },
  "language_info": {
   "codemirror_mode": {
    "name": "ipython",
    "version": 3
   },
   "file_extension": ".py",
   "mimetype": "text/x-python",
   "name": "python",
   "nbconvert_exporter": "python",
   "pygments_lexer": "ipython3",
   "version": "3.6.12"
  },
  "latex_envs": {
   "LaTeX_envs_menu_present": true,
   "autoclose": false,
   "autocomplete": true,
   "bibliofile": "biblio.bib",
   "cite_by": "apalike",
   "current_citInitial": 1,
   "eqLabelWithNumbers": true,
   "eqNumInitial": 1,
   "hotkeys": {
    "equation": "Ctrl-E",
    "itemize": "Ctrl-I"
   },
   "labels_anchors": false,
   "latex_user_defs": false,
   "report_style_numbering": false,
   "user_envs_cfg": false
  },
  "nteract": {
   "version": "0.12.3"
  }
 },
 "nbformat": 4,
 "nbformat_minor": 2
}
