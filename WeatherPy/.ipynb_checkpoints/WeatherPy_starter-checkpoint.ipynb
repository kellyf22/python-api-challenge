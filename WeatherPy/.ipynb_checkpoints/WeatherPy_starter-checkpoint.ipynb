{
 "cells": [
  {
   "cell_type": "markdown",
   "metadata": {},
   "source": [
    "# WeatherPy\n",
    "----\n",
    "\n",
    "#### Note\n",
    "* Instructions have been included for each segment. You do not have to follow them exactly, but they are included to help you think through the steps."
   ]
  },
  {
   "cell_type": "code",
   "execution_count": 13,
   "metadata": {
    "scrolled": true
   },
   "outputs": [],
   "source": [
    "\n",
    "# Dependencies and Setup\n",
    "import matplotlib.pyplot as plt\n",
    "import pandas as pd\n",
    "import numpy as np\n",
    "import requests\n",
    "import time\n",
    "from scipy.stats import linregress\n",
    "\n",
    "# Import API key\n",
    "from api_keys import weather_api_key\n",
    "\n",
    "# Incorporated citipy to determine city based on latitude and longitude\n",
    "from citipy import citipy\n",
    "\n",
    "# Output File (CSV)\n",
    "output_data_file = \"output_data/cities.csv\"\n",
    "\n",
    "# Range of latitudes and longitudes\n",
    "lat_range = (-90, 90)\n",
    "lng_range = (-180, 180)"
   ]
  },
  {
   "cell_type": "markdown",
   "metadata": {},
   "source": [
    "## Generate Cities List"
   ]
  },
  {
   "cell_type": "code",
   "execution_count": 2,
   "metadata": {},
   "outputs": [
    {
     "data": {
      "text/plain": [
       "['kapaa',\n",
       " 'saint-philippe',\n",
       " 'puerto quijarro',\n",
       " 'menongue',\n",
       " 'bayir',\n",
       " 'torbay',\n",
       " 'kochi',\n",
       " 'sinnamary',\n",
       " 'chuy',\n",
       " 'vardo',\n",
       " 'porto walter',\n",
       " 'belushya guba',\n",
       " 'bluff',\n",
       " 'hithadhoo',\n",
       " 'cape town',\n",
       " 'hobart',\n",
       " 'kidal',\n",
       " 'babu',\n",
       " 'kieta',\n",
       " 'cabangan',\n",
       " 'ulladulla',\n",
       " 'dalhousie',\n",
       " 'axim',\n",
       " 'sun city west',\n",
       " 'alofi',\n",
       " 'oudtshoorn',\n",
       " 'amderma',\n",
       " 'great falls',\n",
       " 'attawapiskat',\n",
       " 'rikitea',\n",
       " 'doha',\n",
       " 'kloulklubed',\n",
       " 'lorengau',\n",
       " 'kjollefjord',\n",
       " 'waingapu',\n",
       " 'yanam',\n",
       " 'qeshm',\n",
       " 'urumqi',\n",
       " 'utiroa',\n",
       " 'bengkulu',\n",
       " 'jamestown',\n",
       " 'tasiilaq',\n",
       " 'ilulissat',\n",
       " 'ushuaia',\n",
       " 'avarua',\n",
       " 'qaanaaq',\n",
       " 'turukhansk',\n",
       " 'port elizabeth',\n",
       " 'qaqortoq',\n",
       " 'atuona']"
      ]
     },
     "execution_count": 2,
     "metadata": {},
     "output_type": "execute_result"
    }
   ],
   "source": [
    "# List for holding lat_lngs and cities\n",
    "lat_lngs = []\n",
    "cities = []\n",
    "\n",
    "# Create a set of random lat and lng combinations\n",
    "lats = np.random.uniform(lat_range[0], lat_range[1], size=1500)\n",
    "lngs = np.random.uniform(lng_range[0], lng_range[1], size=1500)\n",
    "lat_lngs = zip(lats, lngs)\n",
    "\n",
    "# Identify nearest city for each lat, lng combination\n",
    "for lat_lng in lat_lngs:\n",
    "    city = citipy.nearest_city(lat_lng[0], lat_lng[1]).city_name\n",
    "    \n",
    "    # If the city is unique, then add it to a our cities list\n",
    "    if city not in cities:\n",
    "        cities.append(city)\n",
    "\n",
    "# Print the city count to confirm sufficient count\n",
    "len(cities)\n",
    "#mini_cities = cities[:50]\n",
    "#mini_cities"
   ]
  },
  {
   "cell_type": "markdown",
   "metadata": {},
   "source": [
    "### Perform API Calls\n",
    "* Perform a weather check on each city using a series of successive API calls.\n",
    "* Include a print log of each city as it'sbeing processed (with the city number and city name).\n"
   ]
  },
  {
   "cell_type": "code",
   "execution_count": 3,
   "metadata": {
    "scrolled": true
   },
   "outputs": [
    {
     "name": "stdout",
     "output_type": "stream",
     "text": [
      "Beginning Data Retrieval\n",
      "\n",
      "Processing Record 0 | kapaa\n",
      "Processing Record 1 | saint-philippe\n",
      "Processing Record 2 | puerto quijarro\n",
      "Processing Record 3 | menongue\n",
      "Processing Record 4 | bayir\n",
      "Processing Record 5 | torbay\n",
      "Processing Record 6 | kochi\n",
      "Processing Record 7 | sinnamary\n",
      "Processing Record 8 | chuy\n",
      "Processing Record 9 | vardo\n",
      "Processing Record 10 | porto walter\n",
      "Processing Record 11 | belushya guba\n",
      "City not found!\n",
      "Processing Record 12 | bluff\n",
      "Processing Record 13 | hithadhoo\n",
      "Processing Record 14 | cape town\n",
      "Processing Record 15 | hobart\n",
      "Processing Record 16 | kidal\n",
      "Processing Record 17 | babu\n",
      "Processing Record 18 | kieta\n",
      "Processing Record 19 | cabangan\n",
      "Processing Record 20 | ulladulla\n",
      "Processing Record 21 | dalhousie\n",
      "Processing Record 22 | axim\n",
      "Processing Record 23 | sun city west\n",
      "Processing Record 24 | alofi\n",
      "Processing Record 25 | oudtshoorn\n",
      "Processing Record 26 | amderma\n",
      "City not found!\n",
      "Processing Record 27 | great falls\n",
      "Processing Record 28 | attawapiskat\n",
      "City not found!\n",
      "Processing Record 29 | rikitea\n",
      "Processing Record 30 | doha\n",
      "Processing Record 31 | kloulklubed\n",
      "Processing Record 32 | lorengau\n",
      "Processing Record 33 | kjollefjord\n",
      "Processing Record 34 | waingapu\n",
      "Processing Record 35 | yanam\n",
      "Processing Record 36 | qeshm\n",
      "Processing Record 37 | urumqi\n",
      "Processing Record 38 | utiroa\n",
      "City not found!\n",
      "Processing Record 39 | bengkulu\n",
      "Processing Record 40 | jamestown\n",
      "Processing Record 41 | tasiilaq\n",
      "Processing Record 42 | ilulissat\n",
      "Processing Record 43 | ushuaia\n",
      "Processing Record 44 | avarua\n",
      "Processing Record 45 | qaanaaq\n",
      "Processing Record 46 | turukhansk\n",
      "Processing Record 47 | port elizabeth\n",
      "Processing Record 48 | qaqortoq\n",
      "Processing Record 49 | atuona\n"
     ]
    }
   ],
   "source": [
    "# Save config information.\n",
    "url = \"http://api.openweathermap.org/data/2.5/weather?\"\n",
    "units = \"imperial\"\n",
    "\n",
    "# Build partial query URL\n",
    "query_url = f\"{url}appid={weather_api_key}&units={units}&q=\"\n",
    "\n",
    "# set up lists to hold reponse info\n",
    "name = []\n",
    "lat = []\n",
    "long = []\n",
    "max_temp = []\n",
    "humid = []\n",
    "clouds = []\n",
    "winds = []\n",
    "country = []\n",
    "date = []\n",
    "\n",
    "# Loop through the list of cities and perform a request for data on each\n",
    "print(\"Beginning Data Retrieval\\n\")\n",
    "\n",
    "for city in cities:\n",
    "    print(\"Processing Record \" + str(mini_cities.index(city)) + \" | \" + city)\n",
    "    response = requests.get(query_url + city).json()\n",
    "    \n",
    "    try:\n",
    "        name.append(response['name'])\n",
    "        lat.append(response['coord']['lat'])\n",
    "        long.append(response['coord']['lon'])\n",
    "        max_temp.append(response['main']['temp_max'])\n",
    "        humid.append(response['main']['humidity'])\n",
    "        clouds.append(response['clouds']['all'])\n",
    "        winds.append(response['wind']['speed'])\n",
    "        country.append(response['sys']['country'])\n",
    "        date.append(response['dt'])\n",
    "        \n",
    "        time.sleep(1.01)\n",
    "        \n",
    "    except(KeyError):\n",
    "        print(\"City not found!\")\n",
    "        pass\n",
    "    \n",
    "    \n",
    "#response"
   ]
  },
  {
   "cell_type": "markdown",
   "metadata": {},
   "source": [
    "### Convert Raw Data to DataFrame\n",
    "* Export the city data into a .csv.\n",
    "* Display the DataFrame"
   ]
  },
  {
   "cell_type": "code",
   "execution_count": 14,
   "metadata": {},
   "outputs": [
    {
     "data": {
      "text/html": [
       "<div>\n",
       "<style scoped>\n",
       "    .dataframe tbody tr th:only-of-type {\n",
       "        vertical-align: middle;\n",
       "    }\n",
       "\n",
       "    .dataframe tbody tr th {\n",
       "        vertical-align: top;\n",
       "    }\n",
       "\n",
       "    .dataframe thead th {\n",
       "        text-align: right;\n",
       "    }\n",
       "</style>\n",
       "<table border=\"1\" class=\"dataframe\">\n",
       "  <thead>\n",
       "    <tr style=\"text-align: right;\">\n",
       "      <th></th>\n",
       "      <th>City</th>\n",
       "      <th>Lat</th>\n",
       "      <th>Lng</th>\n",
       "      <th>Max Temp</th>\n",
       "      <th>Humidity</th>\n",
       "      <th>Cloudiness</th>\n",
       "      <th>Wind Speed</th>\n",
       "      <th>Country</th>\n",
       "      <th>Date</th>\n",
       "    </tr>\n",
       "  </thead>\n",
       "  <tbody>\n",
       "    <tr>\n",
       "      <th>0</th>\n",
       "      <td>Kapaa</td>\n",
       "      <td>22.0752</td>\n",
       "      <td>-159.3190</td>\n",
       "      <td>59.00</td>\n",
       "      <td>82</td>\n",
       "      <td>1</td>\n",
       "      <td>9.22</td>\n",
       "      <td>US</td>\n",
       "      <td>1612632026</td>\n",
       "    </tr>\n",
       "    <tr>\n",
       "      <th>1</th>\n",
       "      <td>Saint-Philippe</td>\n",
       "      <td>-21.3585</td>\n",
       "      <td>55.7679</td>\n",
       "      <td>80.60</td>\n",
       "      <td>78</td>\n",
       "      <td>90</td>\n",
       "      <td>2.30</td>\n",
       "      <td>RE</td>\n",
       "      <td>1612632026</td>\n",
       "    </tr>\n",
       "    <tr>\n",
       "      <th>2</th>\n",
       "      <td>Puerto Quijarro</td>\n",
       "      <td>-17.7833</td>\n",
       "      <td>-57.7667</td>\n",
       "      <td>93.22</td>\n",
       "      <td>29</td>\n",
       "      <td>11</td>\n",
       "      <td>5.73</td>\n",
       "      <td>BO</td>\n",
       "      <td>1612632027</td>\n",
       "    </tr>\n",
       "    <tr>\n",
       "      <th>3</th>\n",
       "      <td>Menongue</td>\n",
       "      <td>-14.6585</td>\n",
       "      <td>17.6910</td>\n",
       "      <td>74.28</td>\n",
       "      <td>75</td>\n",
       "      <td>100</td>\n",
       "      <td>3.20</td>\n",
       "      <td>AO</td>\n",
       "      <td>1612631962</td>\n",
       "    </tr>\n",
       "    <tr>\n",
       "      <th>4</th>\n",
       "      <td>Bayir</td>\n",
       "      <td>37.2687</td>\n",
       "      <td>28.2167</td>\n",
       "      <td>57.20</td>\n",
       "      <td>88</td>\n",
       "      <td>0</td>\n",
       "      <td>3.44</td>\n",
       "      <td>TR</td>\n",
       "      <td>1612632027</td>\n",
       "    </tr>\n",
       "  </tbody>\n",
       "</table>\n",
       "</div>"
      ],
      "text/plain": [
       "              City      Lat       Lng  Max Temp  Humidity  Cloudiness  \\\n",
       "0            Kapaa  22.0752 -159.3190     59.00        82           1   \n",
       "1   Saint-Philippe -21.3585   55.7679     80.60        78          90   \n",
       "2  Puerto Quijarro -17.7833  -57.7667     93.22        29          11   \n",
       "3         Menongue -14.6585   17.6910     74.28        75         100   \n",
       "4            Bayir  37.2687   28.2167     57.20        88           0   \n",
       "\n",
       "   Wind Speed Country        Date  \n",
       "0        9.22      US  1612632026  \n",
       "1        2.30      RE  1612632026  \n",
       "2        5.73      BO  1612632027  \n",
       "3        3.20      AO  1612631962  \n",
       "4        3.44      TR  1612632027  "
      ]
     },
     "execution_count": 14,
     "metadata": {},
     "output_type": "execute_result"
    }
   ],
   "source": [
    "weather_dict = {\n",
    "    \"City\": name,\n",
    "    \"Lat\": lat,\n",
    "    \"Lng\": long,\n",
    "    \"Max Temp\": max_temp,\n",
    "    \"Humidity\": humid,\n",
    "    \"Cloudiness\": clouds,\n",
    "    \"Wind Speed\": winds,\n",
    "    \"Country\": country,\n",
    "    \"Date\": date\n",
    "}\n",
    "weather_data = pd.DataFrame(weather_dict)\n",
    "\n",
    "weather_data.to_csv(output_data_file)    \n",
    "#weather_data.iloc[1,4] = 200\n",
    "weather_data.head()"
   ]
  },
  {
   "cell_type": "code",
   "execution_count": 7,
   "metadata": {},
   "outputs": [
    {
     "data": {
      "text/html": [
       "<div>\n",
       "<style scoped>\n",
       "    .dataframe tbody tr th:only-of-type {\n",
       "        vertical-align: middle;\n",
       "    }\n",
       "\n",
       "    .dataframe tbody tr th {\n",
       "        vertical-align: top;\n",
       "    }\n",
       "\n",
       "    .dataframe thead th {\n",
       "        text-align: right;\n",
       "    }\n",
       "</style>\n",
       "<table border=\"1\" class=\"dataframe\">\n",
       "  <thead>\n",
       "    <tr style=\"text-align: right;\">\n",
       "      <th></th>\n",
       "      <th>Lat</th>\n",
       "      <th>Lng</th>\n",
       "      <th>Max Temp</th>\n",
       "      <th>Humidity</th>\n",
       "      <th>Cloudiness</th>\n",
       "      <th>Wind Speed</th>\n",
       "      <th>Date</th>\n",
       "    </tr>\n",
       "  </thead>\n",
       "  <tbody>\n",
       "    <tr>\n",
       "      <th>count</th>\n",
       "      <td>46.000000</td>\n",
       "      <td>46.000000</td>\n",
       "      <td>46.000000</td>\n",
       "      <td>46.000000</td>\n",
       "      <td>46.000000</td>\n",
       "      <td>46.000000</td>\n",
       "      <td>4.600000e+01</td>\n",
       "    </tr>\n",
       "    <tr>\n",
       "      <th>mean</th>\n",
       "      <td>10.188778</td>\n",
       "      <td>11.866098</td>\n",
       "      <td>59.964348</td>\n",
       "      <td>73.913043</td>\n",
       "      <td>50.500000</td>\n",
       "      <td>10.238261</td>\n",
       "      <td>1.612632e+09</td>\n",
       "    </tr>\n",
       "    <tr>\n",
       "      <th>std</th>\n",
       "      <td>36.241975</td>\n",
       "      <td>96.099179</td>\n",
       "      <td>26.018079</td>\n",
       "      <td>20.046420</td>\n",
       "      <td>39.572577</td>\n",
       "      <td>8.159907</td>\n",
       "      <td>7.382005e+01</td>\n",
       "    </tr>\n",
       "    <tr>\n",
       "      <th>min</th>\n",
       "      <td>-54.800000</td>\n",
       "      <td>-169.918700</td>\n",
       "      <td>-5.750000</td>\n",
       "      <td>12.000000</td>\n",
       "      <td>0.000000</td>\n",
       "      <td>1.990000</td>\n",
       "      <td>1.612632e+09</td>\n",
       "    </tr>\n",
       "    <tr>\n",
       "      <th>25%</th>\n",
       "      <td>-18.740450</td>\n",
       "      <td>-56.690425</td>\n",
       "      <td>41.150000</td>\n",
       "      <td>71.500000</td>\n",
       "      <td>6.500000</td>\n",
       "      <td>4.692500</td>\n",
       "      <td>1.612632e+09</td>\n",
       "    </tr>\n",
       "    <tr>\n",
       "      <th>50%</th>\n",
       "      <td>6.212600</td>\n",
       "      <td>23.885750</td>\n",
       "      <td>69.900000</td>\n",
       "      <td>79.500000</td>\n",
       "      <td>44.500000</td>\n",
       "      <td>7.695000</td>\n",
       "      <td>1.612632e+09</td>\n",
       "    </tr>\n",
       "    <tr>\n",
       "      <th>75%</th>\n",
       "      <td>36.367025</td>\n",
       "      <td>86.254550</td>\n",
       "      <td>78.800000</td>\n",
       "      <td>88.000000</td>\n",
       "      <td>90.000000</td>\n",
       "      <td>14.612500</td>\n",
       "      <td>1.612632e+09</td>\n",
       "    </tr>\n",
       "    <tr>\n",
       "      <th>max</th>\n",
       "      <td>77.484000</td>\n",
       "      <td>168.333300</td>\n",
       "      <td>93.220000</td>\n",
       "      <td>100.000000</td>\n",
       "      <td>100.000000</td>\n",
       "      <td>42.570000</td>\n",
       "      <td>1.612632e+09</td>\n",
       "    </tr>\n",
       "  </tbody>\n",
       "</table>\n",
       "</div>"
      ],
      "text/plain": [
       "             Lat         Lng   Max Temp    Humidity  Cloudiness  Wind Speed  \\\n",
       "count  46.000000   46.000000  46.000000   46.000000   46.000000   46.000000   \n",
       "mean   10.188778   11.866098  59.964348   73.913043   50.500000   10.238261   \n",
       "std    36.241975   96.099179  26.018079   20.046420   39.572577    8.159907   \n",
       "min   -54.800000 -169.918700  -5.750000   12.000000    0.000000    1.990000   \n",
       "25%   -18.740450  -56.690425  41.150000   71.500000    6.500000    4.692500   \n",
       "50%     6.212600   23.885750  69.900000   79.500000   44.500000    7.695000   \n",
       "75%    36.367025   86.254550  78.800000   88.000000   90.000000   14.612500   \n",
       "max    77.484000  168.333300  93.220000  100.000000  100.000000   42.570000   \n",
       "\n",
       "               Date  \n",
       "count  4.600000e+01  \n",
       "mean   1.612632e+09  \n",
       "std    7.382005e+01  \n",
       "min    1.612632e+09  \n",
       "25%    1.612632e+09  \n",
       "50%    1.612632e+09  \n",
       "75%    1.612632e+09  \n",
       "max    1.612632e+09  "
      ]
     },
     "execution_count": 7,
     "metadata": {},
     "output_type": "execute_result"
    }
   ],
   "source": [
    "weather_data.describe()"
   ]
  },
  {
   "cell_type": "markdown",
   "metadata": {},
   "source": [
    "## Inspect the data and remove the cities where the humidity > 100%.\n",
    "----\n",
    "Skip this step if there are no cities that have humidity > 100%. "
   ]
  },
  {
   "cell_type": "code",
   "execution_count": 8,
   "metadata": {},
   "outputs": [],
   "source": [
    "weather_data_clean = weather_data.loc[weather_data['Humidity'] <= 100, :]\n",
    "#weather_data_clean"
   ]
  },
  {
   "cell_type": "code",
   "execution_count": 9,
   "metadata": {},
   "outputs": [
    {
     "data": {
      "text/plain": [
       "[]"
      ]
     },
     "execution_count": 9,
     "metadata": {},
     "output_type": "execute_result"
    }
   ],
   "source": [
    "#  Get the indices of cities that have humidity over 100%.\n",
    "damp_places = weather_data.index[weather_data['Humidity'] > 100].tolist()\n",
    "damp_places"
   ]
  },
  {
   "cell_type": "code",
   "execution_count": 10,
   "metadata": {},
   "outputs": [
    {
     "data": {
      "text/html": [
       "<div>\n",
       "<style scoped>\n",
       "    .dataframe tbody tr th:only-of-type {\n",
       "        vertical-align: middle;\n",
       "    }\n",
       "\n",
       "    .dataframe tbody tr th {\n",
       "        vertical-align: top;\n",
       "    }\n",
       "\n",
       "    .dataframe thead th {\n",
       "        text-align: right;\n",
       "    }\n",
       "</style>\n",
       "<table border=\"1\" class=\"dataframe\">\n",
       "  <thead>\n",
       "    <tr style=\"text-align: right;\">\n",
       "      <th></th>\n",
       "      <th>City</th>\n",
       "      <th>Lat</th>\n",
       "      <th>Lng</th>\n",
       "      <th>Max Temp</th>\n",
       "      <th>Humidity</th>\n",
       "      <th>Cloudiness</th>\n",
       "      <th>Wind Speed</th>\n",
       "      <th>Country</th>\n",
       "      <th>Date</th>\n",
       "    </tr>\n",
       "  </thead>\n",
       "  <tbody>\n",
       "    <tr>\n",
       "      <th>0</th>\n",
       "      <td>Kapaa</td>\n",
       "      <td>22.0752</td>\n",
       "      <td>-159.3190</td>\n",
       "      <td>59.00</td>\n",
       "      <td>82</td>\n",
       "      <td>1</td>\n",
       "      <td>9.22</td>\n",
       "      <td>US</td>\n",
       "      <td>1612632026</td>\n",
       "    </tr>\n",
       "    <tr>\n",
       "      <th>1</th>\n",
       "      <td>Saint-Philippe</td>\n",
       "      <td>-21.3585</td>\n",
       "      <td>55.7679</td>\n",
       "      <td>80.60</td>\n",
       "      <td>78</td>\n",
       "      <td>90</td>\n",
       "      <td>2.30</td>\n",
       "      <td>RE</td>\n",
       "      <td>1612632026</td>\n",
       "    </tr>\n",
       "    <tr>\n",
       "      <th>2</th>\n",
       "      <td>Puerto Quijarro</td>\n",
       "      <td>-17.7833</td>\n",
       "      <td>-57.7667</td>\n",
       "      <td>93.22</td>\n",
       "      <td>29</td>\n",
       "      <td>11</td>\n",
       "      <td>5.73</td>\n",
       "      <td>BO</td>\n",
       "      <td>1612632027</td>\n",
       "    </tr>\n",
       "    <tr>\n",
       "      <th>3</th>\n",
       "      <td>Menongue</td>\n",
       "      <td>-14.6585</td>\n",
       "      <td>17.6910</td>\n",
       "      <td>74.28</td>\n",
       "      <td>75</td>\n",
       "      <td>100</td>\n",
       "      <td>3.20</td>\n",
       "      <td>AO</td>\n",
       "      <td>1612631962</td>\n",
       "    </tr>\n",
       "    <tr>\n",
       "      <th>4</th>\n",
       "      <td>Bayir</td>\n",
       "      <td>37.2687</td>\n",
       "      <td>28.2167</td>\n",
       "      <td>57.20</td>\n",
       "      <td>88</td>\n",
       "      <td>0</td>\n",
       "      <td>3.44</td>\n",
       "      <td>TR</td>\n",
       "      <td>1612632027</td>\n",
       "    </tr>\n",
       "  </tbody>\n",
       "</table>\n",
       "</div>"
      ],
      "text/plain": [
       "              City      Lat       Lng  Max Temp  Humidity  Cloudiness  \\\n",
       "0            Kapaa  22.0752 -159.3190     59.00        82           1   \n",
       "1   Saint-Philippe -21.3585   55.7679     80.60        78          90   \n",
       "2  Puerto Quijarro -17.7833  -57.7667     93.22        29          11   \n",
       "3         Menongue -14.6585   17.6910     74.28        75         100   \n",
       "4            Bayir  37.2687   28.2167     57.20        88           0   \n",
       "\n",
       "   Wind Speed Country        Date  \n",
       "0        9.22      US  1612632026  \n",
       "1        2.30      RE  1612632026  \n",
       "2        5.73      BO  1612632027  \n",
       "3        3.20      AO  1612631962  \n",
       "4        3.44      TR  1612632027  "
      ]
     },
     "execution_count": 10,
     "metadata": {},
     "output_type": "execute_result"
    }
   ],
   "source": [
    "# Make a new DataFrame equal to the city data to drop all humidity outliers by index.\n",
    "# Passing \"inplace=False\" will make a copy of the city_data DataFrame, which we call \"clean_city_data\".\n",
    "clean_city_data = weather_data.drop(weather_data.index[damp_places], inplace=False)\n",
    "clean_city_data.head()"
   ]
  },
  {
   "cell_type": "code",
   "execution_count": null,
   "metadata": {},
   "outputs": [],
   "source": []
  },
  {
   "cell_type": "markdown",
   "metadata": {},
   "source": [
    "## Plotting the Data\n",
    "* Use proper labeling of the plots using plot titles (including date of analysis) and axes labels.\n",
    "* Save the plotted figures as .pngs."
   ]
  },
  {
   "cell_type": "markdown",
   "metadata": {},
   "source": [
    "## Latitude vs. Temperature Plot"
   ]
  },
  {
   "cell_type": "code",
   "execution_count": 15,
   "metadata": {
    "scrolled": true
   },
   "outputs": [
    {
     "data": {
      "image/png": "[encoded data removed]",
      "text/plain": [
       "<Figure size 432x288 with 1 Axes>"
      ]
     },
     "metadata": {
      "needs_background": "light"
     },
     "output_type": "display_data"
    }
   ],
   "source": [
    "date_utc = time.gmtime(clean_city_data['Date'][0])\n",
    "\n",
    "plt.scatter(clean_city_data['Lat'],clean_city_data['Max Temp'])\n",
    "\n",
    "plt.title(\"Max Temperature vs Latitude (\" + time.strftime(\"%d %b %Y\", date_utc) +\")\")\n",
    "plt.xlabel(\"Latitude\")\n",
    "plt.ylabel(\"Temperature (F)\")\n",
    "\n",
    "plt.savefig(\"output_data/Temp_Lat\")"
   ]
  },
  {
   "cell_type": "markdown",
   "metadata": {},
   "source": [
    "## Latitude vs. Humidity Plot"
   ]
  },
  {
   "cell_type": "code",
   "execution_count": 28,
   "metadata": {},
   "outputs": [
    {
     "data": {
      "image/png": "[encoded data removed]",
      "text/plain": [
       "<Figure size 432x288 with 1 Axes>"
      ]
     },
     "metadata": {
      "needs_background": "light"
     },
     "output_type": "display_data"
    }
   ],
   "source": [
    "plt.scatter(clean_city_data['Lat'],clean_city_data['Humidity'])\n",
    "\n",
    "plt.title(\"Humidity vs Latitude (\" + time.strftime(\"%d %b %Y\", date_utc) +\")\")\n",
    "plt.xlabel(\"Latitude\")\n",
    "plt.ylabel(\"Humidity (%)\")\n",
    "\n",
    "plt.savefig(\"output_data/Hum_Lat\")"
   ]
  },
  {
   "cell_type": "markdown",
   "metadata": {},
   "source": [
    "## Latitude vs. Cloudiness Plot"
   ]
  },
  {
   "cell_type": "code",
   "execution_count": 83,
   "metadata": {},
   "outputs": [
    {
     "data": {
      "text/plain": [
       "Text(0, 0.5, 'Cloudiness (%)')"
      ]
     },
     "execution_count": 83,
     "metadata": {},
     "output_type": "execute_result"
    },
    {
     "data": {
      "image/png": "[encoded data removed]",
      "text/plain": [
       "<Figure size 432x288 with 1 Axes>"
      ]
     },
     "metadata": {
      "needs_background": "light"
     },
     "output_type": "display_data"
    }
   ],
   "source": [
    "plt.scatter(clean_city_data['Lat'],clean_city_data['Cloudiness'])\n",
    "\n",
    "plt.title(\"Cloudiness vs Latitude (\" + time.strftime(\"%d %b %Y\", date_utc) +\")\")\n",
    "plt.xlabel(\"Latitude\")\n",
    "plt.ylabel(\"Cloudiness (%)\")\n",
    "\n",
    "plt.savefig(\"output_data/Cloud_Lat\")"
   ]
  },
  {
   "cell_type": "markdown",
   "metadata": {},
   "source": [
    "## Latitude vs. Wind Speed Plot"
   ]
  },
  {
   "cell_type": "code",
   "execution_count": 84,
   "metadata": {},
   "outputs": [
    {
     "data": {
      "text/plain": [
       "Text(0, 0.5, 'Wind Speed (mph)')"
      ]
     },
     "execution_count": 84,
     "metadata": {},
     "output_type": "execute_result"
    },
    {
     "data": {
      "image/png": "[encoded data removed]",
      "text/plain": [
       "<Figure size 432x288 with 1 Axes>"
      ]
     },
     "metadata": {
      "needs_background": "light"
     },
     "output_type": "display_data"
    }
   ],
   "source": [
    "plt.scatter(clean_city_data['Lat'],clean_city_data['Wind Speed'])\n",
    "\n",
    "plt.title(\"Wind Speed vs Latitude (\" + time.strftime(\"%d %b %Y\", date_utc) +\")\")\n",
    "plt.xlabel(\"Latitude\")\n",
    "plt.ylabel(\"Wind Speed (mph)\")\n",
    "\n",
    "plt.savefig(\"output_data/Wind_Lat\")"
   ]
  },
  {
   "cell_type": "markdown",
   "metadata": {},
   "source": [
    "## Linear Regression"
   ]
  },
  {
   "cell_type": "code",
   "execution_count": 25,
   "metadata": {},
   "outputs": [],
   "source": [
    "lats = clean_city_data['Lat']\n",
    "nth_lats = clean_city_data.loc[clean_city_data['Lat'] >= 0, :]\n",
    "n_lats = nth_lats['Lat']\n",
    "\n",
    "sth_lats = clean_city_data.loc[clean_city_data['Lat'] < 0, :]\n",
    "s_lats = sth_lats['Lat']\n",
    "\n",
    "n_max_temps = nth_lats['Max Temp']\n",
    "s_max_temps = sth_lats['Max Temp']\n",
    "import scipy.stats as st\n"
   ]
  },
  {
   "cell_type": "markdown",
   "metadata": {},
   "source": [
    "####  Northern Hemisphere - Max Temp vs. Latitude Linear Regression"
   ]
  },
  {
   "cell_type": "code",
   "execution_count": 36,
   "metadata": {},
   "outputs": [
    {
     "name": "stdout",
     "output_type": "stream",
     "text": [
      "The r-value is -0.86.\n",
      "\n",
      "The linear regression model is y = -1.05x + 86.94.\n"
     ]
    },
    {
     "data": {
      "image/png": "[encoded data removed]",
      "text/plain": [
       "<Figure size 432x288 with 1 Axes>"
      ]
     },
     "metadata": {
      "needs_background": "light"
     },
     "output_type": "display_data"
    }
   ],
   "source": [
    "# Calculate the correlation coefficient and linear regression model \n",
    "\n",
    "correlation = st.pearsonr(n_lats, n_max_temps)\n",
    "print(f\"The r-value is {round(correlation[0],2)}.\\n\")\n",
    "\n",
    "(slope, intercept, rvalue, pvalue, stderr) = linregress(n_lats, n_max_temps)\n",
    "regress_values = n_lats * slope + intercept\n",
    "line_eq = \"y = \" + str(round(slope,2)) + \"x + \" + str(round(intercept,2))\n",
    "print(f\"The linear regression model is {line_eq}.\")\n",
    "plt.scatter(n_lats, n_max_temps)\n",
    "plt.plot(n_lats,regress_values,\"r-\")\n",
    "plt.annotate(line_eq,(5,5),fontsize=15,color=\"red\")\n",
    "\n",
    "plt.title(\"Northern Hemisphere Max Temps vs Latitude \\n(\" + time.strftime(\"%d %b %Y\", date_utc) +\")\")\n",
    "plt.xlabel(\"Latitude\")\n",
    "plt.ylabel(\"Max Temps (F)\")\n",
    "\n",
    "plt.savefig(\"output_data/Temp_NLat_reg\")"
   ]
  },
  {
   "cell_type": "markdown",
   "metadata": {},
   "source": [
    "####  Southern Hemisphere - Max Temp vs. Latitude Linear Regression"
   ]
  },
  {
   "cell_type": "code",
   "execution_count": 35,
   "metadata": {},
   "outputs": [
    {
     "name": "stdout",
     "output_type": "stream",
     "text": [
      "The r-value is 0.77.\n",
      "\n",
      "The linear regression model is y = 0.5x + 86.41.\n"
     ]
    },
    {
     "data": {
      "image/png": "[encoded data removed]",
      "text/plain": [
       "<Figure size 432x288 with 1 Axes>"
      ]
     },
     "metadata": {
      "needs_background": "light"
     },
     "output_type": "display_data"
    }
   ],
   "source": [
    "correlation = st.pearsonr(s_lats, s_max_temps)\n",
    "print(f\"The r-value is {round(correlation[0],2)}.\\n\")\n",
    "\n",
    "(slope, intercept, rvalue, pvalue, stderr) = linregress(s_lats, s_max_temps)\n",
    "regress_values = s_lats * slope + intercept\n",
    "line_eq = \"y = \" + str(round(slope,2)) + \"x + \" + str(round(intercept,2))\n",
    "print(f\"The linear regression model is {line_eq}.\")\n",
    "plt.scatter(s_lats, s_max_temps)\n",
    "plt.plot(s_lats,regress_values,\"r-\")\n",
    "plt.annotate(line_eq,(-30,55),fontsize=15,color=\"red\")\n",
    "\n",
    "plt.title(\"Southern Hemisphere Max Temps vs Latitude \\n(\" + time.strftime(\"%d %b %Y\", date_utc) +\")\")\n",
    "plt.xlabel(\"Latitude\")\n",
    "plt.ylabel(\"Max Temps (F)\")\n",
    "\n",
    "plt.savefig(\"output_data/Temp_SLat_reg\")"
   ]
  },
  {
   "cell_type": "markdown",
   "metadata": {},
   "source": [
    "####  Northern Hemisphere - Humidity (%) vs. Latitude Linear Regression"
   ]
  },
  {
   "cell_type": "code",
   "execution_count": 27,
   "metadata": {},
   "outputs": [
    {
     "name": "stdout",
     "output_type": "stream",
     "text": [
      "The r-value is: 0.000543987878808455\n"
     ]
    },
    {
     "data": {
      "image/png": "[encoded data removed]",
      "text/plain": [
       "<Figure size 432x288 with 1 Axes>"
      ]
     },
     "metadata": {
      "needs_background": "light"
     },
     "output_type": "display_data"
    }
   ],
   "source": []
  },
  {
   "cell_type": "markdown",
   "metadata": {},
   "source": [
    "####  Southern Hemisphere - Humidity (%) vs. Latitude Linear Regression"
   ]
  },
  {
   "cell_type": "code",
   "execution_count": 28,
   "metadata": {},
   "outputs": [
    {
     "name": "stdout",
     "output_type": "stream",
     "text": [
      "The r-value is: 0.014985174297345524\n"
     ]
    },
    {
     "data": {
      "image/png": "[encoded data removed]",
      "text/plain": [
       "<Figure size 432x288 with 1 Axes>"
      ]
     },
     "metadata": {
      "needs_background": "light"
     },
     "output_type": "display_data"
    }
   ],
   "source": []
  },
  {
   "cell_type": "markdown",
   "metadata": {},
   "source": [
    "####  Northern Hemisphere - Cloudiness (%) vs. Latitude Linear Regression"
   ]
  },
  {
   "cell_type": "code",
   "execution_count": 29,
   "metadata": {},
   "outputs": [
    {
     "name": "stdout",
     "output_type": "stream",
     "text": [
      "The r-value is: 0.0020898727664228514\n"
     ]
    },
    {
     "data": {
      "image/png": "[encoded data removed]",
      "text/plain": [
       "<Figure size 432x288 with 1 Axes>"
      ]
     },
     "metadata": {
      "needs_background": "light"
     },
     "output_type": "display_data"
    }
   ],
   "source": []
  },
  {
   "cell_type": "markdown",
   "metadata": {},
   "source": [
    "####  Southern Hemisphere - Cloudiness (%) vs. Latitude Linear Regression"
   ]
  },
  {
   "cell_type": "code",
   "execution_count": 30,
   "metadata": {},
   "outputs": [
    {
     "name": "stdout",
     "output_type": "stream",
     "text": [
      "The r-value is: 0.0035263772085582894\n"
     ]
    },
    {
     "data": {
      "image/png": "[encoded data removed]",
      "text/plain": [
       "<Figure size 432x288 with 1 Axes>"
      ]
     },
     "metadata": {
      "needs_background": "light"
     },
     "output_type": "display_data"
    }
   ],
   "source": []
  },
  {
   "cell_type": "markdown",
   "metadata": {},
   "source": [
    "####  Northern Hemisphere - Wind Speed (mph) vs. Latitude Linear Regression"
   ]
  },
  {
   "cell_type": "code",
   "execution_count": 31,
   "metadata": {},
   "outputs": [
    {
     "name": "stdout",
     "output_type": "stream",
     "text": [
      "The r-value is: 0.04019723576144484\n"
     ]
    },
    {
     "data": {
      "image/png": "[encoded data removed]",
      "text/plain": [
       "<Figure size 432x288 with 1 Axes>"
      ]
     },
     "metadata": {
      "needs_background": "light"
     },
     "output_type": "display_data"
    }
   ],
   "source": []
  },
  {
   "cell_type": "markdown",
   "metadata": {},
   "source": [
    "####  Southern Hemisphere - Wind Speed (mph) vs. Latitude Linear Regression"
   ]
  },
  {
   "cell_type": "code",
   "execution_count": 32,
   "metadata": {},
   "outputs": [
    {
     "name": "stdout",
     "output_type": "stream",
     "text": [
      "The r-value is: 0.017128274759839232\n"
     ]
    },
    {
     "data": {
      "image/png": "[encoded data removed]",
      "text/plain": [
       "<Figure size 432x288 with 1 Axes>"
      ]
     },
     "metadata": {
      "needs_background": "light"
     },
     "output_type": "display_data"
    }
   ],
   "source": []
  },
  {
   "cell_type": "code",
   "execution_count": null,
   "metadata": {},
   "outputs": [],
   "source": []
  }
 ],
 "metadata": {
  "anaconda-cloud": {},
  "kernel_info": {
   "name": "python3"
  },
  "kernelspec": {
   "display_name": "Python 3",
   "language": "python",
   "name": "python3"
  },
  "language_info": {
   "codemirror_mode": {
    "name": "ipython",
    "version": 3
   },
   "file_extension": ".py",
   "mimetype": "text/x-python",
   "name": "python",
   "nbconvert_exporter": "python",
   "pygments_lexer": "ipython3",
   "version": "3.8.3"
  },
  "latex_envs": {
   "LaTeX_envs_menu_present": true,
   "autoclose": false,
   "autocomplete": true,
   "bibliofile": "biblio.bib",
   "cite_by": "apalike",
   "current_citInitial": 1,
   "eqLabelWithNumbers": true,
   "eqNumInitial": 1,
   "hotkeys": {
    "equation": "Ctrl-E",
    "itemize": "Ctrl-I"
   },
   "labels_anchors": false,
   "latex_user_defs": false,
   "report_style_numbering": false,
   "user_envs_cfg": false
  },
  "nteract": {
   "version": "0.12.3"
  }
 },
 "nbformat": 4,
 "nbformat_minor": 2
}
