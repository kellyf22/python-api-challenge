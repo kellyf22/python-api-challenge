{
 "cells": [
  {
   "cell_type": "markdown",
   "metadata": {},
   "source": [
    "# WeatherPy\n",
    "----\n"
   ]
  },
  {
   "cell_type": "code",
   "execution_count": 3,
   "metadata": {
    "scrolled": true
   },
   "outputs": [],
   "source": [
    "\n",
    "# Dependencies and Setup\n",
    "import matplotlib.pyplot as plt\n",
    "import pandas as pd\n",
    "import numpy as np\n",
    "import requests\n",
    "import time\n",
    "from scipy.stats import linregress\n",
    "\n",
    "# Import API key\n",
    "from api_keys import weather_api_key\n",
    "\n",
    "# Incorporated citipy to determine city based on latitude and longitude\n",
    "from citipy import citipy\n",
    "\n",
    "# Output File (CSV)\n",
    "output_data_file = \"output_data/cities.csv\"\n",
    "\n",
    "# Range of latitudes and longitudes\n",
    "lat_range = (-90, 90)\n",
    "lng_range = (-180, 180)"
   ]
  },
  {
   "cell_type": "markdown",
   "metadata": {},
   "source": [
    "## Generate Cities List"
   ]
  },
  {
   "cell_type": "code",
   "execution_count": 4,
   "metadata": {},
   "outputs": [
    {
     "data": {
      "text/plain": [
       "607"
      ]
     },
     "execution_count": 4,
     "metadata": {},
     "output_type": "execute_result"
    }
   ],
   "source": [
    "# List for holding lat_lngs and cities\n",
    "lat_lngs = []\n",
    "cities = []\n",
    "\n",
    "# Create a set of random lat and lng combinations\n",
    "lats = np.random.uniform(lat_range[0], lat_range[1], size=1500)\n",
    "lngs = np.random.uniform(lng_range[0], lng_range[1], size=1500)\n",
    "lat_lngs = zip(lats, lngs)\n",
    "\n",
    "# Identify nearest city for each lat, lng combination\n",
    "for lat_lng in lat_lngs:\n",
    "    city = citipy.nearest_city(lat_lng[0], lat_lng[1]).city_name\n",
    "    \n",
    "    # If the city is unique, then add it to a our cities list\n",
    "    if city not in cities:\n",
    "        cities.append(city)\n",
    "\n",
    "# Print the city count to confirm sufficient count\n",
    "len(cities)\n",
    "#mini_cities = cities[:50]\n",
    "#mini_cities"
   ]
  },
  {
   "cell_type": "markdown",
   "metadata": {},
   "source": [
    "### Perform API Calls\n",
    "* Perform a weather check on each city using a series of successive API calls.\n",
    "* Include a print log of each city as it'sbeing processed (with the city number and city name).\n"
   ]
  },
  {
   "cell_type": "code",
   "execution_count": 6,
   "metadata": {
    "scrolled": true
   },
   "outputs": [
    {
     "name": "stdout",
     "output_type": "stream",
     "text": [
      "Beginning Data Retrieval\n",
      "\n",
      "Processing Record 0 | te anau\n",
      "Processing Record 1 | cape town\n",
      "Processing Record 2 | narsaq\n",
      "Processing Record 3 | hobart\n",
      "Processing Record 4 | petropavlovsk-kamchatskiy\n",
      "Processing Record 5 | pankrushikha\n",
      "Processing Record 6 | kabinda\n",
      "Processing Record 7 | punta arenas\n",
      "Processing Record 8 | vaini\n",
      "Processing Record 9 | nemuro\n",
      "Processing Record 10 | ushtobe\n",
      "Processing Record 11 | busselton\n",
      "Processing Record 12 | chapais\n",
      "Processing Record 13 | hermanus\n",
      "Processing Record 14 | sentyabrskiy\n",
      "City not found!\n",
      "Processing Record 15 | skalistyy\n",
      "City not found!\n",
      "Processing Record 16 | mangan\n",
      "Processing Record 17 | mataura\n",
      "Processing Record 18 | new norfolk\n",
      "Processing Record 19 | tasiilaq\n",
      "Processing Record 20 | thompson\n",
      "Processing Record 21 | victoria\n",
      "Processing Record 22 | amderma\n",
      "City not found!\n",
      "Processing Record 23 | yellowknife\n",
      "Processing Record 24 | butaritari\n",
      "Processing Record 25 | longyearbyen\n",
      "Processing Record 26 | hilo\n",
      "Processing Record 27 | ferme-neuve\n",
      "Processing Record 28 | barentsburg\n",
      "City not found!\n",
      "Processing Record 29 | khatanga\n",
      "Processing Record 30 | jamestown\n",
      "Processing Record 31 | bambanglipuro\n",
      "Processing Record 32 | nome\n",
      "Processing Record 33 | torbay\n",
      "Processing Record 34 | kabo\n",
      "Processing Record 35 | rio grande\n",
      "Processing Record 36 | illoqqortoormiut\n",
      "City not found!\n",
      "Processing Record 37 | guerrero negro\n",
      "Processing Record 38 | tuatapere\n",
      "Processing Record 39 | severo-kurilsk\n",
      "Processing Record 40 | miyako\n",
      "Processing Record 41 | clyde river\n",
      "Processing Record 42 | kahului\n",
      "Processing Record 43 | tommot\n",
      "Processing Record 44 | kibungo\n",
      "Processing Record 45 | chagda\n",
      "City not found!\n",
      "Processing Record 46 | rikitea\n",
      "Processing Record 47 | prachatice\n",
      "Processing Record 48 | port dickson\n",
      "Processing Record 49 | storslett\n",
      "Processing Record 50 | stari bohorodchany\n",
      "Processing Record 51 | dukat\n",
      "Processing Record 52 | norman wells\n",
      "Processing Record 53 | conchagua\n",
      "Processing Record 54 | booue\n",
      "Processing Record 55 | darhan\n",
      "Processing Record 56 | pacific grove\n",
      "Processing Record 57 | gleisdorf\n",
      "Processing Record 58 | puerto escondido\n",
      "Processing Record 59 | nyimba\n",
      "Processing Record 60 | samusu\n",
      "City not found!\n",
      "Processing Record 61 | breytovo\n",
      "Processing Record 62 | rudnyy\n",
      "Processing Record 63 | chifeng\n",
      "Processing Record 64 | berlevag\n",
      "Processing Record 65 | kavieng\n",
      "Processing Record 66 | avarua\n",
      "Processing Record 67 | attawapiskat\n",
      "City not found!\n",
      "Processing Record 68 | kapaa\n",
      "Processing Record 69 | terbuny\n",
      "Processing Record 70 | las cruces\n",
      "Processing Record 71 | port elizabeth\n",
      "Processing Record 72 | saint-philippe\n",
      "Processing Record 73 | east london\n",
      "Processing Record 74 | belushya guba\n",
      "City not found!\n",
      "Processing Record 75 | ushuaia\n",
      "Processing Record 76 | leningradskiy\n",
      "Processing Record 77 | taolanaro\n",
      "City not found!\n",
      "Processing Record 78 | swan hill\n",
      "Processing Record 79 | hami\n",
      "Processing Record 80 | dharchula\n",
      "Processing Record 81 | sistranda\n",
      "Processing Record 82 | albany\n",
      "Processing Record 83 | rundu\n",
      "Processing Record 84 | sarahan\n",
      "Processing Record 85 | bredasdorp\n",
      "Processing Record 86 | vila velha\n",
      "Processing Record 87 | samalaeulu\n",
      "City not found!\n",
      "Processing Record 88 | puerto ayora\n",
      "Processing Record 89 | isla mujeres\n",
      "Processing Record 90 | beloha\n",
      "Processing Record 91 | gasa\n",
      "Processing Record 92 | dikson\n",
      "Processing Record 93 | bambous virieux\n",
      "Processing Record 94 | licheng\n",
      "Processing Record 95 | milcovul\n",
      "Processing Record 96 | cockburn town\n",
      "Processing Record 97 | kruisfontein\n",
      "Processing Record 98 | saint-augustin\n",
      "Processing Record 99 | barrow\n",
      "Processing Record 100 | halalo\n",
      "City not found!\n",
      "Processing Record 101 | sorvag\n",
      "City not found!\n",
      "Processing Record 102 | carutapera\n",
      "Processing Record 103 | atuona\n",
      "Processing Record 104 | ribeira grande\n",
      "Processing Record 105 | plettenberg bay\n",
      "Processing Record 106 | wyszkow\n",
      "Processing Record 107 | treinta y tres\n",
      "Processing Record 108 | bethel\n",
      "Processing Record 109 | kudinovo\n",
      "Processing Record 110 | port alfred\n",
      "Processing Record 111 | upernavik\n",
      "Processing Record 112 | nordenham\n",
      "Processing Record 113 | lebu\n",
      "Processing Record 114 | westport\n",
      "Processing Record 115 | poum\n",
      "Processing Record 116 | mayo\n",
      "Processing Record 117 | airai\n",
      "Processing Record 118 | hasaki\n",
      "Processing Record 119 | katsuura\n",
      "Processing Record 120 | ponta delgada\n",
      "Processing Record 121 | ayan\n",
      "Processing Record 122 | batagay\n",
      "Processing Record 123 | umea\n",
      "Processing Record 124 | qaanaaq\n",
      "Processing Record 125 | alofi\n",
      "Processing Record 126 | san cristobal\n",
      "Processing Record 127 | mar del plata\n",
      "Processing Record 128 | khani\n",
      "Processing Record 129 | naryan-mar\n",
      "Processing Record 130 | marawi\n",
      "Processing Record 131 | aklavik\n",
      "Processing Record 132 | kirakira\n",
      "Processing Record 133 | kodiak\n",
      "Processing Record 134 | umzimvubu\n",
      "City not found!\n",
      "Processing Record 135 | sao filipe\n",
      "Processing Record 136 | saskylakh\n",
      "Processing Record 137 | kaitangata\n",
      "Processing Record 138 | tiksi\n",
      "Processing Record 139 | taoudenni\n",
      "Processing Record 140 | vardo\n",
      "Processing Record 141 | praia da vitoria\n",
      "Processing Record 142 | bluff\n",
      "Processing Record 143 | lorengau\n",
      "Processing Record 144 | nikolskoye\n",
      "Processing Record 145 | iglesias\n",
      "Processing Record 146 | geeste\n",
      "Processing Record 147 | cherskiy\n",
      "Processing Record 148 | eureka\n",
      "Processing Record 149 | lowestoft\n",
      "Processing Record 150 | port lincoln\n",
      "Processing Record 151 | jizan\n",
      "Processing Record 152 | leh\n",
      "Processing Record 153 | truckee\n",
      "Processing Record 154 | foggia\n",
      "Processing Record 155 | nago\n",
      "Processing Record 156 | vaitupu\n",
      "City not found!\n",
      "Processing Record 157 | takoradi\n",
      "Processing Record 158 | mahebourg\n",
      "Processing Record 159 | shumskiy\n",
      "Processing Record 160 | naze\n",
      "Processing Record 161 | luderitz\n",
      "Processing Record 162 | saldanha\n",
      "Processing Record 163 | castro\n",
      "Processing Record 164 | taburi\n",
      "City not found!\n",
      "Processing Record 165 | georgetown\n",
      "Processing Record 166 | fort morgan\n",
      "Processing Record 167 | zuwarah\n",
      "Processing Record 168 | dingle\n",
      "Processing Record 169 | yershichi\n",
      "Processing Record 170 | port blair\n",
      "Processing Record 171 | san blas\n",
      "Processing Record 172 | birao\n",
      "Processing Record 173 | tautira\n",
      "Processing Record 174 | mehamn\n",
      "Processing Record 175 | elko\n",
      "Processing Record 176 | carnarvon\n",
      "Processing Record 177 | ganzhou\n",
      "Processing Record 178 | lima\n",
      "Processing Record 179 | adet\n",
      "Processing Record 180 | chokurdakh\n",
      "Processing Record 181 | anaconda\n",
      "Processing Record 182 | arraial do cabo\n",
      "Processing Record 183 | aripuana\n",
      "Processing Record 184 | deputatskiy\n",
      "Processing Record 185 | evenskjaer\n",
      "City not found!\n",
      "Processing Record 186 | sayyan\n",
      "Processing Record 187 | baraoas\n",
      "Processing Record 188 | laguna\n",
      "Processing Record 189 | cabedelo\n",
      "Processing Record 190 | rivera\n",
      "Processing Record 191 | san patricio\n",
      "Processing Record 192 | touros\n",
      "Processing Record 193 | shiloh\n",
      "Processing Record 194 | pringsewu\n",
      "Processing Record 195 | pontianak\n",
      "Processing Record 196 | puri\n",
      "Processing Record 197 | hutchinson\n",
      "Processing Record 198 | bubaque\n",
      "Processing Record 199 | parangan\n",
      "Processing Record 200 | shimoda\n",
      "Processing Record 201 | quanzhou\n",
      "Processing Record 202 | padang\n",
      "Processing Record 203 | marcona\n",
      "City not found!\n",
      "Processing Record 204 | abaete\n",
      "Processing Record 205 | anahuac\n",
      "Processing Record 206 | soyo\n",
      "Processing Record 207 | watsa\n",
      "Processing Record 208 | santa isabel do rio negro\n",
      "Processing Record 209 | asosa\n",
      "Processing Record 210 | qasigiannguit\n",
      "Processing Record 211 | sinnamary\n",
      "Processing Record 212 | fairview\n",
      "Processing Record 213 | brest\n",
      "Processing Record 214 | begoro\n",
      "Processing Record 215 | tsihombe\n",
      "City not found!\n",
      "Processing Record 216 | provideniya\n",
      "Processing Record 217 | faanui\n",
      "Processing Record 218 | port macquarie\n",
      "Processing Record 219 | jatni\n",
      "City not found!\n",
      "Processing Record 220 | koulamoutou\n",
      "Processing Record 221 | coahuayana\n",
      "Processing Record 222 | vao\n",
      "Processing Record 223 | black river\n",
      "Processing Record 224 | lompoc\n",
      "Processing Record 225 | wajima\n",
      "Processing Record 226 | tuktoyaktuk\n",
      "Processing Record 227 | labutta\n",
      "City not found!\n",
      "Processing Record 228 | sitka\n",
      "Processing Record 229 | esperance\n",
      "Processing Record 230 | alexandria\n",
      "Processing Record 231 | fortuna\n",
      "Processing Record 232 | pozo colorado\n",
      "Processing Record 233 | karatau\n",
      "Processing Record 234 | pisco\n",
      "Processing Record 235 | pangnirtung\n",
      "Processing Record 236 | kawambwa\n",
      "Processing Record 237 | acari\n",
      "Processing Record 238 | yumen\n"
     ]
    },
    {
     "name": "stdout",
     "output_type": "stream",
     "text": [
      "Processing Record 239 | bolshegrivskoye\n",
      "City not found!\n",
      "Processing Record 240 | chuy\n",
      "Processing Record 241 | vanimo\n",
      "Processing Record 242 | provost\n",
      "Processing Record 243 | shelburne\n",
      "Processing Record 244 | namatanai\n",
      "Processing Record 245 | kenai\n",
      "Processing Record 246 | souillac\n",
      "Processing Record 247 | jinji\n",
      "Processing Record 248 | tumannyy\n",
      "City not found!\n",
      "Processing Record 249 | sayanogorsk\n",
      "Processing Record 250 | nanortalik\n",
      "Processing Record 251 | muisne\n",
      "Processing Record 252 | ust-kuyga\n",
      "Processing Record 253 | husavik\n",
      "Processing Record 254 | jaru\n",
      "Processing Record 255 | assiniboia\n",
      "Processing Record 256 | grindavik\n",
      "Processing Record 257 | mamontovo\n",
      "Processing Record 258 | mangrol\n",
      "Processing Record 259 | korla\n",
      "Processing Record 260 | tidore\n",
      "City not found!\n",
      "Processing Record 261 | meyungs\n",
      "City not found!\n",
      "Processing Record 262 | yomitan\n",
      "City not found!\n",
      "Processing Record 263 | mamedkala\n",
      "Processing Record 264 | jiaonan\n",
      "Processing Record 265 | bur gabo\n",
      "City not found!\n",
      "Processing Record 266 | burnie\n",
      "Processing Record 267 | zharkent\n",
      "Processing Record 268 | saint george\n",
      "Processing Record 269 | bonavista\n",
      "Processing Record 270 | odzaci\n",
      "Processing Record 271 | quatre cocos\n",
      "Processing Record 272 | port hawkesbury\n",
      "Processing Record 273 | cidreira\n",
      "Processing Record 274 | bathsheba\n",
      "Processing Record 275 | freeport\n",
      "Processing Record 276 | turukhansk\n",
      "Processing Record 277 | vostok\n",
      "Processing Record 278 | port hardy\n",
      "Processing Record 279 | manoel urbano\n",
      "Processing Record 280 | wanning\n",
      "Processing Record 281 | verkh-usugli\n",
      "Processing Record 282 | ammon\n",
      "Processing Record 283 | sao joao da barra\n",
      "Processing Record 284 | mbouda\n",
      "Processing Record 285 | conde\n",
      "Processing Record 286 | westpunt\n",
      "City not found!\n",
      "Processing Record 287 | fairbanks\n",
      "Processing Record 288 | rungata\n",
      "City not found!\n",
      "Processing Record 289 | richards bay\n",
      "Processing Record 290 | geraldton\n",
      "Processing Record 291 | baykit\n",
      "Processing Record 292 | chicama\n",
      "Processing Record 293 | halifax\n",
      "Processing Record 294 | mergui\n",
      "City not found!\n",
      "Processing Record 295 | noumea\n",
      "Processing Record 296 | big bend\n",
      "Processing Record 297 | saint-francois\n",
      "Processing Record 298 | sungaipenuh\n",
      "Processing Record 299 | matay\n",
      "Processing Record 300 | nizhneyansk\n",
      "City not found!\n",
      "Processing Record 301 | guayaramerin\n",
      "Processing Record 302 | kottingbrunn\n",
      "Processing Record 303 | ostrovnoy\n",
      "Processing Record 304 | klaksvik\n",
      "Processing Record 305 | along\n",
      "Processing Record 306 | siderno\n",
      "Processing Record 307 | calama\n",
      "Processing Record 308 | rawson\n",
      "Processing Record 309 | urucara\n",
      "Processing Record 310 | taperoa\n",
      "Processing Record 311 | kotelnikovo\n",
      "Processing Record 312 | concepcion del oro\n",
      "Processing Record 313 | nkoteng\n",
      "Processing Record 314 | basco\n",
      "Processing Record 315 | bogorodskoye\n",
      "Processing Record 316 | corner brook\n",
      "Processing Record 317 | grand river south east\n",
      "City not found!\n",
      "Processing Record 318 | troitskoye\n",
      "Processing Record 319 | odoyev\n",
      "Processing Record 320 | salekhard\n",
      "Processing Record 321 | saint-leu\n",
      "Processing Record 322 | santa cruz\n",
      "Processing Record 323 | seoul\n",
      "Processing Record 324 | hobyo\n",
      "Processing Record 325 | zaysan\n",
      "Processing Record 326 | chongqing\n",
      "Processing Record 327 | kaseda\n",
      "Processing Record 328 | sterling\n",
      "Processing Record 329 | tocoa\n",
      "Processing Record 330 | riyadh\n",
      "Processing Record 331 | zhigansk\n",
      "Processing Record 332 | talnakh\n",
      "Processing Record 333 | egvekinot\n",
      "Processing Record 334 | ginir\n",
      "Processing Record 335 | senov\n",
      "Processing Record 336 | nibbar\n",
      "Processing Record 337 | yatou\n",
      "Processing Record 338 | yulara\n",
      "Processing Record 339 | caravelas\n",
      "Processing Record 340 | coihaique\n",
      "Processing Record 341 | pevek\n",
      "Processing Record 342 | port hedland\n",
      "Processing Record 343 | gorontalo\n",
      "Processing Record 344 | ponta do sol\n",
      "Processing Record 345 | tornio\n",
      "Processing Record 346 | darnah\n",
      "Processing Record 347 | esna\n",
      "Processing Record 348 | lata\n",
      "Processing Record 349 | dehui\n",
      "Processing Record 350 | nantucket\n",
      "Processing Record 351 | babanusah\n",
      "City not found!\n",
      "Processing Record 352 | saint-ambroise\n",
      "Processing Record 353 | nishihara\n",
      "Processing Record 354 | kuandian\n",
      "Processing Record 355 | whitehorse\n",
      "Processing Record 356 | argayash\n",
      "Processing Record 357 | maniitsoq\n",
      "Processing Record 358 | hun\n",
      "Processing Record 359 | holoby\n",
      "Processing Record 360 | cabo san lucas\n",
      "Processing Record 361 | beatrice\n",
      "Processing Record 362 | rivadavia\n",
      "Processing Record 363 | ensley\n",
      "Processing Record 364 | bolungarvik\n",
      "City not found!\n",
      "Processing Record 365 | lavrentiya\n",
      "Processing Record 366 | kamenskoye\n",
      "City not found!\n",
      "Processing Record 367 | cantapoy\n",
      "Processing Record 368 | sao gabriel da cachoeira\n",
      "Processing Record 369 | navapur\n",
      "City not found!\n",
      "Processing Record 370 | araguacu\n",
      "Processing Record 371 | batagay-alyta\n",
      "Processing Record 372 | auki\n",
      "Processing Record 373 | hambantota\n",
      "Processing Record 374 | dolbeau\n",
      "City not found!\n",
      "Processing Record 375 | avera\n",
      "Processing Record 376 | yuzhno-kurilsk\n",
      "Processing Record 377 | kiama\n",
      "Processing Record 378 | bireun\n",
      "Processing Record 379 | codrington\n",
      "Processing Record 380 | aguas formosas\n",
      "Processing Record 381 | dunedin\n",
      "Processing Record 382 | allahganj\n",
      "Processing Record 383 | moree\n",
      "Processing Record 384 | saint-pierre\n",
      "Processing Record 385 | jaen\n",
      "Processing Record 386 | bitung\n",
      "Processing Record 387 | mys shmidta\n",
      "City not found!\n",
      "Processing Record 388 | opuwo\n",
      "Processing Record 389 | skjervoy\n",
      "Processing Record 390 | bella vista\n",
      "Processing Record 391 | filadelfia\n",
      "Processing Record 392 | hurghada\n",
      "Processing Record 393 | kaniama\n",
      "Processing Record 394 | punto fijo\n",
      "Processing Record 395 | acapulco\n",
      "Processing Record 396 | ous\n",
      "Processing Record 397 | saint anthony\n",
      "Processing Record 398 | istanbul\n",
      "Processing Record 399 | coquimbo\n",
      "Processing Record 400 | msowero\n",
      "Processing Record 401 | oktyabrskiy\n",
      "Processing Record 402 | cayenne\n",
      "Processing Record 403 | port-cartier\n",
      "Processing Record 404 | verkhniye kigi\n",
      "Processing Record 405 | mackay\n",
      "Processing Record 406 | gizo\n",
      "Processing Record 407 | bengkulu\n",
      "Processing Record 408 | balykshi\n",
      "Processing Record 409 | bamut\n",
      "Processing Record 410 | hagi\n",
      "Processing Record 411 | kasane\n",
      "Processing Record 412 | muros\n",
      "Processing Record 413 | caribou\n",
      "Processing Record 414 | palabuhanratu\n",
      "City not found!\n",
      "Processing Record 415 | peace river\n",
      "Processing Record 416 | escanaba\n",
      "Processing Record 417 | nabire\n",
      "Processing Record 418 | concepcion\n",
      "Processing Record 419 | valparaiso\n",
      "Processing Record 420 | senanga\n",
      "Processing Record 421 | thinadhoo\n",
      "Processing Record 422 | oktyabrskoye\n",
      "Processing Record 423 | finnsnes\n",
      "Processing Record 424 | sabang\n",
      "Processing Record 425 | gazanjyk\n",
      "Processing Record 426 | road town\n",
      "Processing Record 427 | paytug\n",
      "City not found!\n",
      "Processing Record 428 | carbonia\n",
      "Processing Record 429 | vaitape\n",
      "Processing Record 430 | markova\n",
      "Processing Record 431 | garowe\n",
      "Processing Record 432 | kaeo\n",
      "Processing Record 433 | tabulbah\n",
      "City not found!\n",
      "Processing Record 434 | mecca\n",
      "Processing Record 435 | antofagasta\n",
      "Processing Record 436 | joshimath\n",
      "Processing Record 437 | teluk nibung\n",
      "Processing Record 438 | fare\n",
      "Processing Record 439 | kazalinsk\n",
      "City not found!\n",
      "Processing Record 440 | poso\n",
      "Processing Record 441 | zyryanka\n",
      "Processing Record 442 | nong han\n",
      "Processing Record 443 | hofn\n",
      "Processing Record 444 | mackenzie\n",
      "Processing Record 445 | bayangol\n",
      "Processing Record 446 | barinitas\n",
      "Processing Record 447 | sahrak\n",
      "City not found!\n",
      "Processing Record 448 | inirida\n",
      "Processing Record 449 | stege\n",
      "Processing Record 450 | hamilton\n",
      "Processing Record 451 | maple creek\n",
      "Processing Record 452 | huarmey\n",
      "Processing Record 453 | pervomayskiy\n",
      "Processing Record 454 | oliveira dos brejinhos\n",
      "Processing Record 455 | fukue\n",
      "Processing Record 456 | santa rosa\n",
      "Processing Record 457 | xining\n",
      "Processing Record 458 | kedougou\n",
      "Processing Record 459 | miles city\n",
      "Processing Record 460 | bereda\n",
      "Processing Record 461 | kurilsk\n",
      "Processing Record 462 | swift current\n",
      "Processing Record 463 | sanming\n",
      "Processing Record 464 | klyuchi\n",
      "Processing Record 465 | cairns\n",
      "Processing Record 466 | talara\n",
      "Processing Record 467 | gornopravdinsk\n",
      "Processing Record 468 | belmonte\n",
      "Processing Record 469 | gyanpur\n",
      "Processing Record 470 | singaparna\n",
      "Processing Record 471 | atoyac\n",
      "Processing Record 472 | waipawa\n",
      "Processing Record 473 | chino valley\n",
      "Processing Record 474 | phan thiet\n"
     ]
    },
    {
     "name": "stdout",
     "output_type": "stream",
     "text": [
      "Processing Record 475 | kargasok\n",
      "Processing Record 476 | alice springs\n",
      "Processing Record 477 | iqaluit\n",
      "Processing Record 478 | manokwari\n",
      "Processing Record 479 | kanniyakumari\n",
      "Processing Record 480 | puerto asis\n",
      "Processing Record 481 | hualmay\n",
      "Processing Record 482 | luebo\n",
      "Processing Record 483 | grand gaube\n",
      "Processing Record 484 | hovd\n",
      "Processing Record 485 | roald\n",
      "Processing Record 486 | hirara\n",
      "Processing Record 487 | mao\n",
      "Processing Record 488 | valer\n",
      "Processing Record 489 | irbeyskoye\n",
      "Processing Record 490 | guanica\n",
      "Processing Record 491 | cooma\n",
      "Processing Record 492 | viedma\n",
      "Processing Record 493 | lagoa\n",
      "Processing Record 494 | tura\n",
      "Processing Record 495 | manaure\n",
      "Processing Record 496 | sinkat\n",
      "City not found!\n",
      "Processing Record 497 | chabahar\n",
      "Processing Record 498 | bontang\n",
      "Processing Record 499 | rocha\n",
      "Processing Record 500 | half moon bay\n",
      "Processing Record 501 | kidal\n",
      "Processing Record 502 | duekoue\n",
      "Processing Record 503 | katherine\n",
      "Processing Record 504 | longonjo\n",
      "Processing Record 505 | kanaya\n",
      "Processing Record 506 | lasa\n",
      "Processing Record 507 | karratha\n",
      "Processing Record 508 | tabou\n",
      "Processing Record 509 | santa marta\n",
      "Processing Record 510 | puerto cabezas\n",
      "Processing Record 511 | ofunato\n",
      "Processing Record 512 | novyy urgal\n",
      "Processing Record 513 | iwanai\n",
      "Processing Record 514 | yar-sale\n",
      "Processing Record 515 | grado\n",
      "Processing Record 516 | tomelloso\n",
      "Processing Record 517 | oum hadjer\n",
      "Processing Record 518 | gigmoto\n",
      "Processing Record 519 | lethem\n",
      "Processing Record 520 | guadalupe y calvo\n",
      "Processing Record 521 | terrace bay\n",
      "Processing Record 522 | spokane\n",
      "Processing Record 523 | hithadhoo\n",
      "Processing Record 524 | sisimiut\n",
      "Processing Record 525 | jalu\n",
      "Processing Record 526 | teguldet\n",
      "Processing Record 527 | bilma\n",
      "Processing Record 528 | talesh\n",
      "City not found!\n",
      "Processing Record 529 | aiken\n",
      "Processing Record 530 | lagdo\n",
      "Processing Record 531 | kismayo\n",
      "Processing Record 532 | santa rita do passa quatro\n",
      "Processing Record 533 | salalah\n",
      "Processing Record 534 | ilulissat\n",
      "Processing Record 535 | palanpur\n",
      "Processing Record 536 | sur\n",
      "Processing Record 537 | walvis bay\n",
      "Processing Record 538 | nicoya\n",
      "Processing Record 539 | bafq\n",
      "Processing Record 540 | comodoro rivadavia\n",
      "Processing Record 541 | oriximina\n",
      "Processing Record 542 | tucuma\n",
      "Processing Record 543 | coueron\n",
      "Processing Record 544 | toliary\n",
      "City not found!\n",
      "Processing Record 545 | ladysmith\n",
      "Processing Record 546 | galle\n",
      "Processing Record 547 | meiningen\n",
      "Processing Record 548 | samarai\n",
      "Processing Record 549 | el copey\n",
      "Processing Record 550 | zhangye\n",
      "Processing Record 551 | kavaratti\n",
      "Processing Record 552 | cedar city\n",
      "Processing Record 553 | nuuk\n",
      "Processing Record 554 | limaong\n",
      "Processing Record 555 | balimo\n",
      "City not found!\n",
      "Processing Record 556 | liniere\n",
      "City not found!\n",
      "Processing Record 557 | ekhabi\n",
      "Processing Record 558 | yerbogachen\n",
      "Processing Record 559 | lazaro cardenas\n",
      "Processing Record 560 | buala\n",
      "Processing Record 561 | louisbourg\n",
      "City not found!\n",
      "Processing Record 562 | tuy hoa\n",
      "Processing Record 563 | lolua\n",
      "City not found!\n",
      "Processing Record 564 | balikpapan\n",
      "Processing Record 565 | evanston\n",
      "Processing Record 566 | ossora\n",
      "Processing Record 567 | flinders\n",
      "Processing Record 568 | san quintin\n",
      "Processing Record 569 | changji\n",
      "Processing Record 570 | rosita\n",
      "Processing Record 571 | najran\n",
      "Processing Record 572 | yibin\n",
      "Processing Record 573 | acuna\n",
      "City not found!\n",
      "Processing Record 574 | muroto\n",
      "Processing Record 575 | homer\n",
      "Processing Record 576 | saleaula\n",
      "City not found!\n",
      "Processing Record 577 | santa marinella\n",
      "Processing Record 578 | flagstaff\n",
      "Processing Record 579 | rochegda\n",
      "Processing Record 580 | isangel\n",
      "Processing Record 581 | porto novo\n",
      "Processing Record 582 | mareeba\n",
      "Processing Record 583 | redcar\n",
      "Processing Record 584 | rodeo\n",
      "Processing Record 585 | grand centre\n",
      "City not found!\n",
      "Processing Record 586 | rudbar\n",
      "Processing Record 587 | atbasar\n",
      "Processing Record 588 | pontes e lacerda\n",
      "Processing Record 589 | dryden\n",
      "Processing Record 590 | adrar\n",
      "Processing Record 591 | bonnyville\n",
      "Processing Record 592 | dondo\n",
      "Processing Record 593 | sellye\n",
      "Processing Record 594 | tecpan\n",
      "Processing Record 595 | nurota\n",
      "Processing Record 596 | honningsvag\n",
      "Processing Record 597 | mantua\n",
      "Processing Record 598 | pedro ii\n",
      "Processing Record 599 | nizhniy tagil\n",
      "Processing Record 600 | ahipara\n",
      "Processing Record 601 | baruun-urt\n",
      "Processing Record 602 | pouembout\n",
      "Processing Record 603 | tamandare\n",
      "Processing Record 604 | ancud\n",
      "Processing Record 605 | la rioja\n",
      "Processing Record 606 | beihai\n"
     ]
    }
   ],
   "source": [
    "# Save config information.\n",
    "url = \"http://api.openweathermap.org/data/2.5/weather?\"\n",
    "units = \"imperial\"\n",
    "\n",
    "# Build partial query URL\n",
    "query_url = f\"{url}appid={weather_api_key}&units={units}&q=\"\n",
    "\n",
    "# set up lists to hold reponse info\n",
    "name = []\n",
    "lat = []\n",
    "long = []\n",
    "max_temp = []\n",
    "humid = []\n",
    "clouds = []\n",
    "winds = []\n",
    "country = []\n",
    "date = []\n",
    "\n",
    "# Loop through the list of cities and perform a request for data on each\n",
    "print(\"Beginning Data Retrieval\\n\")\n",
    "\n",
    "for city in cities:\n",
    "    print(\"Processing Record \" + str(cities.index(city)) + \" | \" + city)\n",
    "    response = requests.get(query_url + city).json()\n",
    "    \n",
    "    try:\n",
    "        name.append(response['name'])\n",
    "        lat.append(response['coord']['lat'])\n",
    "        long.append(response['coord']['lon'])\n",
    "        max_temp.append(response['main']['temp_max'])\n",
    "        humid.append(response['main']['humidity'])\n",
    "        clouds.append(response['clouds']['all'])\n",
    "        winds.append(response['wind']['speed'])\n",
    "        country.append(response['sys']['country'])\n",
    "        date.append(response['dt'])\n",
    "        \n",
    "        time.sleep(1.01)\n",
    "        \n",
    "    except(KeyError):\n",
    "        print(\"City not found!\")\n",
    "        pass\n",
    "    \n",
    "    \n",
    "#response"
   ]
  },
  {
   "cell_type": "markdown",
   "metadata": {},
   "source": [
    "### Convert Raw Data to DataFrame\n",
    "* Export the city data into a .csv.\n",
    "* Display the DataFrame"
   ]
  },
  {
   "cell_type": "code",
   "execution_count": 7,
   "metadata": {},
   "outputs": [
    {
     "data": {
      "text/html": [
       "<div>\n",
       "<style scoped>\n",
       "    .dataframe tbody tr th:only-of-type {\n",
       "        vertical-align: middle;\n",
       "    }\n",
       "\n",
       "    .dataframe tbody tr th {\n",
       "        vertical-align: top;\n",
       "    }\n",
       "\n",
       "    .dataframe thead th {\n",
       "        text-align: right;\n",
       "    }\n",
       "</style>\n",
       "<table border=\"1\" class=\"dataframe\">\n",
       "  <thead>\n",
       "    <tr style=\"text-align: right;\">\n",
       "      <th></th>\n",
       "      <th>City</th>\n",
       "      <th>Lat</th>\n",
       "      <th>Lng</th>\n",
       "      <th>Max Temp</th>\n",
       "      <th>Humidity</th>\n",
       "      <th>Cloudiness</th>\n",
       "      <th>Wind Speed</th>\n",
       "      <th>Country</th>\n",
       "      <th>Date</th>\n",
       "    </tr>\n",
       "  </thead>\n",
       "  <tbody>\n",
       "    <tr>\n",
       "      <th>0</th>\n",
       "      <td>Te Anau</td>\n",
       "      <td>-45.4167</td>\n",
       "      <td>167.7167</td>\n",
       "      <td>69.10</td>\n",
       "      <td>54</td>\n",
       "      <td>100</td>\n",
       "      <td>5.91</td>\n",
       "      <td>NZ</td>\n",
       "      <td>1612754873</td>\n",
       "    </tr>\n",
       "    <tr>\n",
       "      <th>1</th>\n",
       "      <td>Cape Town</td>\n",
       "      <td>-33.9258</td>\n",
       "      <td>18.4232</td>\n",
       "      <td>66.99</td>\n",
       "      <td>72</td>\n",
       "      <td>0</td>\n",
       "      <td>14.97</td>\n",
       "      <td>ZA</td>\n",
       "      <td>1612754841</td>\n",
       "    </tr>\n",
       "    <tr>\n",
       "      <th>2</th>\n",
       "      <td>Narsaq</td>\n",
       "      <td>60.9167</td>\n",
       "      <td>-46.0500</td>\n",
       "      <td>39.20</td>\n",
       "      <td>28</td>\n",
       "      <td>20</td>\n",
       "      <td>39.12</td>\n",
       "      <td>GL</td>\n",
       "      <td>1612754878</td>\n",
       "    </tr>\n",
       "    <tr>\n",
       "      <th>3</th>\n",
       "      <td>Hobart</td>\n",
       "      <td>-42.8794</td>\n",
       "      <td>147.3294</td>\n",
       "      <td>66.20</td>\n",
       "      <td>45</td>\n",
       "      <td>40</td>\n",
       "      <td>18.41</td>\n",
       "      <td>AU</td>\n",
       "      <td>1612754747</td>\n",
       "    </tr>\n",
       "    <tr>\n",
       "      <th>4</th>\n",
       "      <td>Petropavlovsk-Kamchatskiy</td>\n",
       "      <td>53.0452</td>\n",
       "      <td>158.6483</td>\n",
       "      <td>24.80</td>\n",
       "      <td>80</td>\n",
       "      <td>90</td>\n",
       "      <td>8.95</td>\n",
       "      <td>RU</td>\n",
       "      <td>1612754863</td>\n",
       "    </tr>\n",
       "  </tbody>\n",
       "</table>\n",
       "</div>"
      ],
      "text/plain": [
       "                        City      Lat       Lng  Max Temp  Humidity  \\\n",
       "0                    Te Anau -45.4167  167.7167     69.10        54   \n",
       "1                  Cape Town -33.9258   18.4232     66.99        72   \n",
       "2                     Narsaq  60.9167  -46.0500     39.20        28   \n",
       "3                     Hobart -42.8794  147.3294     66.20        45   \n",
       "4  Petropavlovsk-Kamchatskiy  53.0452  158.6483     24.80        80   \n",
       "\n",
       "   Cloudiness  Wind Speed Country        Date  \n",
       "0         100        5.91      NZ  1612754873  \n",
       "1           0       14.97      ZA  1612754841  \n",
       "2          20       39.12      GL  1612754878  \n",
       "3          40       18.41      AU  1612754747  \n",
       "4          90        8.95      RU  1612754863  "
      ]
     },
     "execution_count": 7,
     "metadata": {},
     "output_type": "execute_result"
    }
   ],
   "source": [
    "weather_dict = {\n",
    "    \"City\": name,\n",
    "    \"Lat\": lat,\n",
    "    \"Lng\": long,\n",
    "    \"Max Temp\": max_temp,\n",
    "    \"Humidity\": humid,\n",
    "    \"Cloudiness\": clouds,\n",
    "    \"Wind Speed\": winds,\n",
    "    \"Country\": country,\n",
    "    \"Date\": date\n",
    "}\n",
    "weather_data = pd.DataFrame(weather_dict)\n",
    "\n",
    "weather_data.to_csv(output_data_file)    \n",
    "#weather_data.iloc[1,4] = 200\n",
    "weather_data.head()"
   ]
  },
  {
   "cell_type": "code",
   "execution_count": 8,
   "metadata": {},
   "outputs": [
    {
     "data": {
      "text/html": [
       "<div>\n",
       "<style scoped>\n",
       "    .dataframe tbody tr th:only-of-type {\n",
       "        vertical-align: middle;\n",
       "    }\n",
       "\n",
       "    .dataframe tbody tr th {\n",
       "        vertical-align: top;\n",
       "    }\n",
       "\n",
       "    .dataframe thead th {\n",
       "        text-align: right;\n",
       "    }\n",
       "</style>\n",
       "<table border=\"1\" class=\"dataframe\">\n",
       "  <thead>\n",
       "    <tr style=\"text-align: right;\">\n",
       "      <th></th>\n",
       "      <th>Lat</th>\n",
       "      <th>Lng</th>\n",
       "      <th>Max Temp</th>\n",
       "      <th>Humidity</th>\n",
       "      <th>Cloudiness</th>\n",
       "      <th>Wind Speed</th>\n",
       "      <th>Date</th>\n",
       "    </tr>\n",
       "  </thead>\n",
       "  <tbody>\n",
       "    <tr>\n",
       "      <th>count</th>\n",
       "      <td>554.000000</td>\n",
       "      <td>554.000000</td>\n",
       "      <td>554.000000</td>\n",
       "      <td>554.000000</td>\n",
       "      <td>554.000000</td>\n",
       "      <td>554.000000</td>\n",
       "      <td>5.540000e+02</td>\n",
       "    </tr>\n",
       "    <tr>\n",
       "      <th>mean</th>\n",
       "      <td>21.214749</td>\n",
       "      <td>16.591725</td>\n",
       "      <td>48.242004</td>\n",
       "      <td>73.261733</td>\n",
       "      <td>52.705776</td>\n",
       "      <td>8.562347</td>\n",
       "      <td>1.612755e+09</td>\n",
       "    </tr>\n",
       "    <tr>\n",
       "      <th>std</th>\n",
       "      <td>32.763562</td>\n",
       "      <td>92.016158</td>\n",
       "      <td>31.820634</td>\n",
       "      <td>19.229698</td>\n",
       "      <td>39.862944</td>\n",
       "      <td>6.317231</td>\n",
       "      <td>2.807610e+02</td>\n",
       "    </tr>\n",
       "    <tr>\n",
       "      <th>min</th>\n",
       "      <td>-54.800000</td>\n",
       "      <td>-179.166700</td>\n",
       "      <td>-35.640000</td>\n",
       "      <td>12.000000</td>\n",
       "      <td>0.000000</td>\n",
       "      <td>0.290000</td>\n",
       "      <td>1.612755e+09</td>\n",
       "    </tr>\n",
       "    <tr>\n",
       "      <th>25%</th>\n",
       "      <td>-5.312225</td>\n",
       "      <td>-67.397300</td>\n",
       "      <td>26.600000</td>\n",
       "      <td>63.250000</td>\n",
       "      <td>9.000000</td>\n",
       "      <td>3.950000</td>\n",
       "      <td>1.612755e+09</td>\n",
       "    </tr>\n",
       "    <tr>\n",
       "      <th>50%</th>\n",
       "      <td>26.910700</td>\n",
       "      <td>20.998050</td>\n",
       "      <td>57.945000</td>\n",
       "      <td>78.000000</td>\n",
       "      <td>53.000000</td>\n",
       "      <td>6.910000</td>\n",
       "      <td>1.612755e+09</td>\n",
       "    </tr>\n",
       "    <tr>\n",
       "      <th>75%</th>\n",
       "      <td>47.657875</td>\n",
       "      <td>100.349575</td>\n",
       "      <td>73.915000</td>\n",
       "      <td>87.000000</td>\n",
       "      <td>93.750000</td>\n",
       "      <td>11.500000</td>\n",
       "      <td>1.612756e+09</td>\n",
       "    </tr>\n",
       "    <tr>\n",
       "      <th>max</th>\n",
       "      <td>78.218600</td>\n",
       "      <td>178.416700</td>\n",
       "      <td>95.000000</td>\n",
       "      <td>100.000000</td>\n",
       "      <td>100.000000</td>\n",
       "      <td>39.120000</td>\n",
       "      <td>1.612756e+09</td>\n",
       "    </tr>\n",
       "  </tbody>\n",
       "</table>\n",
       "</div>"
      ],
      "text/plain": [
       "              Lat         Lng    Max Temp    Humidity  Cloudiness  Wind Speed  \\\n",
       "count  554.000000  554.000000  554.000000  554.000000  554.000000  554.000000   \n",
       "mean    21.214749   16.591725   48.242004   73.261733   52.705776    8.562347   \n",
       "std     32.763562   92.016158   31.820634   19.229698   39.862944    6.317231   \n",
       "min    -54.800000 -179.166700  -35.640000   12.000000    0.000000    0.290000   \n",
       "25%     -5.312225  -67.397300   26.600000   63.250000    9.000000    3.950000   \n",
       "50%     26.910700   20.998050   57.945000   78.000000   53.000000    6.910000   \n",
       "75%     47.657875  100.349575   73.915000   87.000000   93.750000   11.500000   \n",
       "max     78.218600  178.416700   95.000000  100.000000  100.000000   39.120000   \n",
       "\n",
       "               Date  \n",
       "count  5.540000e+02  \n",
       "mean   1.612755e+09  \n",
       "std    2.807610e+02  \n",
       "min    1.612755e+09  \n",
       "25%    1.612755e+09  \n",
       "50%    1.612755e+09  \n",
       "75%    1.612756e+09  \n",
       "max    1.612756e+09  "
      ]
     },
     "execution_count": 8,
     "metadata": {},
     "output_type": "execute_result"
    }
   ],
   "source": [
    "weather_data.describe()"
   ]
  },
  {
   "cell_type": "markdown",
   "metadata": {},
   "source": [
    "## Inspect the data and remove the cities where the humidity > 100%.\n",
    "----\n",
    "Skip this step if there are no cities that have humidity > 100%. "
   ]
  },
  {
   "cell_type": "code",
   "execution_count": null,
   "metadata": {},
   "outputs": [],
   "source": []
  },
  {
   "cell_type": "code",
   "execution_count": 9,
   "metadata": {},
   "outputs": [
    {
     "data": {
      "text/plain": [
       "[]"
      ]
     },
     "execution_count": 9,
     "metadata": {},
     "output_type": "execute_result"
    }
   ],
   "source": [
    "#  Get the indices of cities that have humidity over 100%.\n",
    "damp_places = weather_data.index[weather_data['Humidity'] > 100].tolist()\n",
    "damp_places"
   ]
  },
  {
   "cell_type": "code",
   "execution_count": 10,
   "metadata": {},
   "outputs": [
    {
     "data": {
      "text/html": [
       "<div>\n",
       "<style scoped>\n",
       "    .dataframe tbody tr th:only-of-type {\n",
       "        vertical-align: middle;\n",
       "    }\n",
       "\n",
       "    .dataframe tbody tr th {\n",
       "        vertical-align: top;\n",
       "    }\n",
       "\n",
       "    .dataframe thead th {\n",
       "        text-align: right;\n",
       "    }\n",
       "</style>\n",
       "<table border=\"1\" class=\"dataframe\">\n",
       "  <thead>\n",
       "    <tr style=\"text-align: right;\">\n",
       "      <th></th>\n",
       "      <th>City</th>\n",
       "      <th>Lat</th>\n",
       "      <th>Lng</th>\n",
       "      <th>Max Temp</th>\n",
       "      <th>Humidity</th>\n",
       "      <th>Cloudiness</th>\n",
       "      <th>Wind Speed</th>\n",
       "      <th>Country</th>\n",
       "      <th>Date</th>\n",
       "    </tr>\n",
       "  </thead>\n",
       "  <tbody>\n",
       "    <tr>\n",
       "      <th>0</th>\n",
       "      <td>Te Anau</td>\n",
       "      <td>-45.4167</td>\n",
       "      <td>167.7167</td>\n",
       "      <td>69.10</td>\n",
       "      <td>54</td>\n",
       "      <td>100</td>\n",
       "      <td>5.91</td>\n",
       "      <td>NZ</td>\n",
       "      <td>1612754873</td>\n",
       "    </tr>\n",
       "    <tr>\n",
       "      <th>1</th>\n",
       "      <td>Cape Town</td>\n",
       "      <td>-33.9258</td>\n",
       "      <td>18.4232</td>\n",
       "      <td>66.99</td>\n",
       "      <td>72</td>\n",
       "      <td>0</td>\n",
       "      <td>14.97</td>\n",
       "      <td>ZA</td>\n",
       "      <td>1612754841</td>\n",
       "    </tr>\n",
       "    <tr>\n",
       "      <th>2</th>\n",
       "      <td>Narsaq</td>\n",
       "      <td>60.9167</td>\n",
       "      <td>-46.0500</td>\n",
       "      <td>39.20</td>\n",
       "      <td>28</td>\n",
       "      <td>20</td>\n",
       "      <td>39.12</td>\n",
       "      <td>GL</td>\n",
       "      <td>1612754878</td>\n",
       "    </tr>\n",
       "    <tr>\n",
       "      <th>3</th>\n",
       "      <td>Hobart</td>\n",
       "      <td>-42.8794</td>\n",
       "      <td>147.3294</td>\n",
       "      <td>66.20</td>\n",
       "      <td>45</td>\n",
       "      <td>40</td>\n",
       "      <td>18.41</td>\n",
       "      <td>AU</td>\n",
       "      <td>1612754747</td>\n",
       "    </tr>\n",
       "    <tr>\n",
       "      <th>4</th>\n",
       "      <td>Petropavlovsk-Kamchatskiy</td>\n",
       "      <td>53.0452</td>\n",
       "      <td>158.6483</td>\n",
       "      <td>24.80</td>\n",
       "      <td>80</td>\n",
       "      <td>90</td>\n",
       "      <td>8.95</td>\n",
       "      <td>RU</td>\n",
       "      <td>1612754863</td>\n",
       "    </tr>\n",
       "  </tbody>\n",
       "</table>\n",
       "</div>"
      ],
      "text/plain": [
       "                        City      Lat       Lng  Max Temp  Humidity  \\\n",
       "0                    Te Anau -45.4167  167.7167     69.10        54   \n",
       "1                  Cape Town -33.9258   18.4232     66.99        72   \n",
       "2                     Narsaq  60.9167  -46.0500     39.20        28   \n",
       "3                     Hobart -42.8794  147.3294     66.20        45   \n",
       "4  Petropavlovsk-Kamchatskiy  53.0452  158.6483     24.80        80   \n",
       "\n",
       "   Cloudiness  Wind Speed Country        Date  \n",
       "0         100        5.91      NZ  1612754873  \n",
       "1           0       14.97      ZA  1612754841  \n",
       "2          20       39.12      GL  1612754878  \n",
       "3          40       18.41      AU  1612754747  \n",
       "4          90        8.95      RU  1612754863  "
      ]
     },
     "execution_count": 10,
     "metadata": {},
     "output_type": "execute_result"
    }
   ],
   "source": [
    "# Make a new DataFrame equal to the city data to drop all humidity outliers by index.\n",
    "# Passing \"inplace=False\" will make a copy of the city_data DataFrame, which we call \"clean_city_data\".\n",
    "clean_city_data = weather_data.drop(weather_data.index[damp_places], inplace=False)\n",
    "clean_city_data.head()"
   ]
  },
  {
   "cell_type": "code",
   "execution_count": null,
   "metadata": {},
   "outputs": [],
   "source": []
  },
  {
   "cell_type": "markdown",
   "metadata": {},
   "source": [
    "## Plotting the Data\n",
    "* Use proper labeling of the plots using plot titles (including date of analysis) and axes labels.\n",
    "* Save the plotted figures as .pngs."
   ]
  },
  {
   "cell_type": "markdown",
   "metadata": {},
   "source": [
    "## Latitude vs. Temperature Plot"
   ]
  },
  {
   "cell_type": "code",
   "execution_count": 11,
   "metadata": {},
   "outputs": [
    {
     "data": {
      "image/png": "[encoded data removed]",
      "text/plain": [
       "<Figure size 432x288 with 1 Axes>"
      ]
     },
     "metadata": {
      "needs_background": "light"
     },
     "output_type": "display_data"
    }
   ],
   "source": [
    "date_utc = time.gmtime(clean_city_data['Date'][0])\n",
    "\n",
    "plt.scatter(clean_city_data['Lat'],clean_city_data['Max Temp'])\n",
    "\n",
    "plt.title(\"Max Temperature vs Latitude (\" + time.strftime(\"%d %b %Y\", date_utc) +\")\")\n",
    "plt.xlabel(\"Latitude\")\n",
    "plt.ylabel(\"Temperature (F)\")\n",
    "\n",
    "plt.savefig(\"output_data/Temp_Lat\")"
   ]
  },
  {
   "cell_type": "markdown",
   "metadata": {},
   "source": [
    "When max temperature is plotted against latitude, we see the highest temperatures at the equator (latitude 0), and temperatures decreasing as we move north and south from there. Max temperatures are significantly lower in the northern hemisphere, where it's winter, which explains why the plot is not symmetrical. "
   ]
  },
  {
   "cell_type": "markdown",
   "metadata": {},
   "source": [
    "## Latitude vs. Humidity Plot"
   ]
  },
  {
   "cell_type": "code",
   "execution_count": 12,
   "metadata": {},
   "outputs": [
    {
     "data": {
      "image/png": "[encoded data removed]",
      "text/plain": [
       "<Figure size 432x288 with 1 Axes>"
      ]
     },
     "metadata": {
      "needs_background": "light"
     },
     "output_type": "display_data"
    }
   ],
   "source": [
    "plt.scatter(clean_city_data['Lat'],clean_city_data['Humidity'])\n",
    "\n",
    "plt.title(\"Humidity vs Latitude (\" + time.strftime(\"%d %b %Y\", date_utc) +\")\")\n",
    "plt.xlabel(\"Latitude\")\n",
    "plt.ylabel(\"Humidity (%)\")\n",
    "\n",
    "plt.savefig(\"output_data/Hum_Lat\")"
   ]
  },
  {
   "cell_type": "markdown",
   "metadata": {},
   "source": [
    "A plot of humidity vs latitude does not reveal such an obvious trend, but it does appear that higher humidities are \n",
    "concentrated in the northern hemisphere. However, this may simply be explained by the fact that there is more landmass in the northern hemisphere, and therefore the cities in the sample are more spaced out in the northern hemisphere."
   ]
  },
  {
   "cell_type": "markdown",
   "metadata": {},
   "source": [
    "## Latitude vs. Cloudiness Plot"
   ]
  },
  {
   "cell_type": "code",
   "execution_count": 14,
   "metadata": {},
   "outputs": [
    {
     "data": {
      "image/png": "[encoded data removed]",
      "text/plain": [
       "<Figure size 432x288 with 1 Axes>"
      ]
     },
     "metadata": {
      "needs_background": "light"
     },
     "output_type": "display_data"
    }
   ],
   "source": [
    "plt.scatter(clean_city_data['Lat'],clean_city_data['Cloudiness'])\n",
    "\n",
    "plt.title(\"Cloudiness vs Latitude (\" + time.strftime(\"%d %b %Y\", date_utc) +\")\")\n",
    "plt.xlabel(\"Latitude\")\n",
    "plt.ylabel(\"Cloudiness (%)\")\n",
    "\n",
    "plt.savefig(\"output_data/Cloud_Lat\")"
   ]
  },
  {
   "cell_type": "markdown",
   "metadata": {},
   "source": [
    "Cloudiness vs Latitude is even more evenly distributed by latitude than humidity, but there are obvious concentrations of data points at specific values of cloudiness. We can infer from this that cloud cover is generally reported in discrete values of 0, 20, 40, 75 or so, 90, or 100%."
   ]
  },
  {
   "cell_type": "markdown",
   "metadata": {},
   "source": [
    "## Latitude vs. Wind Speed Plot"
   ]
  },
  {
   "cell_type": "code",
   "execution_count": 15,
   "metadata": {},
   "outputs": [
    {
     "data": {
      "image/png": "[encoded data removed]",
      "text/plain": [
       "<Figure size 432x288 with 1 Axes>"
      ]
     },
     "metadata": {
      "needs_background": "light"
     },
     "output_type": "display_data"
    }
   ],
   "source": [
    "plt.scatter(clean_city_data['Lat'],clean_city_data['Wind Speed'])\n",
    "\n",
    "plt.title(\"Wind Speed vs Latitude (\" + time.strftime(\"%d %b %Y\", date_utc) +\")\")\n",
    "plt.xlabel(\"Latitude\")\n",
    "plt.ylabel(\"Wind Speed (mph)\")\n",
    "\n",
    "plt.savefig(\"output_data/Wind_Lat\")"
   ]
  },
  {
   "cell_type": "markdown",
   "metadata": {},
   "source": [
    "Wind speed vs latitude shows most wind conditions across latitudes are moderate at below 20 mph or so. Extreme wind speeds appear to be more prevalent in the northern hemisphere, with the highest observation of about 40 mph at around 60 deg N latitude. This is likely again due to seasonal variation between hemispheres. However, we should also note here that we have no data points further south than 60 degrees, whereas in the northern hemisphere there are numerous data points north of 60 degrees. Of course this is because the arctic is more populated than the antarctic. But if we are interested in global wind speeds, this random selection of cities is not a good dataset since there are so few cities in the antarctic that could be included in an analysis."
   ]
  },
  {
   "cell_type": "markdown",
   "metadata": {},
   "source": [
    "## Linear Regression"
   ]
  },
  {
   "cell_type": "code",
   "execution_count": 16,
   "metadata": {},
   "outputs": [],
   "source": [
    "lats = clean_city_data['Lat']\n",
    "nth_lats = clean_city_data.loc[clean_city_data['Lat'] >= 0, :]\n",
    "n_lats = nth_lats['Lat']\n",
    "\n",
    "sth_lats = clean_city_data.loc[clean_city_data['Lat'] < 0, :]\n",
    "s_lats = sth_lats['Lat']\n",
    "\n",
    "n_max_temps = nth_lats['Max Temp']\n",
    "s_max_temps = sth_lats['Max Temp']\n",
    "import scipy.stats as st\n"
   ]
  },
  {
   "cell_type": "markdown",
   "metadata": {},
   "source": [
    "####  Northern Hemisphere - Max Temp vs. Latitude Linear Regression"
   ]
  },
  {
   "cell_type": "code",
   "execution_count": 18,
   "metadata": {},
   "outputs": [
    {
     "name": "stdout",
     "output_type": "stream",
     "text": [
      "The r-value is -0.86.\n",
      "\n",
      "The linear regression model is y = -1.38x + 91.14.\n"
     ]
    },
    {
     "data": {
      "image/png": "[encoded data removed]",
      "text/plain": [
       "<Figure size 432x288 with 1 Axes>"
      ]
     },
     "metadata": {
      "needs_background": "light"
     },
     "output_type": "display_data"
    }
   ],
   "source": [
    "# Calculate the correlation coefficient and linear regression model \n",
    "\n",
    "correlation = st.pearsonr(n_lats, n_max_temps)\n",
    "print(f\"The r-value is {round(correlation[0],2)}.\\n\")\n",
    "\n",
    "(slope, intercept, rvalue, pvalue, stderr) = linregress(n_lats, n_max_temps)\n",
    "regress_values = n_lats * slope + intercept\n",
    "line_eq = \"y = \" + str(round(slope,2)) + \"x + \" + str(round(intercept,2))\n",
    "print(f\"The linear regression model is {line_eq}.\")\n",
    "plt.scatter(n_lats, n_max_temps)\n",
    "plt.plot(n_lats,regress_values,\"r-\")\n",
    "plt.annotate(line_eq,(5,5),fontsize=15,color=\"red\")\n",
    "\n",
    "plt.title(\"Northern Hemisphere Max Temps vs Latitude \\n(\" + time.strftime(\"%d %b %Y\", date_utc) +\")\")\n",
    "plt.xlabel(\"Latitude\")\n",
    "plt.ylabel(\"Max Temps (F)\")\n",
    "\n",
    "plt.savefig(\"output_data/Temp_NLat_reg\")"
   ]
  },
  {
   "cell_type": "markdown",
   "metadata": {},
   "source": [
    "####  Southern Hemisphere - Max Temp vs. Latitude Linear Regression"
   ]
  },
  {
   "cell_type": "code",
   "execution_count": 19,
   "metadata": {},
   "outputs": [
    {
     "name": "stdout",
     "output_type": "stream",
     "text": [
      "The r-value is 0.54.\n",
      "\n",
      "The linear regression model is y = 0.38x + 81.57.\n"
     ]
    },
    {
     "data": {
      "image/png": "[encoded data removed]",
      "text/plain": [
       "<Figure size 432x288 with 1 Axes>"
      ]
     },
     "metadata": {
      "needs_background": "light"
     },
     "output_type": "display_data"
    }
   ],
   "source": [
    "correlation = st.pearsonr(s_lats, s_max_temps)\n",
    "print(f\"The r-value is {round(correlation[0],2)}.\\n\")\n",
    "\n",
    "(slope, intercept, rvalue, pvalue, stderr) = linregress(s_lats, s_max_temps)\n",
    "regress_values = s_lats * slope + intercept\n",
    "line_eq = \"y = \" + str(round(slope,2)) + \"x + \" + str(round(intercept,2))\n",
    "print(f\"The linear regression model is {line_eq}.\")\n",
    "plt.scatter(s_lats, s_max_temps)\n",
    "plt.plot(s_lats,regress_values,\"r-\")\n",
    "plt.annotate(line_eq,(-30,55),fontsize=15,color=\"red\")\n",
    "\n",
    "plt.title(\"Southern Hemisphere Max Temps vs Latitude \\n(\" + time.strftime(\"%d %b %Y\", date_utc) +\")\")\n",
    "plt.xlabel(\"Latitude\")\n",
    "plt.ylabel(\"Max Temps (F)\")\n",
    "\n",
    "plt.savefig(\"output_data/Temp_SLat_reg\")"
   ]
  },
  {
   "cell_type": "markdown",
   "metadata": {},
   "source": [
    "#### Max Temp vs Latitude by hemisphere analysis/observations\n",
    "The linear regression model for the northern hemisphere shows a much stronger r-value at -.86 than does that of the southern hemisphere at .54. A couple possible factors come to mind: first, there are more data points in the northern hemisphere, since there is more landmass there, and therefore the list of cities produced a more even geographical spread of cities.  In the southern hemisphere, which has a larger proportion of water, our method of selecting cities would tend to produce locations on the coast, as coordinates in the middle of the ocean are paired with a smaller selection of cities at a greater distance.  Likewise, as previously noted, this sample has no cities south of 60 degrees, whereas there are numerous cities north of 60 degrees.  \n",
    "Seasonal differences between hemispheres also explain this trend, since there will be more variation in max temperature in the northern hemisphere at this time of year. That accounts for the more dramatic slope of that model, as well as the fact that the most extreme temperature in the northern hemisphere is in the neighborhood of -40, whereas in the southern hemisphere the lowest max temperature is a balmy 50 degrees.\n",
    "\n",
    "The northern hemisphere model (y = -1.38x + 91.14) predicts a temperature of 91 degrees at the equator, while the southern hemisphere model predicts a max temperature of only 81 degrees at the equator. Due to the more closely grouped datapoints in the northern hemisphere (and consequently higher r-value), that model is more likely to be an accurate predictor of max temperature at the equator. "
   ]
  },
  {
   "cell_type": "markdown",
   "metadata": {},
   "source": [
    "####  Northern Hemisphere - Humidity (%) vs. Latitude Linear Regression"
   ]
  },
  {
   "cell_type": "code",
   "execution_count": 20,
   "metadata": {},
   "outputs": [
    {
     "name": "stdout",
     "output_type": "stream",
     "text": [
      "The r-value is 0.29.\n",
      "\n",
      "The linear regression model is y = 0.29x + 60.57.\n"
     ]
    },
    {
     "data": {
      "image/png": "[encoded data removed]",
      "text/plain": [
       "<Figure size 432x288 with 1 Axes>"
      ]
     },
     "metadata": {
      "needs_background": "light"
     },
     "output_type": "display_data"
    }
   ],
   "source": [
    "n_hums = nth_lats['Humidity']\n",
    "\n",
    "correlation = st.pearsonr(n_lats, n_hums)\n",
    "print(f\"The r-value is {round(correlation[0],2)}.\\n\")\n",
    "\n",
    "(slope, intercept, rvalue, pvalue, stderr) = linregress(n_lats, n_hums)\n",
    "regress_values = n_lats * slope + intercept\n",
    "line_eq = \"y = \" + str(round(slope,2)) + \"x + \" + str(round(intercept,2))\n",
    "print(f\"The linear regression model is {line_eq}.\")\n",
    "plt.scatter(n_lats, n_hums)\n",
    "plt.plot(n_lats,regress_values,\"r-\")\n",
    "plt.annotate(line_eq,(-30,55),fontsize=15,color=\"red\")\n",
    "\n",
    "plt.title(\"Northern Hemisphere Humidity vs Latitude \\n(\" + time.strftime(\"%d %b %Y\", date_utc) +\")\")\n",
    "plt.xlabel(\"Latitude\")\n",
    "plt.ylabel(\"Humidity (%)\")\n",
    "\n",
    "plt.savefig(\"output_data/Hum_NLat_reg\")"
   ]
  },
  {
   "cell_type": "markdown",
   "metadata": {},
   "source": [
    "####  Southern Hemisphere - Humidity (%) vs. Latitude Linear Regression"
   ]
  },
  {
   "cell_type": "code",
   "execution_count": 21,
   "metadata": {},
   "outputs": [
    {
     "name": "stdout",
     "output_type": "stream",
     "text": [
      "The r-value is 0.21.\n",
      "\n",
      "The linear regression model is y = 0.26x + 81.44.\n"
     ]
    },
    {
     "data": {
      "image/png": "[encoded data removed]",
      "text/plain": [
       "<Figure size 432x288 with 1 Axes>"
      ]
     },
     "metadata": {
      "needs_background": "light"
     },
     "output_type": "display_data"
    }
   ],
   "source": [
    "s_hums = sth_lats['Humidity']\n",
    "\n",
    "correlation = st.pearsonr(s_lats, s_hums)\n",
    "print(f\"The r-value is {round(correlation[0],2)}.\\n\")\n",
    "\n",
    "(slope, intercept, rvalue, pvalue, stderr) = linregress(s_lats, s_hums)\n",
    "regress_values = s_lats * slope + intercept\n",
    "line_eq = \"y = \" + str(round(slope,2)) + \"x + \" + str(round(intercept,2))\n",
    "print(f\"The linear regression model is {line_eq}.\")\n",
    "plt.scatter(s_lats, s_hums)\n",
    "plt.plot(s_lats,regress_values,\"r-\")\n",
    "plt.annotate(line_eq,(-30,55),fontsize=15,color=\"red\")\n",
    "\n",
    "plt.title(\"Southern Hemisphere Humidity vs Latitude \\n(\" + time.strftime(\"%d %b %Y\", date_utc) +\")\")\n",
    "plt.xlabel(\"Latitude\")\n",
    "plt.ylabel(\"Humidity (%)\")\n",
    "\n",
    "plt.savefig(\"output_data/Hum_SLat_reg\")"
   ]
  },
  {
   "cell_type": "markdown",
   "metadata": {},
   "source": [
    "#### Humidity vs Latitude by hemisphere analysis/observations\n",
    "With r-values less than .3 in both hemispheres, neither of these datasets shows a linear tendency, and these linear regression models should not be used to predict humidity at a given latitude."
   ]
  },
  {
   "cell_type": "markdown",
   "metadata": {},
   "source": [
    "####  Northern Hemisphere - Cloudiness (%) vs. Latitude Linear Regression"
   ]
  },
  {
   "cell_type": "code",
   "execution_count": 25,
   "metadata": {},
   "outputs": [
    {
     "name": "stdout",
     "output_type": "stream",
     "text": [
      "The r-value is 0.09.\n",
      "\n",
      "The linear regression model is y = 0.18x + 43.78.\n"
     ]
    },
    {
     "data": {
      "image/png": "[encoded data removed]",
      "text/plain": [
       "<Figure size 432x288 with 1 Axes>"
      ]
     },
     "metadata": {
      "needs_background": "light"
     },
     "output_type": "display_data"
    }
   ],
   "source": [
    "n_clouds = nth_lats['Cloudiness']\n",
    "\n",
    "correlation = st.pearsonr(n_lats, n_clouds)\n",
    "print(f\"The r-value is {round(correlation[0],2)}.\\n\")\n",
    "\n",
    "(slope, intercept, rvalue, pvalue, stderr) = linregress(n_lats, n_clouds)\n",
    "regress_values = n_lats * slope + intercept\n",
    "line_eq = \"y = \" + str(round(slope,2)) + \"x + \" + str(round(intercept,2))\n",
    "print(f\"The linear regression model is {line_eq}.\")\n",
    "plt.scatter(n_lats, n_clouds)\n",
    "plt.plot(n_lats,regress_values,\"r-\")\n",
    "plt.annotate(line_eq,(0,60),fontsize=15,color=\"red\")\n",
    "\n",
    "plt.title(\"Northern Hemisphere Cloudiness vs Latitude \\n(\" + time.strftime(\"%d %b %Y\", date_utc) +\")\")\n",
    "plt.xlabel(\"Latitude\")\n",
    "plt.ylabel(\"Cloudiness (%)\")\n",
    "\n",
    "plt.savefig(\"output_data/Clouds_NLat_reg\")"
   ]
  },
  {
   "cell_type": "markdown",
   "metadata": {},
   "source": [
    "####  Southern Hemisphere - Cloudiness (%) vs. Latitude Linear Regression"
   ]
  },
  {
   "cell_type": "code",
   "execution_count": 24,
   "metadata": {},
   "outputs": [
    {
     "name": "stdout",
     "output_type": "stream",
     "text": [
      "The r-value is 0.17.\n",
      "\n",
      "The linear regression model is y = 0.46x + 66.69.\n"
     ]
    },
    {
     "data": {
      "image/png": "[encoded data removed]",
      "text/plain": [
       "<Figure size 432x288 with 1 Axes>"
      ]
     },
     "metadata": {
      "needs_background": "light"
     },
     "output_type": "display_data"
    }
   ],
   "source": [
    "s_clouds = sth_lats['Cloudiness']\n",
    "\n",
    "correlation = st.pearsonr(s_lats, s_clouds)\n",
    "print(f\"The r-value is {round(correlation[0],2)}.\\n\")\n",
    "\n",
    "(slope, intercept, rvalue, pvalue, stderr) = linregress(s_lats, s_clouds)\n",
    "regress_values = s_lats * slope + intercept\n",
    "line_eq = \"y = \" + str(round(slope,2)) + \"x + \" + str(round(intercept,2))\n",
    "print(f\"The linear regression model is {line_eq}.\")\n",
    "plt.scatter(s_lats, s_clouds)\n",
    "plt.plot(s_lats,regress_values,\"r-\")\n",
    "plt.annotate(line_eq,(-55,30),fontsize=15,color=\"red\")\n",
    "\n",
    "plt.title(\"Southern Hemisphere Cloudiness vs Latitude \\n(\" + time.strftime(\"%d %b %Y\", date_utc) +\")\")\n",
    "plt.xlabel(\"Latitude\")\n",
    "plt.ylabel(\"Cloudiness (%)\")\n",
    "\n",
    "plt.savefig(\"output_data/Clouds_SLat_reg\")"
   ]
  },
  {
   "cell_type": "markdown",
   "metadata": {},
   "source": [
    "#### Cloudiness vs Latitude by hemisphere analysis/observations\n",
    "The linear tendency as measured by r-value in these plots is basically non-existent, at .09 in the northern hemisphere and .17 in the southern. Again the prominent horizontal grouping of cloudiness at round % numbers is extremely noticeable, but says more about how this data is categorized than any notable global trends, at least at this time of year. Likewise the fact that the southern hemisphere has fewer data points makes it hard to make any meaningful distinctions between the hemispheres.  "
   ]
  },
  {
   "cell_type": "markdown",
   "metadata": {},
   "source": [
    "####  Northern Hemisphere - Wind Speed (mph) vs. Latitude Linear Regression"
   ]
  },
  {
   "cell_type": "code",
   "execution_count": 26,
   "metadata": {},
   "outputs": [
    {
     "name": "stdout",
     "output_type": "stream",
     "text": [
      "The r-value is 0.18.\n",
      "\n",
      "The linear regression model is y = 0.06x + 6.8.\n"
     ]
    },
    {
     "data": {
      "image/png": "[encoded data removed]",
      "text/plain": [
       "<Figure size 432x288 with 1 Axes>"
      ]
     },
     "metadata": {
      "needs_background": "light"
     },
     "output_type": "display_data"
    }
   ],
   "source": [
    "n_winds = nth_lats['Wind Speed']\n",
    "\n",
    "correlation = st.pearsonr(n_lats, n_winds)\n",
    "print(f\"The r-value is {round(correlation[0],2)}.\\n\")\n",
    "\n",
    "(slope, intercept, rvalue, pvalue, stderr) = linregress(n_lats, n_winds)\n",
    "regress_values = n_lats * slope + intercept\n",
    "line_eq = \"y = \" + str(round(slope,2)) + \"x + \" + str(round(intercept,2))\n",
    "print(f\"The linear regression model is {line_eq}.\")\n",
    "plt.scatter(n_lats, n_winds)\n",
    "plt.plot(n_lats,regress_values,\"r-\")\n",
    "plt.annotate(line_eq,(0,35),fontsize=15,color=\"red\")\n",
    "\n",
    "plt.title(\"Northern Hemisphere Wind Speeds vs Latitude \\n(\" + time.strftime(\"%d %b %Y\", date_utc) +\")\")\n",
    "plt.xlabel(\"Latitude\")\n",
    "plt.ylabel(\"Wind Speed (mph)\")\n",
    "\n",
    "plt.savefig(\"output_data/Winds_NLat_reg\")"
   ]
  },
  {
   "cell_type": "markdown",
   "metadata": {},
   "source": [
    "####  Southern Hemisphere - Wind Speed (mph) vs. Latitude Linear Regression"
   ]
  },
  {
   "cell_type": "code",
   "execution_count": 28,
   "metadata": {},
   "outputs": [
    {
     "name": "stdout",
     "output_type": "stream",
     "text": [
      "The r-value is -0.21.\n",
      "\n",
      "The linear regression model is y = -0.07x + 5.65.\n"
     ]
    },
    {
     "data": {
      "image/png": "[encoded data removed]",
      "text/plain": [
       "<Figure size 432x288 with 1 Axes>"
      ]
     },
     "metadata": {
      "needs_background": "light"
     },
     "output_type": "display_data"
    }
   ],
   "source": [
    "s_winds = sth_lats['Wind Speed']\n",
    "\n",
    "correlation = st.pearsonr(s_lats, s_winds)\n",
    "print(f\"The r-value is {round(correlation[0],2)}.\\n\")\n",
    "\n",
    "(slope, intercept, rvalue, pvalue, stderr) = linregress(s_lats, s_winds)\n",
    "regress_values = s_lats * slope + intercept\n",
    "line_eq = \"y = \" + str(round(slope,2)) + \"x + \" + str(round(intercept,2))\n",
    "print(f\"The linear regression model is {line_eq}.\")\n",
    "plt.scatter(s_lats, s_winds)\n",
    "plt.plot(s_lats,regress_values,\"r-\")\n",
    "plt.annotate(line_eq,(-50,22),fontsize=15,color=\"red\")\n",
    "\n",
    "plt.title(\"Southern Hemisphere Wind Speeds vs Latitude \\n(\" + time.strftime(\"%d %b %Y\", date_utc) +\")\")\n",
    "plt.xlabel(\"Latitude\")\n",
    "plt.ylabel(\"Wind Speed (mph)\")\n",
    "\n",
    "plt.savefig(\"output_data/Winds_SLat_reg\")"
   ]
  },
  {
   "cell_type": "markdown",
   "metadata": {},
   "source": [
    "#### Wind Speed vs Latitude by hemisphere analysis/observations\n",
    "Plots of wind speeds vs latitude do not display strong linear tendencies, with r-values in the neighborhood of only .2 in both hemispheres. Here, though, the extreme values are explainable by seasonal weather, and properties of the sample of cities. Again we have to note that there are no data points in the southern hemisphere south of 60 degrees, and that it's summer in the southern hemisphere.  So we would expect more mild weather in general, and since the antarctic, which does have high winds and extreme weather condiditions, has far fewer cities that could be included in our dataset than the arctic, we expect to see fewer extreme wind speeds than in the northern hemisphere."
   ]
  },
  {
   "cell_type": "code",
   "execution_count": null,
   "metadata": {},
   "outputs": [],
   "source": []
  }
 ],
 "metadata": {
  "anaconda-cloud": {},
  "kernel_info": {
   "name": "python3"
  },
  "kernelspec": {
   "display_name": "Python 3",
   "language": "python",
   "name": "python3"
  },
  "language_info": {
   "codemirror_mode": {
    "name": "ipython",
    "version": 3
   },
   "file_extension": ".py",
   "mimetype": "text/x-python",
   "name": "python",
   "nbconvert_exporter": "python",
   "pygments_lexer": "ipython3",
   "version": "3.6.12"
  },
  "latex_envs": {
   "LaTeX_envs_menu_present": true,
   "autoclose": false,
   "autocomplete": true,
   "bibliofile": "biblio.bib",
   "cite_by": "apalike",
   "current_citInitial": 1,
   "eqLabelWithNumbers": true,
   "eqNumInitial": 1,
   "hotkeys": {
    "equation": "Ctrl-E",
    "itemize": "Ctrl-I"
   },
   "labels_anchors": false,
   "latex_user_defs": false,
   "report_style_numbering": false,
   "user_envs_cfg": false
  },
  "nteract": {
   "version": "0.12.3"
  }
 },
 "nbformat": 4,
 "nbformat_minor": 2
}
