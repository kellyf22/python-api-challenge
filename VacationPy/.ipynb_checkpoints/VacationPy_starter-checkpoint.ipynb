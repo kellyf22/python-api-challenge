{
 "cells": [
  {
   "cell_type": "markdown",
   "metadata": {},
   "source": [
    "# VacationPy\n",
    "----\n",
    "\n",
    "#### Note\n",
    "* Keep an eye on your API usage. Use https://developers.google.com/maps/reporting/gmp-reporting as reference for how to monitor your usage and billing.\n",
    "\n",
    "* Instructions have been included for each segment. You do not have to follow them exactly, but they are included to help you think through the steps."
   ]
  },
  {
   "cell_type": "code",
   "execution_count": 2,
   "metadata": {},
   "outputs": [],
   "source": [
    "# Dependencies and Setup\n",
    "import matplotlib.pyplot as plt\n",
    "import pandas as pd\n",
    "import numpy as np\n",
    "import requests\n",
    "import gmaps\n",
    "import os\n",
    "import json\n",
    "\n",
    "# Import API key\n",
    "from api_keys import g_key"
   ]
  },
  {
   "cell_type": "markdown",
   "metadata": {},
   "source": [
    "### Store Part I results into DataFrame\n",
    "* Load the csv exported in Part I to a DataFrame"
   ]
  },
  {
   "cell_type": "code",
   "execution_count": 3,
   "metadata": {},
   "outputs": [
    {
     "data": {
      "text/html": [
       "<div>\n",
       "<style scoped>\n",
       "    .dataframe tbody tr th:only-of-type {\n",
       "        vertical-align: middle;\n",
       "    }\n",
       "\n",
       "    .dataframe tbody tr th {\n",
       "        vertical-align: top;\n",
       "    }\n",
       "\n",
       "    .dataframe thead th {\n",
       "        text-align: right;\n",
       "    }\n",
       "</style>\n",
       "<table border=\"1\" class=\"dataframe\">\n",
       "  <thead>\n",
       "    <tr style=\"text-align: right;\">\n",
       "      <th></th>\n",
       "      <th>Unnamed: 0</th>\n",
       "      <th>City</th>\n",
       "      <th>Lat</th>\n",
       "      <th>Lng</th>\n",
       "      <th>Max Temp</th>\n",
       "      <th>Humidity</th>\n",
       "      <th>Cloudiness</th>\n",
       "      <th>Wind Speed</th>\n",
       "      <th>Country</th>\n",
       "      <th>Date</th>\n",
       "    </tr>\n",
       "  </thead>\n",
       "  <tbody>\n",
       "    <tr>\n",
       "      <th>0</th>\n",
       "      <td>0</td>\n",
       "      <td>Vaini</td>\n",
       "      <td>-21.2000</td>\n",
       "      <td>-175.2000</td>\n",
       "      <td>73.40</td>\n",
       "      <td>94</td>\n",
       "      <td>75</td>\n",
       "      <td>10.36</td>\n",
       "      <td>TO</td>\n",
       "      <td>1612633821</td>\n",
       "    </tr>\n",
       "    <tr>\n",
       "      <th>1</th>\n",
       "      <td>1</td>\n",
       "      <td>Barrow</td>\n",
       "      <td>71.2906</td>\n",
       "      <td>-156.7887</td>\n",
       "      <td>-0.40</td>\n",
       "      <td>71</td>\n",
       "      <td>90</td>\n",
       "      <td>10.36</td>\n",
       "      <td>US</td>\n",
       "      <td>1612633789</td>\n",
       "    </tr>\n",
       "    <tr>\n",
       "      <th>2</th>\n",
       "      <td>2</td>\n",
       "      <td>Rikitea</td>\n",
       "      <td>-23.1203</td>\n",
       "      <td>-134.9692</td>\n",
       "      <td>77.65</td>\n",
       "      <td>74</td>\n",
       "      <td>100</td>\n",
       "      <td>12.37</td>\n",
       "      <td>PF</td>\n",
       "      <td>1612633748</td>\n",
       "    </tr>\n",
       "    <tr>\n",
       "      <th>3</th>\n",
       "      <td>3</td>\n",
       "      <td>San Patricio</td>\n",
       "      <td>28.0170</td>\n",
       "      <td>-97.5169</td>\n",
       "      <td>68.00</td>\n",
       "      <td>77</td>\n",
       "      <td>90</td>\n",
       "      <td>9.22</td>\n",
       "      <td>US</td>\n",
       "      <td>1612633825</td>\n",
       "    </tr>\n",
       "    <tr>\n",
       "      <th>4</th>\n",
       "      <td>4</td>\n",
       "      <td>Palmerston</td>\n",
       "      <td>-12.4860</td>\n",
       "      <td>130.9833</td>\n",
       "      <td>82.40</td>\n",
       "      <td>83</td>\n",
       "      <td>75</td>\n",
       "      <td>11.50</td>\n",
       "      <td>AU</td>\n",
       "      <td>1612633827</td>\n",
       "    </tr>\n",
       "  </tbody>\n",
       "</table>\n",
       "</div>"
      ],
      "text/plain": [
       "   Unnamed: 0          City      Lat       Lng  Max Temp  Humidity  \\\n",
       "0           0         Vaini -21.2000 -175.2000     73.40        94   \n",
       "1           1        Barrow  71.2906 -156.7887     -0.40        71   \n",
       "2           2       Rikitea -23.1203 -134.9692     77.65        74   \n",
       "3           3  San Patricio  28.0170  -97.5169     68.00        77   \n",
       "4           4    Palmerston -12.4860  130.9833     82.40        83   \n",
       "\n",
       "   Cloudiness  Wind Speed Country        Date  \n",
       "0          75       10.36      TO  1612633821  \n",
       "1          90       10.36      US  1612633789  \n",
       "2         100       12.37      PF  1612633748  \n",
       "3          90        9.22      US  1612633825  \n",
       "4          75       11.50      AU  1612633827  "
      ]
     },
     "execution_count": 3,
     "metadata": {},
     "output_type": "execute_result"
    }
   ],
   "source": [
    "cities_df = pd.read_csv(\"../WeatherPy/output_data/cities.csv\")\n",
    "cities_df.head()"
   ]
  },
  {
   "cell_type": "markdown",
   "metadata": {},
   "source": [
    "### Humidity Heatmap\n",
    "* Configure gmaps.\n",
    "* Use the Lat and Lng as locations and Humidity as the weight.\n",
    "* Add Heatmap layer to map."
   ]
  },
  {
   "cell_type": "code",
   "execution_count": 4,
   "metadata": {},
   "outputs": [],
   "source": [
    "# Access maps with unique API key\n",
    "gmaps.configure(api_key=g_key)"
   ]
  },
  {
   "cell_type": "code",
   "execution_count": 6,
   "metadata": {},
   "outputs": [
    {
     "data": {
      "application/vnd.jupyter.widget-view+json": {
       "model_id": "07b02b429b494e1aa81983ff1911de81",
       "version_major": 2,
       "version_minor": 0
      },
      "text/plain": [
       "Figure(layout=FigureLayout(height='420px'))"
      ]
     },
     "metadata": {},
     "output_type": "display_data"
    }
   ],
   "source": [
    "# Store 'Lat' and 'Lng' into  locations \n",
    "locations = cities_df[[\"Lat\", \"Lng\"]].astype(float)\n",
    "\n",
    "humidity = cities_df[\"Humidity\"].astype(float)\n",
    "\n",
    "fig = gmaps.figure()\n",
    "\n",
    "heat_layer = gmaps.heatmap_layer(locations, weights=humidity, \n",
    "                                 dissipating=False, max_intensity=100,\n",
    "                                 point_radius = 1)\n",
    "\n",
    "fig.add_layer(heat_layer)\n",
    "\n",
    "fig"
   ]
  },
  {
   "cell_type": "markdown",
   "metadata": {},
   "source": [
    "### Create new DataFrame fitting weather criteria\n",
    "* Narrow down the cities to fit weather conditions.\n",
    "* Drop any rows with null values."
   ]
  },
  {
   "cell_type": "code",
   "execution_count": 19,
   "metadata": {},
   "outputs": [
    {
     "data": {
      "text/html": [
       "<div>\n",
       "<style scoped>\n",
       "    .dataframe tbody tr th:only-of-type {\n",
       "        vertical-align: middle;\n",
       "    }\n",
       "\n",
       "    .dataframe tbody tr th {\n",
       "        vertical-align: top;\n",
       "    }\n",
       "\n",
       "    .dataframe thead th {\n",
       "        text-align: right;\n",
       "    }\n",
       "</style>\n",
       "<table border=\"1\" class=\"dataframe\">\n",
       "  <thead>\n",
       "    <tr style=\"text-align: right;\">\n",
       "      <th></th>\n",
       "      <th>Unnamed: 0</th>\n",
       "      <th>City</th>\n",
       "      <th>Lat</th>\n",
       "      <th>Lng</th>\n",
       "      <th>Max Temp</th>\n",
       "      <th>Humidity</th>\n",
       "      <th>Cloudiness</th>\n",
       "      <th>Wind Speed</th>\n",
       "      <th>Country</th>\n",
       "      <th>Date</th>\n",
       "    </tr>\n",
       "  </thead>\n",
       "  <tbody>\n",
       "    <tr>\n",
       "      <th>49</th>\n",
       "      <td>49</td>\n",
       "      <td>Kālia</td>\n",
       "      <td>23.0396</td>\n",
       "      <td>89.6328</td>\n",
       "      <td>65.10</td>\n",
       "      <td>48</td>\n",
       "      <td>1</td>\n",
       "      <td>14.20</td>\n",
       "      <td>BD</td>\n",
       "      <td>1612633906</td>\n",
       "    </tr>\n",
       "    <tr>\n",
       "      <th>158</th>\n",
       "      <td>158</td>\n",
       "      <td>Biltine</td>\n",
       "      <td>14.5333</td>\n",
       "      <td>20.9167</td>\n",
       "      <td>72.27</td>\n",
       "      <td>18</td>\n",
       "      <td>1</td>\n",
       "      <td>13.58</td>\n",
       "      <td>TD</td>\n",
       "      <td>1612634083</td>\n",
       "    </tr>\n",
       "  </tbody>\n",
       "</table>\n",
       "</div>"
      ],
      "text/plain": [
       "     Unnamed: 0     City      Lat      Lng  Max Temp  Humidity  Cloudiness  \\\n",
       "49           49    Kālia  23.0396  89.6328     65.10        48           1   \n",
       "158         158  Biltine  14.5333  20.9167     72.27        18           1   \n",
       "\n",
       "     Wind Speed Country        Date  \n",
       "49        14.20      BD  1612633906  \n",
       "158       13.58      TD  1612634083  "
      ]
     },
     "execution_count": 19,
     "metadata": {},
     "output_type": "execute_result"
    }
   ],
   "source": [
    "# Criteria: Temp between 65 - 75, humidity < 50%, winds < 17 mph, cloudiness <= 40%\n",
    "\n",
    "nice_cities = cities_df.loc[(cities_df['Max Temp'] <= 75) & (cities_df['Max Temp'] >= 65) \n",
    "               & (cities_df['Humidity'] < 50) & (cities_df['Wind Speed'] < 17) & (cities_df['Cloudiness'] <= 40)]\n",
    "nice_cities.iloc[[0,1],:]"
   ]
  },
  {
   "cell_type": "markdown",
   "metadata": {},
   "source": [
    "### Hotel Map\n",
    "* Store into variable named `hotel_df`.\n",
    "* Add a \"Hotel Name\" column to the DataFrame.\n",
    "* Set parameters to search for hotels with 5000 meters.\n",
    "* Hit the Google Places API for each city's coordinates.\n",
    "* Store the first Hotel result into the DataFrame.\n",
    "* Plot markers on top of the heatmap."
   ]
  },
  {
   "cell_type": "code",
   "execution_count": 27,
   "metadata": {},
   "outputs": [
    {
     "name": "stderr",
     "output_type": "stream",
     "text": [
      "C:\\Users\\Kelly\\anaconda3\\envs\\PythonData\\lib\\site-packages\\ipykernel_launcher.py:2: SettingWithCopyWarning: \n",
      "A value is trying to be set on a copy of a slice from a DataFrame.\n",
      "Try using .loc[row_indexer,col_indexer] = value instead\n",
      "\n",
      "See the caveats in the documentation: https://pandas.pydata.org/pandas-docs/stable/user_guide/indexing.html#returning-a-view-versus-a-copy\n",
      "  \n"
     ]
    },
    {
     "name": "stdout",
     "output_type": "stream",
     "text": [
      "[{'business_status': 'OPERATIONAL', 'geometry': {'location': {'lat': 23.0408756, 'lng': 89.6310417}, 'viewport': {'northeast': {'lat': 23.0422117302915, 'lng': 89.6323966302915}, 'southwest': {'lat': 23.0395137697085, 'lng': 89.62969866970849}}}, 'icon': 'https://maps.gstatic.com/mapfiles/place_api/icons/v1/png_71/lodging-71.png', 'name': 'সামিয়া এন্টারপ্রাইজ', 'place_id': 'ChIJVaFaVEG__zkRgTrg1uz9OhU', 'plus_code': {'compound_code': '2JRJ+9C Kalia, Bangladesh', 'global_code': '7MMF2JRJ+9C'}, 'reference': 'ChIJVaFaVEG__zkRgTrg1uz9OhU', 'scope': 'GOOGLE', 'types': ['lodging', 'point_of_interest', 'establishment'], 'vicinity': 'Hospital Rode, Kalia'}, {'business_status': 'OPERATIONAL', 'geometry': {'location': {'lat': 23.0410036, 'lng': 89.6310967}, 'viewport': {'northeast': {'lat': 23.0423144302915, 'lng': 89.63245973029152}, 'southwest': {'lat': 23.03961646970849, 'lng': 89.6297617697085}}}, 'icon': 'https://maps.gstatic.com/mapfiles/place_api/icons/v1/png_71/lodging-71.png', 'name': 'সামিয়া এন্টারপ্রাইজ', 'place_id': 'ChIJhXnxeqm__zkRXaHKgdq4v-4', 'plus_code': {'compound_code': '2JRJ+CC Kalia, Bangladesh', 'global_code': '7MMF2JRJ+CC'}, 'rating': 4, 'reference': 'ChIJhXnxeqm__zkRXaHKgdq4v-4', 'scope': 'GOOGLE', 'types': ['lodging', 'point_of_interest', 'establishment'], 'user_ratings_total': 1, 'vicinity': 'Kalia Hospital Road, Kalia'}, {'business_status': 'OPERATIONAL', 'geometry': {'location': {'lat': 23.0416559, 'lng': 89.6307317}, 'viewport': {'northeast': {'lat': 23.0430209802915, 'lng': 89.6319840802915}, 'southwest': {'lat': 23.0403230197085, 'lng': 89.6292861197085}}}, 'icon': 'https://maps.gstatic.com/mapfiles/place_api/icons/v1/png_71/lodging-71.png', 'name': 'Kalia Dak Bungalow', 'photos': [{'height': 3072, 'html_attributions': ['<a href=\"https://maps.google.com/maps/contrib/101965591437758921682\">Antu Das</a>'], 'photo_reference': 'ATtYBwIFMzYeRfdAnHQvwJ4Rx3DtfzUOaHY8mEfoUwx-QtAttYCzkTir4AXNZcoKMjtvhoNdncA25HUnngj_hHfqtRJVXUIcQwgIuQ5SVC4WDUm5sVbiXUhyzRCdI5dkxv3AV_gyp603EV7zlKUT8vpKdWAHna2CfglpvwKRKZKRDXN7fl62', 'width': 4096}], 'place_id': 'ChIJ2RYR7nu-_zkRvpPpQiI_EmI', 'plus_code': {'compound_code': '2JRJ+M7 Kalia, Bangladesh', 'global_code': '7MMF2JRJ+M7'}, 'rating': 3.8, 'reference': 'ChIJ2RYR7nu-_zkRvpPpQiI_EmI', 'scope': 'GOOGLE', 'types': ['lodging', 'point_of_interest', 'establishment'], 'user_ratings_total': 12, 'vicinity': 'Kalia - Chapail Road, Kalia'}, {'business_status': 'OPERATIONAL', 'geometry': {'location': {'lat': 23.0414328, 'lng': 89.6301502}, 'viewport': {'northeast': {'lat': 23.0427501302915, 'lng': 89.6314813802915}, 'southwest': {'lat': 23.0400521697085, 'lng': 89.6287834197085}}}, 'icon': 'https://maps.gstatic.com/mapfiles/place_api/icons/v1/png_71/lodging-71.png', 'name': 'Biswas Hotel', 'photos': [{'height': 2322, 'html_attributions': ['<a href=\"https://maps.google.com/maps/contrib/103645111242060899563\">kishore saha</a>'], 'photo_reference': 'ATtYBwJsFN3FVi_87ZFptr8J20zbLZw5zd6akxqzQy7yNGuKLL6dzsSnypatUU3UA3oCzn-V2SJaadwk3gf7ZRBBVt2f-g8TcaWxbBvfw8_YaB7u9LSuy4mJfSWRbd6srWsUkSfn2G2zdVUHUKj4KY9Sk3AjsJzaUGhGw2ei0i769OIBSrwf', 'width': 4128}], 'place_id': 'ChIJSYb043u-_zkRuCSgKWNRWUM', 'plus_code': {'compound_code': '2JRJ+H3 Kalia, Bangladesh', 'global_code': '7MMF2JRJ+H3'}, 'rating': 4.9, 'reference': 'ChIJSYb043u-_zkRuCSgKWNRWUM', 'scope': 'GOOGLE', 'types': ['lodging', 'point_of_interest', 'establishment'], 'user_ratings_total': 7, 'vicinity': 'Kalia - Chapail Road, Kalia'}, {'business_status': 'OPERATIONAL', 'geometry': {'location': {'lat': 23.0415809, 'lng': 89.6295896}, 'viewport': {'northeast': {'lat': 23.0429205802915, 'lng': 89.63093433029151}, 'southwest': {'lat': 23.0402226197085, 'lng': 89.6282363697085}}}, 'icon': 'https://maps.gstatic.com/mapfiles/place_api/icons/v1/png_71/lodging-71.png', 'name': 'Aroma Hotel', 'place_id': 'ChIJnyiGWXm-_zkRnjL4D6Mfs78', 'plus_code': {'compound_code': '2JRH+JR Kalia, Bangladesh', 'global_code': '7MMF2JRH+JR'}, 'rating': 4.7, 'reference': 'ChIJnyiGWXm-_zkRnjL4D6Mfs78', 'scope': 'GOOGLE', 'types': ['lodging', 'point_of_interest', 'establishment'], 'user_ratings_total': 3, 'vicinity': 'Kalia - Chapail Road, Kalia'}, {'business_status': 'OPERATIONAL', 'geometry': {'location': {'lat': 23.0357156, 'lng': 89.6313041}, 'viewport': {'northeast': {'lat': 23.03706548029151, 'lng': 89.63257188029151}, 'southwest': {'lat': 23.0343675197085, 'lng': 89.6298739197085}}}, 'icon': 'https://maps.gstatic.com/mapfiles/place_api/icons/v1/png_71/lodging-71.png', 'name': 'Rajib Palace', 'opening_hours': {'open_now': True}, 'photos': [{'height': 2340, 'html_attributions': ['<a href=\"https://maps.google.com/maps/contrib/109137254002311415557\">Arif Rahman</a>'], 'photo_reference': 'ATtYBwKaUqyHGCRiouI8t5FP3G1N_R71t5xNMs2W5QlaZbX5RAsJtLNYNF6GT7Jr1H0Pz6mh22QUKUzkoNKab_6it2dJQYKlrNDOohX80A-XVX14sVPT-oK2HFkyNnVq1C0H42MINNWbeY8iyBcAxEVW3HMjGko26LVsCG72gJ2j6lwVvT9_', 'width': 4160}], 'place_id': 'ChIJjWhFl3C-_zkRhcMj4uJ4YEg', 'plus_code': {'compound_code': '2JPJ+7G Kalia, Bangladesh', 'global_code': '7MMF2JPJ+7G'}, 'rating': 3.7, 'reference': 'ChIJjWhFl3C-_zkRhcMj4uJ4YEg', 'scope': 'GOOGLE', 'types': ['lodging', 'point_of_interest', 'establishment'], 'user_ratings_total': 3, 'vicinity': 'Kalia'}, {'business_status': 'OPERATIONAL', 'geometry': {'location': {'lat': 23.0385949, 'lng': 89.62740060000002}, 'viewport': {'northeast': {'lat': 23.0400936302915, 'lng': 89.62873958029151}, 'southwest': {'lat': 23.0373956697085, 'lng': 89.6260416197085}}}, 'icon': 'https://maps.gstatic.com/mapfiles/place_api/icons/v1/png_71/lodging-71.png', 'name': 'Kalia Police Station', 'opening_hours': {'open_now': True}, 'place_id': 'ChIJLzi0zdm__zkR-254BkTcqwY', 'plus_code': {'compound_code': '2JQG+CX Kalia, Bangladesh', 'global_code': '7MMF2JQG+CX'}, 'reference': 'ChIJLzi0zdm__zkR-254BkTcqwY', 'scope': 'GOOGLE', 'types': ['lodging', 'point_of_interest', 'establishment'], 'vicinity': 'Kalia'}, {'business_status': 'OPERATIONAL', 'geometry': {'location': {'lat': 23.0366524, 'lng': 89.62577019999999}, 'viewport': {'northeast': {'lat': 23.03811518029151, 'lng': 89.62712653029149}, 'southwest': {'lat': 23.0354172197085, 'lng': 89.62442856970848}}}, 'icon': 'https://maps.gstatic.com/mapfiles/place_api/icons/v1/png_71/lodging-71.png', 'name': 'Kalia Circle Office', 'place_id': 'ChIJNWVHixa__zkRbBeodXbnYvg', 'plus_code': {'compound_code': '2JPG+M8 Kalia, Bangladesh', 'global_code': '7MMF2JPG+M8'}, 'rating': 5, 'reference': 'ChIJNWVHixa__zkRbBeodXbnYvg', 'scope': 'GOOGLE', 'types': ['lodging', 'point_of_interest', 'establishment'], 'user_ratings_total': 1, 'vicinity': 'Kalia'}, {'business_status': 'OPERATIONAL', 'geometry': {'location': {'lat': 23.0323207, 'lng': 89.63551729999999}, 'viewport': {'northeast': {'lat': 23.0335300302915, 'lng': 89.63682363029149}, 'southwest': {'lat': 23.0308320697085, 'lng': 89.63412566970848}}}, 'icon': 'https://maps.gstatic.com/mapfiles/place_api/icons/v1/png_71/lodging-71.png', 'name': 'Kalia Homestay', 'place_id': 'ChIJrVaDcNa__zkRj_FgXbs1WZ8', 'plus_code': {'compound_code': '2JJP+W6 Kalia, Bangladesh', 'global_code': '7MMF2JJP+W6'}, 'rating': 4, 'reference': 'ChIJrVaDcNa__zkRj_FgXbs1WZ8', 'scope': 'GOOGLE', 'types': ['lodging', 'point_of_interest', 'establishment'], 'user_ratings_total': 1, 'vicinity': 'Kalia - Chapail Road, Kalia'}, {'business_status': 'OPERATIONAL', 'geometry': {'location': {'lat': 23.0323059, 'lng': 89.6355042}, 'viewport': {'northeast': {'lat': 23.0335236802915, 'lng': 89.63681308029152}, 'southwest': {'lat': 23.0308257197085, 'lng': 89.63411511970851}}}, 'icon': 'https://maps.gstatic.com/mapfiles/place_api/icons/v1/png_71/lodging-71.png', 'name': 'Maternal Housing Center', 'place_id': 'ChIJQa8Ohde__zkRGQL3ympvGNI', 'plus_code': {'compound_code': '2JJP+W6 Kalia, Bangladesh', 'global_code': '7MMF2JJP+W6'}, 'rating': 4, 'reference': 'ChIJQa8Ohde__zkRGQL3ympvGNI', 'scope': 'GOOGLE', 'types': ['lodging', 'point_of_interest', 'establishment'], 'user_ratings_total': 1, 'vicinity': 'Kalia - Chapail Road, Kalia'}, {'business_status': 'OPERATIONAL', 'geometry': {'location': {'lat': 23.0461702, 'lng': 89.61509799999999}, 'viewport': {'northeast': {'lat': 23.0475531802915, 'lng': 89.61645188029149}, 'southwest': {'lat': 23.0448552197085, 'lng': 89.61375391970849}}}, 'icon': 'https://maps.gstatic.com/mapfiles/place_api/icons/v1/png_71/lodging-71.png', 'name': 'Naoyagram Sub Post Office', 'opening_hours': {'open_now': False}, 'photos': [{'height': 3456, 'html_attributions': ['<a href=\"https://maps.google.com/maps/contrib/108548563192401634628\">Muaz Sadique</a>'], 'photo_reference': 'ATtYBwL2YQTAFcz9SKMLkUAxDgLKVG0lxaIcDN6HIN5iZh7vs2n5C0rzUghUr07CPo27m_g1G07bd-vDBQko-OqgNv7axTApRmHWdbMejQF-eV9abFvCypo2IO6Hk0woPKYWNmvoB8mzp0OJFb-Iyhkz4Rn-yUNE0gS2LMPtUpXfSXlOxk8S', 'width': 4608}], 'place_id': 'ChIJibWVLz69_zkRTTTSoJ9asq0', 'plus_code': {'compound_code': '2JW8+F2 Kalia, Bangladesh', 'global_code': '7MMF2JW8+F2'}, 'rating': 4, 'reference': 'ChIJibWVLz69_zkRTTTSoJ9asq0', 'scope': 'GOOGLE', 'types': ['lodging', 'point_of_interest', 'establishment'], 'user_ratings_total': 1, 'vicinity': 'Kanchon Pur Khaya Ghat'}, {'business_status': 'OPERATIONAL', 'geometry': {'location': {'lat': 23.035311, 'lng': 89.6100903}, 'viewport': {'northeast': {'lat': 23.0379993, 'lng': 89.6113089802915}, 'southwest': {'lat': 23.03441490000001, 'lng': 89.60861101970849}}}, 'icon': 'https://maps.gstatic.com/mapfiles/place_api/icons/v1/png_71/lodging-71.png', 'name': 'Emon House', 'photos': [{'height': 3464, 'html_attributions': ['<a href=\"https://maps.google.com/maps/contrib/111331303880947673383\">Friends Multimedia</a>'], 'photo_reference': 'ATtYBwIYkiCi-yhHwUHI5eCLojCGa6L4cdXbqlA_aPog8i3-3P3QpBvP-mjg_QXIFlFw2gjBZD3pAnNvuAmqieDOXKmE0x91h64LCXxKjZRxvLdVoItLuXwz9QNu3_RfcitspfqahHMBBY7pcpgR7372Zj6RH2aj8R9tffHdAKClR0zyDwJp', 'width': 4618}], 'place_id': 'ChIJ-ZsADMS9_zkRla4PMc1tmak', 'plus_code': {'compound_code': '2JP6+42 Kalia, Bangladesh', 'global_code': '7MMF2JP6+42'}, 'reference': 'ChIJ-ZsADMS9_zkRla4PMc1tmak', 'scope': 'GOOGLE', 'types': ['lodging', 'health', 'point_of_interest', 'establishment'], 'vicinity': 'কালিয়া উপজেলা, Unnamed Road, Kalia, banda kalia'}, {'business_status': 'OPERATIONAL', 'geometry': {'location': {'lat': 23.0350607, 'lng': 89.60944959999999}, 'viewport': {'northeast': {'lat': 23.0363315302915, 'lng': 89.61015508029152}, 'southwest': {'lat': 23.0336335697085, 'lng': 89.6074571197085}}}, 'icon': 'https://maps.gstatic.com/mapfiles/place_api/icons/v1/png_71/lodging-71.png', 'name': 'তাহসিন পল্টি ফার্ম', 'place_id': 'ChIJhc6DKQ-9_zkRqvlCQx5bf6Q', 'plus_code': {'compound_code': '2JP5+2Q Kalia, Bangladesh', 'global_code': '7MMF2JP5+2Q'}, 'rating': 5, 'reference': 'ChIJhc6DKQ-9_zkRqvlCQx5bf6Q', 'scope': 'GOOGLE', 'types': ['lodging', 'point_of_interest', 'establishment'], 'user_ratings_total': 1, 'vicinity': 'Unnamed Road, Kalia'}, {'business_status': 'OPERATIONAL', 'geometry': {'location': {'lat': 23.05415649999999, 'lng': 89.59959309999999}, 'viewport': {'northeast': {'lat': 23.0554672802915, 'lng': 89.60098328029149}, 'southwest': {'lat': 23.0527693197085, 'lng': 89.59828531970848}}}, 'icon': 'https://maps.gstatic.com/mapfiles/place_api/icons/v1/png_71/lodging-71.png', 'name': 'SIDDIQUE SHEIKH HOME', 'place_id': 'ChIJI9VgXpK9_zkRiG7QU8qaoyA', 'plus_code': {'compound_code': '3H3X+MR Kalia, Bangladesh', 'global_code': '7MMF3H3X+MR'}, 'rating': 5, 'reference': 'ChIJI9VgXpK9_zkRiG7QU8qaoyA', 'scope': 'GOOGLE', 'types': ['lodging', 'point_of_interest', 'establishment'], 'user_ratings_total': 1, 'vicinity': 'Unnamed Road'}, {'business_status': 'OPERATIONAL', 'geometry': {'location': {'lat': 23.0538252, 'lng': 89.59923409999999}, 'viewport': {'northeast': {'lat': 23.0551828802915, 'lng': 89.6005820302915}, 'southwest': {'lat': 23.0524849197085, 'lng': 89.5978840697085}}}, 'icon': 'https://maps.gstatic.com/mapfiles/place_api/icons/v1/png_71/lodging-71.png', 'name': 'বাবরা ইস্কুল মাঠ', 'photos': [{'height': 2352, 'html_attributions': ['<a href=\"https://maps.google.com/maps/contrib/114922741131340409245\">Md. Shamim Ahammad</a>'], 'photo_reference': 'ATtYBwKa6XjiG1o6OvUXuKKWbIqElkBmjgU-TRtJwUk2YeNm4LH2cM4OQ8CO36KyN1i4InaPS_-OBxNjRaGIIR-t29gTjvBNgGXiZS7N1qeTQN5jPI9dP4mDv3-dkmwEmjlu03o5UGgQw-kTrracjue-zamkIdpcze2mBtUSMCv-ispVOvbA', 'width': 4160}], 'place_id': 'ChIJHSKOomm9_zkRydU1lLKa0GQ', 'plus_code': {'compound_code': '3H3X+GM Kalia, Bangladesh', 'global_code': '7MMF3H3X+GM'}, 'rating': 3, 'reference': 'ChIJHSKOomm9_zkRydU1lLKa0GQ', 'scope': 'GOOGLE', 'types': ['lodging', 'point_of_interest', 'establishment'], 'user_ratings_total': 2, 'vicinity': 'BABRA GOVERNMENT PRIMARY SCHOOL'}, {'business_status': 'OPERATIONAL', 'geometry': {'location': {'lat': 23.0150094, 'lng': 89.59612969999999}, 'viewport': {'northeast': {'lat': 23.0163609802915, 'lng': 89.5974295802915}, 'southwest': {'lat': 23.0136630197085, 'lng': 89.59473161970848}}}, 'icon': 'https://maps.gstatic.com/mapfiles/place_api/icons/v1/png_71/lodging-71.png', 'name': 'Molla Parul Akber', 'photos': [{'height': 3456, 'html_attributions': ['<a href=\"https://maps.google.com/maps/contrib/115903981271741887870\">Shohag Rana</a>'], 'photo_reference': 'ATtYBwLmuw3S5XHIy42gipb6TmtuTiurC-uUV4PY9HOUIos-y8npy_JIEOvdpwVxYxg5LWM74sUs4Np7OTLs6jmGRR9A90ed3k_YSoKFAHoITw9sntuJkuvz-pC92e4pG5UfG6uhPNa58kT1dljX6hqd63424yzxcDkH34Jl5rOgkjCXRSyi', 'width': 4608}], 'place_id': 'ChIJKXNtMXi9_zkR3TwQndY9xnA', 'plus_code': {'compound_code': '2H8W+2F Kalia, Bangladesh', 'global_code': '7MMF2H8W+2F'}, 'reference': 'ChIJKXNtMXi9_zkR3TwQndY9xnA', 'scope': 'GOOGLE', 'types': ['lodging', 'point_of_interest', 'establishment'], 'vicinity': 'Kalia Upazila'}, {'business_status': 'OPERATIONAL', 'geometry': {'location': {'lat': 23.0140928, 'lng': 89.59669000000001}, 'viewport': {'northeast': {'lat': 23.01569248029151, 'lng': 89.59806903029151}, 'southwest': {'lat': 23.0129945197085, 'lng': 89.5953710697085}}}, 'icon': 'https://maps.gstatic.com/mapfiles/place_api/icons/v1/png_71/lodging-71.png', 'name': 'মাধবপাশা লায়েক সেখ এর বাড়ি', 'place_id': 'ChIJB6eBMR29_zkRIetYvQloek4', 'plus_code': {'compound_code': '2H7W+JM Kalia, Bangladesh', 'global_code': '7MMF2H7W+JM'}, 'reference': 'ChIJB6eBMR29_zkRIetYvQloek4', 'scope': 'GOOGLE', 'types': ['lodging', 'point_of_interest', 'establishment'], 'vicinity': 'Kalia Upazila'}]\n"
     ]
    },
    {
     "name": "stderr",
     "output_type": "stream",
     "text": [
      "C:\\Users\\Kelly\\anaconda3\\envs\\PythonData\\lib\\site-packages\\pandas\\core\\indexing.py:1763: SettingWithCopyWarning: \n",
      "A value is trying to be set on a copy of a slice from a DataFrame.\n",
      "Try using .loc[row_indexer,col_indexer] = value instead\n",
      "\n",
      "See the caveats in the documentation: https://pandas.pydata.org/pandas-docs/stable/user_guide/indexing.html#returning-a-view-versus-a-copy\n",
      "  isetter(loc, value)\n"
     ]
    },
    {
     "name": "stdout",
     "output_type": "stream",
     "text": [
      "[{'business_status': 'OPERATIONAL', 'geometry': {'location': {'lat': 14.5275335, 'lng': 20.9145449}, 'viewport': {'northeast': {'lat': 14.5288824802915, 'lng': 20.9158938802915}, 'southwest': {'lat': 14.52618451970849, 'lng': 20.9131959197085}}}, 'icon': 'https://maps.gstatic.com/mapfiles/place_api/icons/v1/png_71/lodging-71.png', 'name': 'Hôtel Trois Étoiles de Biltine', 'photos': [{'height': 960, 'html_attributions': ['<a href=\"https://maps.google.com/maps/contrib/109351229362456078959\">Oumar albechir Bondoro</a>'], 'photo_reference': 'ATtYBwJm_NmITNSZeqegE1dHecdlaHGdZNpIgh7LojRVsx01vKtLQbNWjJZrBgA17muPfKlZ6yhO0m6tGZ_QLGxb98lBVmrxWqOIxME4sNm7eLvZjo9-sN8X9dDU_WEsKHsUZxTJ1Pt7ylYqkE5foXOA3PAr9z9jziawMmJuAidWxEL98ane', 'width': 540}], 'place_id': 'ChIJTbnWMwOaNhERI75acSXVg_o', 'plus_code': {'compound_code': 'GWH7+2R Biltine, Chad', 'global_code': '7G62GWH7+2R'}, 'rating': 5, 'reference': 'ChIJTbnWMwOaNhERI75acSXVg_o', 'scope': 'GOOGLE', 'types': ['lodging', 'point_of_interest', 'establishment'], 'user_ratings_total': 3, 'vicinity': 'Biltine'}]\n",
      "[{'business_status': 'OPERATIONAL', 'geometry': {'location': {'lat': 2.7721691, 'lng': 27.6191342}, 'viewport': {'northeast': {'lat': 2.773518080291502, 'lng': 27.6204831802915}, 'southwest': {'lat': 2.770820119708498, 'lng': 27.6177852197085}}}, 'icon': 'https://maps.gstatic.com/mapfiles/place_api/icons/v1/png_71/lodging-71.png', 'name': 'Guest House Hewa Bora', 'opening_hours': {'open_now': True}, 'photos': [{'height': 2304, 'html_attributions': ['<a href=\"https://maps.google.com/maps/contrib/108211905021546373478\">Snare Ntoya</a>'], 'photo_reference': 'ATtYBwKxIHVXv7qPKdZB-RTk2zc6QylLZXufw7QC8E7uJ3gYhmpvrWEE_5hpCIb0Pv4ZlYv8XMq2a8GMvedLU8VPZjRFW_IVuFwIHQw-_YFl8beA6uwU-xRdBs95suKOkqTgxrcX373DJoMnxzis3B1UQvZBfiWRpXmdUrkccZD8MwkVa0BR', 'width': 9856}], 'place_id': 'ChIJLXaClxKhQxcRER_9_u9ft9w', 'plus_code': {'compound_code': 'QJC9+VM Isiro, Democratic Republic of the Congo', 'global_code': '6GJ9QJC9+VM'}, 'rating': 4, 'reference': 'ChIJLXaClxKhQxcRER_9_u9ft9w', 'scope': 'GOOGLE', 'types': ['lodging', 'point_of_interest', 'establishment'], 'user_ratings_total': 1, 'vicinity': 'N25, Isiro'}, {'business_status': 'OPERATIONAL', 'geometry': {'location': {'lat': 2.7770298, 'lng': 27.612398}, 'viewport': {'northeast': {'lat': 2.778435930291502, 'lng': 27.6138279802915}, 'southwest': {'lat': 2.775737969708498, 'lng': 27.6111300197085}}}, 'icon': 'https://maps.gstatic.com/mapfiles/place_api/icons/v1/png_71/lodging-71.png', 'name': 'Casa Consolata', 'photos': [{'height': 2448, 'html_attributions': ['<a href=\"https://maps.google.com/maps/contrib/102098213421677903723\">Christian Browser</a>'], 'photo_reference': 'ATtYBwKBsl2vUYJEuSw1B_AgWWG3i1d5ezDQTdeX9D5kG9w5PhBqLcwIgpcm_HWI4OYHl-EDHADJ36dytSlgQkVN8Bx1jbdBkHiis-aS_C6cOlyjclkb3A9Gu-YW9qK7dxl1qigrSolP2gGQXXj8hFjwSl-NnJHhSMpDxY61obxcy4vRPQIm', 'width': 3264}], 'place_id': 'ChIJOWsgb9OhQxcRj663gD2eaK4', 'plus_code': {'compound_code': 'QJG6+RX Isiro, Democratic Republic of the Congo', 'global_code': '6GJ9QJG6+RX'}, 'rating': 5, 'reference': 'ChIJOWsgb9OhQxcRj663gD2eaK4', 'scope': 'GOOGLE', 'types': ['lodging', 'point_of_interest', 'establishment'], 'user_ratings_total': 1, 'vicinity': 'Unnamed Road, Isiro'}, {'business_status': 'OPERATIONAL', 'geometry': {'location': {'lat': 2.7718673, 'lng': 27.622118}, 'viewport': {'northeast': {'lat': 2.773195530291502, 'lng': 27.6234470302915}, 'southwest': {'lat': 2.770497569708499, 'lng': 27.62074906970849}}}, 'icon': 'https://maps.gstatic.com/mapfiles/place_api/icons/v1/png_71/lodging-71.png', 'name': 'Nova', 'place_id': 'ChIJFZp9ClChQxcRMcnHHp44OCM', 'plus_code': {'compound_code': 'QJCC+PR Isiro, Democratic Republic of the Congo', 'global_code': '6GJ9QJCC+PR'}, 'reference': 'ChIJFZp9ClChQxcRMcnHHp44OCM', 'scope': 'GOOGLE', 'types': ['lodging', 'point_of_interest', 'establishment'], 'vicinity': 'Isiro'}, {'business_status': 'OPERATIONAL', 'geometry': {'location': {'lat': 2.7829508, 'lng': 27.6146907}, 'viewport': {'northeast': {'lat': 2.784371530291502, 'lng': 27.6160159302915}, 'southwest': {'lat': 2.781673569708498, 'lng': 27.6133179697085}}}, 'icon': 'https://maps.gstatic.com/mapfiles/place_api/icons/v1/png_71/lodging-71.png', 'name': \"Hotel de l'Uele\", 'photos': [{'height': 3456, 'html_attributions': ['<a href=\"https://maps.google.com/maps/contrib/107733645625484023023\">Cmatungulu dec1968</a>'], 'photo_reference': 'ATtYBwK4YxK-9h3CGGWpuo_yROHXcjOkUnX6ZQvDVVWnJwdL89gqbTgoRFKWCT6pQHev2UHTAF04dxApG2evGrp9H9ir8yj6sKqZ3O2stJG3cjo08YPbbTtyUE_hmSRPxUBAOBF6fFFXMRYFlN-X1WtWquDo7I0RP1HkpFjIntJA0Mc3b4qs', 'width': 4608}], 'place_id': 'ChIJW8hhfB6hQxcRr9_IvTwgLBM', 'plus_code': {'compound_code': 'QJM7+5V Isiro, Democratic Republic of the Congo', 'global_code': '6GJ9QJM7+5V'}, 'rating': 1, 'reference': 'ChIJW8hhfB6hQxcRr9_IvTwgLBM', 'scope': 'GOOGLE', 'types': ['lodging', 'point_of_interest', 'establishment'], 'user_ratings_total': 1, 'vicinity': 'BP 319, Isiro'}, {'business_status': 'OPERATIONAL', 'geometry': {'location': {'lat': 2.7832855, 'lng': 27.6164477}, 'viewport': {'northeast': {'lat': 2.784598980291502, 'lng': 27.6178696302915}, 'southwest': {'lat': 2.781901019708498, 'lng': 27.6151716697085}}}, 'icon': 'https://maps.gstatic.com/mapfiles/place_api/icons/v1/png_71/lodging-71.png', 'name': 'Hôtel Millenium', 'opening_hours': {'open_now': False}, 'photos': [{'height': 640, 'html_attributions': ['<a href=\"https://maps.google.com/maps/contrib/100053196894648131008\">Oscar J02</a>'], 'photo_reference': 'ATtYBwIvq7jve0qP4YORMEtLcFz4H_kdi0wfbefBFNbu-NhSAngFPTq-Mb1DxIRqqoU5cdWSGAgMC9aEn692PeqHAowm6VWfZy3akeGjil8iVWm5C5ZNYO_6KOjfd6tyGcAukPMYkmNeFiNBzge6sGKEjFvChrPN86y-xrYzazDV5oYUontZ', 'width': 640}], 'place_id': 'ChIJITkOAe-hQxcRJ7WrGJGraAY', 'plus_code': {'compound_code': 'QJM8+8H Isiro, Democratic Republic of the Congo', 'global_code': '6GJ9QJM8+8H'}, 'reference': 'ChIJITkOAe-hQxcRJ7WrGJGraAY', 'scope': 'GOOGLE', 'types': ['lodging', 'point_of_interest', 'establishment'], 'vicinity': 'Isiro'}, {'business_status': 'OPERATIONAL', 'geometry': {'location': {'lat': 2.7902218, 'lng': 27.6187404}, 'viewport': {'northeast': {'lat': 2.791570780291502, 'lng': 27.6200893802915}, 'southwest': {'lat': 2.788872819708498, 'lng': 27.6173914197085}}}, 'icon': 'https://maps.gstatic.com/mapfiles/place_api/icons/v1/png_71/lodging-71.png', 'name': 'Hôtel Je Vous Aime 3', 'place_id': 'ChIJ4VRByBOhQxcRowFCNKUthUw', 'plus_code': {'compound_code': 'QJR9+3F Isiro, Democratic Republic of the Congo', 'global_code': '6GJ9QJR9+3F'}, 'reference': 'ChIJ4VRByBOhQxcRowFCNKUthUw', 'scope': 'GOOGLE', 'types': ['lodging', 'point_of_interest', 'establishment'], 'vicinity': 'Isiro'}]\n",
      "[{'business_status': 'OPERATIONAL', 'geometry': {'location': {'lat': 29.11713889999999, 'lng': 15.9158396}, 'viewport': {'northeast': {'lat': 29.1186573302915, 'lng': 15.9170315802915}, 'southwest': {'lat': 29.1159593697085, 'lng': 15.9143336197085}}}, 'icon': 'https://maps.gstatic.com/mapfiles/place_api/icons/v1/png_71/lodging-71.png', 'name': 'Alrwasi Hotel', 'photos': [{'height': 1960, 'html_attributions': ['<a href=\"https://maps.google.com/maps/contrib/109427258291828518686\">jamal altaher</a>'], 'photo_reference': 'ATtYBwLFTsOWt7y2s2kWdB7nD6M9y_EMJ4AL7RSfYY2P6BG7U5LQLJwCKQ_p2gqamFwE1Zs5PBURRDy1dMDWISn-sc-TveQDBBQ1ZDwovuITPANmhKlMg2V-QlxN4xsul822xoEJL-r-6lKDAbfWknx-ucmaVgTZketjGxYxnDbbAoEOz7n3', 'width': 4032}], 'place_id': 'ChIJ7wk6m5Z5vhMRWB6DswH8ELw', 'plus_code': {'compound_code': '4W88+V8 The Old Town of Hun, Libya', 'global_code': '7FXQ4W88+V8'}, 'rating': 4, 'reference': 'ChIJ7wk6m5Z5vhMRWB6DswH8ELw', 'scope': 'GOOGLE', 'types': ['lodging', 'point_of_interest', 'establishment'], 'user_ratings_total': 25, 'vicinity': 'houn-aljoufra'}, {'business_status': 'OPERATIONAL', 'geometry': {'location': {'lat': 29.1263369, 'lng': 15.9557708}, 'viewport': {'northeast': {'lat': 29.1277821802915, 'lng': 15.9570902802915}, 'southwest': {'lat': 29.1250842197085, 'lng': 15.95439231970849}}}, 'icon': 'https://maps.gstatic.com/mapfiles/place_api/icons/v1/png_71/lodging-71.png', 'name': 'الذوات للفيلوات', 'place_id': 'ChIJ4--QBcN5vhMRdEwwFbAw3Sk', 'plus_code': {'compound_code': '4XG4+G8 The Old Town of Hun, Libya', 'global_code': '7FXQ4XG4+G8'}, 'rating': 2.5, 'reference': 'ChIJ4--QBcN5vhMRdEwwFbAw3Sk', 'scope': 'GOOGLE', 'types': ['lodging', 'point_of_interest', 'establishment'], 'user_ratings_total': 4, 'vicinity': 'شارع الخمسمائة'}, {'business_status': 'OPERATIONAL', 'geometry': {'location': {'lat': 29.1232889, 'lng': 15.9380937}, 'viewport': {'northeast': {'lat': 29.1245955802915, 'lng': 15.9393099802915}, 'southwest': {'lat': 29.12189761970851, 'lng': 15.9366120197085}}}, 'icon': 'https://maps.gstatic.com/mapfiles/place_api/icons/v1/png_71/lodging-71.png', 'name': 'Al Nakhel Hotel', 'place_id': 'ChIJ_RhoSZZ5vhMRbtyszXTvYLE', 'plus_code': {'compound_code': '4WFQ+86 The Old Town of Hun, Libya', 'global_code': '7FXQ4WFQ+86'}, 'rating': 2.7, 'reference': 'ChIJ_RhoSZZ5vhMRbtyszXTvYLE', 'scope': 'GOOGLE', 'types': ['lodging', 'point_of_interest', 'establishment'], 'user_ratings_total': 20, 'vicinity': 'Libya'}, {'business_status': 'OPERATIONAL', 'geometry': {'location': {'lat': 29.1247653, 'lng': 15.9579618}, 'viewport': {'northeast': {'lat': 29.1261574302915, 'lng': 15.9595051802915}, 'southwest': {'lat': 29.1234594697085, 'lng': 15.95680721970849}}}, 'icon': 'https://maps.gstatic.com/mapfiles/place_api/icons/v1/png_71/lodging-71.png', 'name': 'محل سحر الشرق للاكسوارات والعطور والهدايا', 'place_id': 'ChIJDYEaNEZ5vhMRVwMOuZgO8Jw', 'plus_code': {'compound_code': '4XF5+W5 The Old Town of Hun, Libya', 'global_code': '7FXQ4XF5+W5'}, 'reference': 'ChIJDYEaNEZ5vhMRVwMOuZgO8Jw', 'scope': 'GOOGLE', 'types': ['lodging', 'point_of_interest', 'establishment'], 'vicinity': ''}, {'business_status': 'OPERATIONAL', 'geometry': {'location': {'lat': 29.12861800000001, 'lng': 15.962484}, 'viewport': {'northeast': {'lat': 29.1299572802915, 'lng': 15.9638344802915}, 'southwest': {'lat': 29.1272593197085, 'lng': 15.96113651970849}}}, 'icon': 'https://maps.gstatic.com/mapfiles/place_api/icons/v1/png_71/lodging-71.png', 'name': 'النكت الليبيه المضحكه', 'place_id': 'ChIJsyk8fFR5vhMRSeqhXr-WgZo', 'plus_code': {'compound_code': '4XH6+CX The Old Town of Hun, Libya', 'global_code': '7FXQ4XH6+CX'}, 'reference': 'ChIJsyk8fFR5vhMRSeqhXr-WgZo', 'scope': 'GOOGLE', 'types': ['lodging', 'point_of_interest', 'establishment'], 'vicinity': 'Unnamed Road'}, {'business_status': 'OPERATIONAL', 'geometry': {'location': {'lat': 29.1245433, 'lng': 15.9328815}, 'viewport': {'northeast': {'lat': 29.1259516802915, 'lng': 15.9341752302915}, 'southwest': {'lat': 29.1232537197085, 'lng': 15.93147726970849}}}, 'icon': 'https://maps.gstatic.com/mapfiles/place_api/icons/v1/png_71/lodging-71.png', 'name': 'دار هون للضيافة', 'photos': [{'height': 3024, 'html_attributions': ['<a href=\"https://maps.google.com/maps/contrib/100541093336477663111\">ibrahim alazhry</a>'], 'photo_reference': 'ATtYBwLkmUCssBr8oyFM0uV_r6SU0I3Yi8UTxSkGm5M4nL4jZMFKLjz4g7F0QzHYKIWyjoHaLuv5vXOB-6YGs2H2EdDlAMDjSAVjoQN_M1sPHKScCm0qq5dxJXTSLc2xCrzFMn7pQalc_e2gpLvo9P9YKxf4jLzIrJz5h_RdtNpUR6yuxu3b', 'width': 4032}], 'place_id': 'ChIJAVuEyMt5vhMRTf6QN8jRmRY', 'plus_code': {'compound_code': '4WFM+R5 The Old Town of Hun, Libya', 'global_code': '7FXQ4WFM+R5'}, 'rating': 2.8, 'reference': 'ChIJAVuEyMt5vhMRTf6QN8jRmRY', 'scope': 'GOOGLE', 'types': ['lodging', 'point_of_interest', 'establishment'], 'user_ratings_total': 6, 'vicinity': ''}, {'business_status': 'OPERATIONAL', 'geometry': {'location': {'lat': 29.1342347, 'lng': 15.9721734}, 'viewport': {'northeast': {'lat': 29.1355882802915, 'lng': 15.9735554302915}, 'southwest': {'lat': 29.1328903197085, 'lng': 15.9708574697085}}}, 'icon': 'https://maps.gstatic.com/mapfiles/place_api/icons/v1/png_71/lodging-71.png', 'name': 'فندق الواحات', 'place_id': 'ChIJNZtLOZ93vhMR2Ht4QU8CAgE', 'plus_code': {'compound_code': '4XMC+MV البلاد الحويله، Libya', 'global_code': '7FXQ4XMC+MV'}, 'reference': 'ChIJNZtLOZ93vhMR2Ht4QU8CAgE', 'scope': 'GOOGLE', 'types': ['lodging', 'point_of_interest', 'establishment'], 'vicinity': ''}, {'business_status': 'OPERATIONAL', 'geometry': {'location': {'lat': 29.1237285, 'lng': 15.9206037}, 'viewport': {'northeast': {'lat': 29.12470728029149, 'lng': 15.9217189302915}, 'southwest': {'lat': 29.12200931970849, 'lng': 15.9190209697085}}}, 'icon': 'https://maps.gstatic.com/mapfiles/place_api/icons/v1/png_71/lodging-71.png', 'name': 'بيوت الشباب', 'photos': [{'height': 3024, 'html_attributions': ['<a href=\"https://maps.google.com/maps/contrib/100305600345274575925\">hakim sfrani</a>'], 'photo_reference': 'ATtYBwKqfYZhG1oukFUN2CXl5LD7KhRv-0BTXuPPs5sV8PjwRuBOnd3lY6R3sA_BfE496aF3ret6qBnfwFTHOyaera3epGd6NSgEStJwECu8azwV256ON1pU8cvwVJwzvJBhnVfDWZUzrqQTm938S5IrYBtmv9iQqBHxEaIRk6LFWu5FCCJ7', 'width': 4032}], 'place_id': 'ChIJb1TSr3V5vhMRTFZz1G2iVbk', 'plus_code': {'compound_code': '4WFC+F6 The Old Town of Hun, Libya', 'global_code': '7FXQ4WFC+F6'}, 'rating': 3.8, 'reference': 'ChIJb1TSr3V5vhMRTFZz1G2iVbk', 'scope': 'GOOGLE', 'types': ['lodging', 'point_of_interest', 'establishment'], 'user_ratings_total': 91, 'vicinity': ''}, {'business_status': 'OPERATIONAL', 'geometry': {'location': {'lat': 29.1171202, 'lng': 15.9157661}, 'viewport': {'northeast': {'lat': 29.1186321802915, 'lng': 15.9169713802915}, 'southwest': {'lat': 29.1159342197085, 'lng': 15.9142734197085}}}, 'icon': 'https://maps.gstatic.com/mapfiles/place_api/icons/v1/png_71/lodging-71.png', 'name': 'فندق رواسي', 'photos': [{'height': 444, 'html_attributions': ['<a href=\"https://maps.google.com/maps/contrib/117418659883864423349\">Gareh 716</a>'], 'photo_reference': 'ATtYBwKZm0ygJSGFS7_3Qs4NREREGKwzEeaU8d_v-mqnK-BohWNXza62wc6oOaniF467Tr3TTm_uUDaQ75Hc1T3CX47OMvl6ri1Ns_07Hz3TGSiy5n5aRhEKNwtmpKVpctLeISPECc_xc5d8bAvGFiwStKkxGrujv6MiHEYeZVdKNNBZJg60', 'width': 480}], 'place_id': 'ChIJpcM7vXB5vhMRj1Tz-KFC0lg', 'plus_code': {'compound_code': '4W88+R8 The Old Town of Hun, Libya', 'global_code': '7FXQ4W88+R8'}, 'rating': 3.7, 'reference': 'ChIJpcM7vXB5vhMRj1Tz-KFC0lg', 'scope': 'GOOGLE', 'types': ['lodging', 'point_of_interest', 'establishment'], 'user_ratings_total': 24, 'vicinity': 'Libya'}]\n"
     ]
    },
    {
     "name": "stdout",
     "output_type": "stream",
     "text": [
      "[]\n"
     ]
    },
    {
     "ename": "IndexError",
     "evalue": "list index out of range",
     "output_type": "error",
     "traceback": [
      "\u001b[1;31m---------------------------------------------------------------------------\u001b[0m",
      "\u001b[1;31mIndexError\u001b[0m                                Traceback (most recent call last)",
      "\u001b[1;32m<ipython-input-27-1e9f2e8594e1>\u001b[0m in \u001b[0;36m<module>\u001b[1;34m\u001b[0m\n\u001b[0;32m     21\u001b[0m     \u001b[0mresults\u001b[0m \u001b[1;33m=\u001b[0m \u001b[0mresponse\u001b[0m\u001b[1;33m[\u001b[0m\u001b[1;34m'results'\u001b[0m\u001b[1;33m]\u001b[0m\u001b[1;33m\u001b[0m\u001b[1;33m\u001b[0m\u001b[0m\n\u001b[0;32m     22\u001b[0m     \u001b[0mprint\u001b[0m\u001b[1;33m(\u001b[0m\u001b[0mresults\u001b[0m\u001b[1;33m)\u001b[0m\u001b[1;33m\u001b[0m\u001b[1;33m\u001b[0m\u001b[0m\n\u001b[1;32m---> 23\u001b[1;33m     \u001b[0mhotel_df\u001b[0m\u001b[1;33m.\u001b[0m\u001b[0mloc\u001b[0m\u001b[1;33m[\u001b[0m\u001b[0mindex\u001b[0m\u001b[1;33m,\u001b[0m\u001b[1;34m\"Hotel Name\"\u001b[0m\u001b[1;33m]\u001b[0m \u001b[1;33m=\u001b[0m \u001b[0mresults\u001b[0m\u001b[1;33m[\u001b[0m\u001b[1;36m0\u001b[0m\u001b[1;33m]\u001b[0m\u001b[1;33m[\u001b[0m\u001b[1;34m'name'\u001b[0m\u001b[1;33m]\u001b[0m\u001b[1;33m\u001b[0m\u001b[1;33m\u001b[0m\u001b[0m\n\u001b[0m",
      "\u001b[1;31mIndexError\u001b[0m: list index out of range"
     ]
    }
   ],
   "source": [
    "hotel_df = nice_cities\n",
    "hotel_df[\"Hotel Name\"] = ''\n",
    "\n",
    "base_url = \"https://maps.googleapis.com/maps/api/place/nearbysearch/json\"\n",
    "params = {\n",
    "    \"radius\": 5000,\n",
    "    \"type\": \"lodging\",\n",
    "    \"key\": g_key,\n",
    "}\n",
    "\n",
    "# use iterrows to iterate through pandas dataframe\n",
    "for index, row in hotel_df.iterrows():\n",
    "\n",
    "    # add keyword to params dict\n",
    "    params['location'] = str(hotel_df.loc[index,\"Lat\"]) + \",\" + str(hotel_df.loc[index,\"Lng\"])\n",
    "\n",
    "    # assemble url and make API request\n",
    "    response = requests.get(base_url, params=params).json()\n",
    "    \n",
    "    # extract results\n",
    "    results = response['results']\n",
    "    print(results)\n",
    "    hotel_df.loc[index,\"Hotel Name\"] = results[0]['name']"
   ]
  },
  {
   "cell_type": "code",
   "execution_count": 28,
   "metadata": {},
   "outputs": [
    {
     "data": {
      "text/html": [
       "<div>\n",
       "<style scoped>\n",
       "    .dataframe tbody tr th:only-of-type {\n",
       "        vertical-align: middle;\n",
       "    }\n",
       "\n",
       "    .dataframe tbody tr th {\n",
       "        vertical-align: top;\n",
       "    }\n",
       "\n",
       "    .dataframe thead th {\n",
       "        text-align: right;\n",
       "    }\n",
       "</style>\n",
       "<table border=\"1\" class=\"dataframe\">\n",
       "  <thead>\n",
       "    <tr style=\"text-align: right;\">\n",
       "      <th></th>\n",
       "      <th>Unnamed: 0</th>\n",
       "      <th>City</th>\n",
       "      <th>Lat</th>\n",
       "      <th>Lng</th>\n",
       "      <th>Max Temp</th>\n",
       "      <th>Humidity</th>\n",
       "      <th>Cloudiness</th>\n",
       "      <th>Wind Speed</th>\n",
       "      <th>Country</th>\n",
       "      <th>Date</th>\n",
       "      <th>Hotel Name</th>\n",
       "    </tr>\n",
       "  </thead>\n",
       "  <tbody>\n",
       "    <tr>\n",
       "      <th>49</th>\n",
       "      <td>49</td>\n",
       "      <td>Kālia</td>\n",
       "      <td>23.0396</td>\n",
       "      <td>89.6328</td>\n",
       "      <td>65.10</td>\n",
       "      <td>48</td>\n",
       "      <td>1</td>\n",
       "      <td>14.20</td>\n",
       "      <td>BD</td>\n",
       "      <td>1612633906</td>\n",
       "      <td>সামিয়া এন্টারপ্রাইজ</td>\n",
       "    </tr>\n",
       "    <tr>\n",
       "      <th>158</th>\n",
       "      <td>158</td>\n",
       "      <td>Biltine</td>\n",
       "      <td>14.5333</td>\n",
       "      <td>20.9167</td>\n",
       "      <td>72.27</td>\n",
       "      <td>18</td>\n",
       "      <td>1</td>\n",
       "      <td>13.58</td>\n",
       "      <td>TD</td>\n",
       "      <td>1612634083</td>\n",
       "      <td>Hôtel Trois Étoiles de Biltine</td>\n",
       "    </tr>\n",
       "    <tr>\n",
       "      <th>241</th>\n",
       "      <td>241</td>\n",
       "      <td>Isiro</td>\n",
       "      <td>2.7739</td>\n",
       "      <td>27.6160</td>\n",
       "      <td>74.30</td>\n",
       "      <td>33</td>\n",
       "      <td>0</td>\n",
       "      <td>2.44</td>\n",
       "      <td>CD</td>\n",
       "      <td>1612634222</td>\n",
       "      <td>Guest House Hewa Bora</td>\n",
       "    </tr>\n",
       "    <tr>\n",
       "      <th>383</th>\n",
       "      <td>383</td>\n",
       "      <td>Hūn</td>\n",
       "      <td>29.1268</td>\n",
       "      <td>15.9477</td>\n",
       "      <td>70.47</td>\n",
       "      <td>21</td>\n",
       "      <td>0</td>\n",
       "      <td>7.99</td>\n",
       "      <td>LY</td>\n",
       "      <td>1612634446</td>\n",
       "      <td>Alrwasi Hotel</td>\n",
       "    </tr>\n",
       "    <tr>\n",
       "      <th>483</th>\n",
       "      <td>483</td>\n",
       "      <td>Awjilah</td>\n",
       "      <td>29.1081</td>\n",
       "      <td>21.2869</td>\n",
       "      <td>65.28</td>\n",
       "      <td>31</td>\n",
       "      <td>40</td>\n",
       "      <td>9.08</td>\n",
       "      <td>LY</td>\n",
       "      <td>1612634601</td>\n",
       "      <td></td>\n",
       "    </tr>\n",
       "    <tr>\n",
       "      <th>494</th>\n",
       "      <td>494</td>\n",
       "      <td>Coyhaique</td>\n",
       "      <td>-45.5752</td>\n",
       "      <td>-72.0662</td>\n",
       "      <td>69.80</td>\n",
       "      <td>43</td>\n",
       "      <td>0</td>\n",
       "      <td>10.36</td>\n",
       "      <td>CL</td>\n",
       "      <td>1612634505</td>\n",
       "      <td></td>\n",
       "    </tr>\n",
       "    <tr>\n",
       "      <th>548</th>\n",
       "      <td>548</td>\n",
       "      <td>Waddān</td>\n",
       "      <td>29.1614</td>\n",
       "      <td>16.1390</td>\n",
       "      <td>69.31</td>\n",
       "      <td>22</td>\n",
       "      <td>0</td>\n",
       "      <td>7.83</td>\n",
       "      <td>LY</td>\n",
       "      <td>1612634700</td>\n",
       "      <td></td>\n",
       "    </tr>\n",
       "  </tbody>\n",
       "</table>\n",
       "</div>"
      ],
      "text/plain": [
       "     Unnamed: 0       City      Lat      Lng  Max Temp  Humidity  Cloudiness  \\\n",
       "49           49      Kālia  23.0396  89.6328     65.10        48           1   \n",
       "158         158    Biltine  14.5333  20.9167     72.27        18           1   \n",
       "241         241      Isiro   2.7739  27.6160     74.30        33           0   \n",
       "383         383        Hūn  29.1268  15.9477     70.47        21           0   \n",
       "483         483    Awjilah  29.1081  21.2869     65.28        31          40   \n",
       "494         494  Coyhaique -45.5752 -72.0662     69.80        43           0   \n",
       "548         548     Waddān  29.1614  16.1390     69.31        22           0   \n",
       "\n",
       "     Wind Speed Country        Date                      Hotel Name  \n",
       "49        14.20      BD  1612633906             সামিয়া এন্টারপ্রাইজ  \n",
       "158       13.58      TD  1612634083  Hôtel Trois Étoiles de Biltine  \n",
       "241        2.44      CD  1612634222           Guest House Hewa Bora  \n",
       "383        7.99      LY  1612634446                   Alrwasi Hotel  \n",
       "483        9.08      LY  1612634601                                  \n",
       "494       10.36      CL  1612634505                                  \n",
       "548        7.83      LY  1612634700                                  "
      ]
     },
     "execution_count": 28,
     "metadata": {},
     "output_type": "execute_result"
    }
   ],
   "source": [
    "hotel_df"
   ]
  },
  {
   "cell_type": "code",
   "execution_count": 29,
   "metadata": {},
   "outputs": [
    {
     "data": {
      "text/plain": [
       "array([[ 23.0396,  89.6328],\n",
       "       [ 14.5333,  20.9167],\n",
       "       [  2.7739,  27.616 ],\n",
       "       [ 29.1268,  15.9477],\n",
       "       [ 29.1081,  21.2869],\n",
       "       [-45.5752, -72.0662],\n",
       "       [ 29.1614,  16.139 ]])"
      ]
     },
     "execution_count": 29,
     "metadata": {},
     "output_type": "execute_result"
    }
   ],
   "source": [
    "# NOTE: Do not change any of the code in this cell\n",
    "\n",
    "# Using the template add the hotel marks to the heatmap\n",
    "info_box_template = \"\"\"\n",
    "<dl>\n",
    "<dt>Name</dt><dd>{Hotel Name}</dd>\n",
    "<dt>City</dt><dd>{City}</dd>\n",
    "<dt>Country</dt><dd>{Country}</dd>\n",
    "</dl>\n",
    "\"\"\"\n",
    "# Store the DataFrame Row\n",
    "# NOTE: be sure to update with your DataFrame name\n",
    "hotel_info = [info_box_template.format(**row) for index, row in hotel_df.iterrows()]\n",
    "locationss = hotel_df[[\"Lat\", \"Lng\"]]\n",
    "locationss.values"
   ]
  },
  {
   "cell_type": "code",
   "execution_count": 30,
   "metadata": {},
   "outputs": [
    {
     "data": {
      "application/vnd.jupyter.widget-view+json": {
       "model_id": "07b02b429b494e1aa81983ff1911de81",
       "version_major": 2,
       "version_minor": 0
      },
      "text/plain": [
       "Figure(layout=FigureLayout(height='420px'))"
      ]
     },
     "metadata": {},
     "output_type": "display_data"
    }
   ],
   "source": [
    "# Add marker layer ontop of heat map\n",
    "# Assign the marker layer to a variable\n",
    "markers = gmaps.marker_layer(locationss.values, info_box_content=hotel_info)\n",
    "# Add the layer to the map\n",
    "fig.add_layer(markers)\n",
    "fig\n",
    "\n",
    "# Display figure\n"
   ]
  },
  {
   "cell_type": "code",
   "execution_count": null,
   "metadata": {},
   "outputs": [],
   "source": []
  }
 ],
 "metadata": {
  "kernelspec": {
   "display_name": "Python 3",
   "language": "python",
   "name": "python3"
  },
  "language_info": {
   "codemirror_mode": {
    "name": "ipython",
    "version": 3
   },
   "file_extension": ".py",
   "mimetype": "text/x-python",
   "name": "python",
   "nbconvert_exporter": "python",
   "pygments_lexer": "ipython3",
   "version": "3.6.12"
  },
  "latex_envs": {
   "LaTeX_envs_menu_present": true,
   "autoclose": false,
   "autocomplete": true,
   "bibliofile": "biblio.bib",
   "cite_by": "apalike",
   "current_citInitial": 1,
   "eqLabelWithNumbers": true,
   "eqNumInitial": 1,
   "hotkeys": {
    "equation": "Ctrl-E",
    "itemize": "Ctrl-I"
   },
   "labels_anchors": false,
   "latex_user_defs": false,
   "report_style_numbering": false,
   "user_envs_cfg": false
  }
 },
 "nbformat": 4,
 "nbformat_minor": 4
}
